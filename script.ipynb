{
 "cells": [
  {
   "cell_type": "code",
   "execution_count": 3,
   "id": "31d21575",
   "metadata": {},
   "outputs": [],
   "source": [
    "import requests\n",
    "import pandas as pd"
   ]
  },
  {
   "cell_type": "code",
   "execution_count": 4,
   "id": "875598d5",
   "metadata": {},
   "outputs": [],
   "source": [
    "# Reemplaza esto con tu API KEY real\n",
    "API_KEY = \"-OB98o2z-soqNKnClKAU9Pa56sWIM21ahhIK0seozHCv9NGz\"\n",
    "\n",
    "headers = {\n",
    "    \"x-messari-api-key\": API_KEY\n",
    "}\n",
    "\n",
    "# Endpoint para listar activos (paginado)\n",
    "url = \"https://data.messari.io/api/v2/assets\""
   ]
  },
  {
   "cell_type": "code",
   "execution_count": 5,
   "id": "5f6f8284",
   "metadata": {},
   "outputs": [],
   "source": [
    "# Hacemos la solicitud\n",
    "response = requests.get(url, headers=headers)\n",
    "data = response.json()"
   ]
  },
  {
   "cell_type": "code",
   "execution_count": 7,
   "id": "f3d1b885",
   "metadata": {},
   "outputs": [],
   "source": [
    "# Convertimos a DataFrame\n",
    "assets = pd.json_normalize(data[\"data\"])"
   ]
  },
  {
   "cell_type": "code",
   "execution_count": 8,
   "id": "a577ac61",
   "metadata": {},
   "outputs": [
    {
     "name": "stdout",
     "output_type": "stream",
     "text": [
      "['id', 'serial_id', 'symbol', 'name', 'slug', 'contract_addresses', '_internal_temp_agora_id', 'metrics.market_data.price_usd', 'metrics.market_data.price_btc', 'metrics.market_data.price_eth', 'metrics.market_data.volume_last_24_hours', 'metrics.market_data.real_volume_last_24_hours', 'metrics.market_data.volume_last_24_hours_overstatement_multiple', 'metrics.market_data.percent_change_usd_last_1_hour', 'metrics.market_data.percent_change_btc_last_1_hour', 'metrics.market_data.percent_change_eth_last_1_hour', 'metrics.market_data.percent_change_usd_last_24_hours', 'metrics.market_data.percent_change_btc_last_24_hours', 'metrics.market_data.percent_change_eth_last_24_hours', 'metrics.market_data.ohlcv_last_1_hour.open', 'metrics.market_data.ohlcv_last_1_hour.high', 'metrics.market_data.ohlcv_last_1_hour.low', 'metrics.market_data.ohlcv_last_1_hour.close', 'metrics.market_data.ohlcv_last_1_hour.volume', 'metrics.market_data.ohlcv_last_24_hour.open', 'metrics.market_data.ohlcv_last_24_hour.high', 'metrics.market_data.ohlcv_last_24_hour.low', 'metrics.market_data.ohlcv_last_24_hour.close', 'metrics.market_data.ohlcv_last_24_hour.volume', 'metrics.market_data.last_trade_at', 'metrics.marketcap.rank', 'metrics.marketcap.marketcap_dominance_percent', 'metrics.marketcap.current_marketcap_usd', 'metrics.marketcap.y_2050_marketcap_usd', 'metrics.marketcap.y_plus10_marketcap_usd', 'metrics.marketcap.liquid_marketcap_usd', 'metrics.marketcap.volume_turnover_last_24_hours_percent', 'metrics.marketcap.realized_marketcap_usd', 'metrics.marketcap.outstanding_marketcap_usd', 'metrics.supply.y_2050', 'metrics.supply.y_plus10', 'metrics.supply.liquid', 'metrics.supply.circulating', 'metrics.supply.y_2050_issued_percent', 'metrics.supply.annual_inflation_percent', 'metrics.supply.stock_to_flow', 'metrics.supply.y_plus10_issued_percent', 'metrics.supply.supply_revived_90d', 'metrics.blockchain_stats_24_hours.count_of_active_addresses', 'metrics.blockchain_stats_24_hours.transaction_volume', 'metrics.blockchain_stats_24_hours.adjusted_transaction_volume', 'metrics.blockchain_stats_24_hours.adjusted_nvt', 'metrics.blockchain_stats_24_hours.median_tx_value', 'metrics.blockchain_stats_24_hours.median_tx_fee', 'metrics.blockchain_stats_24_hours.count_of_tx', 'metrics.blockchain_stats_24_hours.count_of_payments', 'metrics.blockchain_stats_24_hours.new_issuance', 'metrics.blockchain_stats_24_hours.average_difficulty', 'metrics.blockchain_stats_24_hours.kilobytes_added', 'metrics.blockchain_stats_24_hours.count_of_blocks_added', 'metrics.market_data_liquidity.clearing_prices_to_sell', 'metrics.market_data_liquidity.marketcap', 'metrics.market_data_liquidity.asset_bid_depth', 'metrics.market_data_liquidity.usd_bid_depth', 'metrics.market_data_liquidity.updated_at', 'metrics.all_time_high.price', 'metrics.all_time_high.at', 'metrics.all_time_high.days_since', 'metrics.all_time_high.percent_down', 'metrics.all_time_high.breakeven_multiple', 'metrics.cycle_low.price', 'metrics.cycle_low.at', 'metrics.cycle_low.percent_up', 'metrics.cycle_low.days_since', 'metrics.token_sale_stats.sale_proceeds_usd', 'metrics.token_sale_stats.sale_start_date', 'metrics.token_sale_stats.sale_end_date', 'metrics.token_sale_stats.roi_since_sale_usd_percent', 'metrics.token_sale_stats.roi_since_sale_btc_percent', 'metrics.token_sale_stats.roi_since_sale_eth_percent', 'metrics.mining_stats.mining_algo', 'metrics.mining_stats.network_hash_rate', 'metrics.mining_stats.available_on_nicehash_percent', 'metrics.mining_stats.1_hour_attack_cost', 'metrics.mining_stats.24_hours_attack_cost', 'metrics.mining_stats.attack_appeal', 'metrics.mining_stats.hash_rate', 'metrics.mining_stats.hash_rate_30d_average', 'metrics.mining_stats.mining_revenue_per_hash_usd', 'metrics.mining_stats.mining_revenue_per_hash_native_units', 'metrics.mining_stats.mining_revenue_per_hash_per_second_usd', 'metrics.mining_stats.mining_revenue_per_hash_per_second_native_units', 'metrics.mining_stats.mining_revenue_from_fees_percent_last_24_hours', 'metrics.mining_stats.mining_revenue_native', 'metrics.mining_stats.mining_revenue_usd', 'metrics.mining_stats.mining_revenue_total', 'metrics.mining_stats.average_difficulty', 'metrics.developer_activity.stars', 'metrics.developer_activity.watchers', 'metrics.developer_activity.commits_last_3_months', 'metrics.developer_activity.commits_last_1_year', 'metrics.developer_activity.lines_added_last_3_months', 'metrics.developer_activity.lines_added_last_1_year', 'metrics.developer_activity.lines_deleted_last_3_months', 'metrics.developer_activity.lines_deleted_last_1_year', 'metrics.roi_data.percent_change_last_1_week', 'metrics.roi_data.percent_change_last_1_month', 'metrics.roi_data.percent_change_last_3_months', 'metrics.roi_data.percent_change_last_1_year', 'metrics.roi_data.percent_change_btc_last_1_week', 'metrics.roi_data.percent_change_btc_last_1_month', 'metrics.roi_data.percent_change_btc_last_3_months', 'metrics.roi_data.percent_change_btc_last_1_year', 'metrics.roi_data.percent_change_eth_last_1_week', 'metrics.roi_data.percent_change_eth_last_1_month', 'metrics.roi_data.percent_change_eth_last_3_months', 'metrics.roi_data.percent_change_eth_last_1_year', 'metrics.roi_data.percent_change_month_to_date', 'metrics.roi_data.percent_change_quarter_to_date', 'metrics.roi_data.percent_change_year_to_date', 'metrics.roi_by_year.2021_usd_percent', 'metrics.roi_by_year.2020_usd_percent', 'metrics.roi_by_year.2019_usd_percent', 'metrics.roi_by_year.2018_usd_percent', 'metrics.roi_by_year.2017_usd_percent', 'metrics.roi_by_year.2016_usd_percent', 'metrics.roi_by_year.2015_usd_percent', 'metrics.roi_by_year.2014_usd_percent', 'metrics.roi_by_year.2013_usd_percent', 'metrics.roi_by_year.2012_usd_percent', 'metrics.roi_by_year.2011_usd_percent', 'metrics.risk_metrics.sharpe_ratios.last_30_days', 'metrics.risk_metrics.sharpe_ratios.last_90_days', 'metrics.risk_metrics.sharpe_ratios.last_1_year', 'metrics.risk_metrics.sharpe_ratios.last_3_years', 'metrics.risk_metrics.volatility_stats.volatility_last_30_days', 'metrics.risk_metrics.volatility_stats.volatility_last_90_days', 'metrics.risk_metrics.volatility_stats.volatility_last_1_year', 'metrics.risk_metrics.volatility_stats.volatility_last_3_years', 'metrics.misc_data.private_market_price_usd', 'metrics.misc_data.vladimir_club_cost', 'metrics.misc_data.btc_current_normalized_supply_price_usd', 'metrics.misc_data.btc_y2050_normalized_supply_price_usd', 'metrics.misc_data.asset_created_at', 'metrics.misc_data.asset_age_days', 'metrics.misc_data.categories', 'metrics.misc_data.sectors', 'metrics.misc_data.tags', 'metrics.reddit.active_user_count', 'metrics.reddit.subscribers', 'metrics.on_chain_data.addresses_count', 'metrics.on_chain_data.active_addresses', 'metrics.on_chain_data.active_addresses_received_count', 'metrics.on_chain_data.active_addresses_sent_count', 'metrics.on_chain_data.addresses_balance_greater_0_001_native_units_count', 'metrics.on_chain_data.addresses_balance_greater_0_01_native_units_count', 'metrics.on_chain_data.addresses_balance_greater_0_1_native_units_count', 'metrics.on_chain_data.addresses_balance_greater_1_usd_count', 'metrics.on_chain_data.addresses_balance_greater_1_native_units_count', 'metrics.on_chain_data.addresses_balance_greater_10_usd_count', 'metrics.on_chain_data.addresses_balance_greater_10_native_units_count', 'metrics.on_chain_data.addresses_balance_greater_100_usd_count', 'metrics.on_chain_data.addresses_balance_greater_100_native_units_count', 'metrics.on_chain_data.addresses_balance_greater_100k_usd_count', 'metrics.on_chain_data.addresses_balance_greater_100k_native_units_count', 'metrics.on_chain_data.addresses_balance_greater_10k_usd_count', 'metrics.on_chain_data.addresses_balance_greater_10k_native_units_count', 'metrics.on_chain_data.addresses_balance_greater_10m_usd_count', 'metrics.on_chain_data.addresses_balance_greater_1k_usd_count', 'metrics.on_chain_data.addresses_balance_greater_1k_native_units_count', 'metrics.on_chain_data.addresses_balance_greater_1m_usd_count', 'metrics.on_chain_data.addresses_balance_greater_1m_native_units_count', 'metrics.on_chain_data.average_block_gas_limit', 'metrics.on_chain_data.block_height', 'metrics.on_chain_data.average_block_interval', 'metrics.on_chain_data.blocks_added_last_24_hours', 'metrics.on_chain_data.block_size_bytes_total', 'metrics.on_chain_data.block_size_bytes_average', 'metrics.on_chain_data.uncle_blocks_count_last_24_hours', 'metrics.on_chain_data.uncle_rewards_last_24_hours_usd', 'metrics.on_chain_data.uncle_rewards_last_24_hours_native_units', 'metrics.on_chain_data.mining_revenue_from_uncle_blocks_percent_last_24_hours', 'metrics.on_chain_data.block_weight', 'metrics.on_chain_data.average_block_weight', 'metrics.on_chain_data.total_fees_last_24_hours', 'metrics.on_chain_data.total_fees_last_24_hours_usd', 'metrics.on_chain_data.hash_rate', 'metrics.on_chain_data.issuance_last_24_hours_native_units', 'metrics.on_chain_data.issuance_rate_daily', 'metrics.on_chain_data.issuance_total_usd', 'metrics.on_chain_data.issuance_total_native_units', 'metrics.on_chain_data.new_issuance', 'metrics.on_chain_data.issuance_rate', 'metrics.on_chain_data.realized_marketcap_usd', 'metrics.on_chain_data.adjusted_nvt', 'metrics.on_chain_data.adjusted_nvt_90d_moving_average', 'metrics.on_chain_data.adjusted_rvt', 'metrics.on_chain_data.adjusted_rvt_90d_moving_average', 'metrics.on_chain_data.txn_count_last_24_hours', 'metrics.on_chain_data.txn_contracts_calls_count_last_24_hours', 'metrics.on_chain_data.txn_contracts_calls_success_count_last_24_hours', 'metrics.on_chain_data.txn_contracts_creation_count_last_24_hours', 'metrics.on_chain_data.txn_contracts_destruction_count_last_24_hours', 'metrics.on_chain_data.txn_contracts_count_last_24_hours', 'metrics.on_chain_data.txn_erc20_count_last_24_hours', 'metrics.on_chain_data.txn_erc721_count_last_24_hours', 'metrics.on_chain_data.txn_per_second_count', 'metrics.on_chain_data.txn_token_count_last_24_hours', 'metrics.on_chain_data.average_fee_usd', 'metrics.on_chain_data.average_fee_native_units', 'metrics.on_chain_data.median_fee_usd', 'metrics.on_chain_data.median_fee_native_units', 'metrics.on_chain_data.average_txn_gas_used', 'metrics.on_chain_data.txn_gas_limit_last_24_hours', 'metrics.on_chain_data.average_txn_gas_limit', 'metrics.on_chain_data.txn_gas_used_last_24_hours', 'metrics.on_chain_data.transfer_count_last_24_hours', 'metrics.on_chain_data.transfer_erc_20_count_last_24_hours', 'metrics.on_chain_data.transfer_erc721_count_last_24_hours', 'metrics.on_chain_data.txn_volume_last_24_hours_usd', 'metrics.on_chain_data.adjusted_txn_volume_last_24_hours_usd', 'metrics.on_chain_data.adjusted_txn_volume_last_24_hours_native_units', 'metrics.on_chain_data.txn_volume_last_24_hours_native_units', 'metrics.on_chain_data.average_transfer_value_usd', 'metrics.on_chain_data.average_transfer_value_native_units', 'metrics.on_chain_data.median_transfer_value_usd', 'metrics.on_chain_data.median_transfer_value_native_units', 'metrics.on_chain_data.average_utxo_age', 'metrics.on_chain_data.value_weighted_average_utxo_age', 'metrics.on_chain_data.median_utxo_age', 'metrics.on_chain_data.utxo_count_last_24_hours', 'metrics.on_chain_data.utxo_in_loss_count', 'metrics.on_chain_data.utxo_in_profit_count', 'metrics.exchange_flows.flow_in_exchange_native_units', 'metrics.exchange_flows.flow_in_exchange_usd', 'metrics.exchange_flows.flow_in_exchange_native_units_inclusive', 'metrics.exchange_flows.flow_in_exchange_usd_inclusive', 'metrics.exchange_flows.flow_out_exchange_native_units', 'metrics.exchange_flows.flow_out_exchange_usd', 'metrics.exchange_flows.flow_out_exchange_native_units_inclusive', 'metrics.exchange_flows.flow_out_exchange_usd_inclusive', 'metrics.exchange_flows.flow_in_binance_usd', 'metrics.exchange_flows.flow_in_binance_native_units', 'metrics.exchange_flows.flow_in_bitfinex_usd', 'metrics.exchange_flows.flow_in_bitfinex_native_units', 'metrics.exchange_flows.flow_in_bitmex_usd', 'metrics.exchange_flows.flow_in_bitmex_native_units', 'metrics.exchange_flows.flow_in_bitstamp_usd', 'metrics.exchange_flows.flow_in_bitstamp_native_units', 'metrics.exchange_flows.flow_in_bittrex_usd', 'metrics.exchange_flows.flow_in_bittrex_native_units', 'metrics.exchange_flows.flow_in_gemini_usd', 'metrics.exchange_flows.flow_in_gemini_native_units', 'metrics.exchange_flows.flow_in_huobi_usd', 'metrics.exchange_flows.flow_in_huobi_native_units', 'metrics.exchange_flows.flow_in_kraken_usd', 'metrics.exchange_flows.flow_in_kraken_native_units', 'metrics.exchange_flows.flow_in_poloniex_usd', 'metrics.exchange_flows.flow_in_poloniex_native_units', 'metrics.exchange_flows.flow_net_binance_usd', 'metrics.exchange_flows.flow_net_binance_native_units', 'metrics.exchange_flows.flow_net_bitfinex_usd', 'metrics.exchange_flows.flow_net_bitfinex_native_units', 'metrics.exchange_flows.flow_net_bitmex_usd', 'metrics.exchange_flows.flow_net_bitmex_native_units', 'metrics.exchange_flows.flow_net_bitstamp_usd', 'metrics.exchange_flows.flow_net_bitstamp_native_units', 'metrics.exchange_flows.flow_net_bittrex_usd', 'metrics.exchange_flows.flow_net_bittrex_native_units', 'metrics.exchange_flows.flow_net_gemini_usd', 'metrics.exchange_flows.flow_net_gemini_native_units', 'metrics.exchange_flows.flow_net_huobi_usd', 'metrics.exchange_flows.flow_net_huobi_native_units', 'metrics.exchange_flows.flow_net_kraken_usd', 'metrics.exchange_flows.flow_net_kraken_native_units', 'metrics.exchange_flows.flow_net_poloniex_usd', 'metrics.exchange_flows.flow_net_poloniex_native_units', 'metrics.exchange_flows.flow_out_binance_usd', 'metrics.exchange_flows.flow_out_binance_native_units', 'metrics.exchange_flows.flow_out_bitfinex_usd', 'metrics.exchange_flows.flow_out_bitfinex_native_units', 'metrics.exchange_flows.flow_out_bitmex_usd', 'metrics.exchange_flows.flow_out_bitmex_native_units', 'metrics.exchange_flows.flow_out_bitstamp_usd', 'metrics.exchange_flows.flow_out_bitstamp_native_units', 'metrics.exchange_flows.flow_out_bittrex_usd', 'metrics.exchange_flows.flow_out_bittrex_native_units', 'metrics.exchange_flows.flow_out_gemini_usd', 'metrics.exchange_flows.flow_out_gemini_native_units', 'metrics.exchange_flows.flow_out_huobi_usd', 'metrics.exchange_flows.flow_out_huobi_native_units', 'metrics.exchange_flows.flow_out_kraken_usd', 'metrics.exchange_flows.flow_out_kraken_native_units', 'metrics.exchange_flows.flow_out_poloniex_usd', 'metrics.exchange_flows.flow_out_poloniex_native_units', 'metrics.exchange_flows.supply_exchange_native_units', 'metrics.exchange_flows.supply_exchange_usd', 'metrics.exchange_flows.supply_binance_usd', 'metrics.exchange_flows.supply_binance_native_units', 'metrics.exchange_flows.supply_bitfinex_usd', 'metrics.exchange_flows.supply_bitfinex_native_units', 'metrics.exchange_flows.supply_bitmex_usd', 'metrics.exchange_flows.supply_bitmex_native_units', 'metrics.exchange_flows.supply_bitstamp_usd', 'metrics.exchange_flows.supply_bitstamp_native_units', 'metrics.exchange_flows.supply_bittrex_usd', 'metrics.exchange_flows.supply_bittrex_native_units', 'metrics.exchange_flows.supply_gemini_usd', 'metrics.exchange_flows.supply_gemini_native_units', 'metrics.exchange_flows.supply_huobi_usd', 'metrics.exchange_flows.supply_huobi_native_units', 'metrics.exchange_flows.supply_kraken_usd', 'metrics.exchange_flows.supply_kraken_native_units', 'metrics.exchange_flows.supply_poloniex_usd', 'metrics.exchange_flows.supply_poloniex_native_units', 'metrics.miner_flows.supply_1hop_miners_usd', 'metrics.miner_flows.supply_1hop_miners_native_units', 'metrics.miner_flows.supply_miners_usd', 'metrics.miner_flows.supply_miners_native_units', 'metrics.supply_activity.supply_active_10y', 'metrics.supply_activity.supply_active_180d', 'metrics.supply_activity.supply_active_1d', 'metrics.supply_activity.supply_active_1y', 'metrics.supply_activity.supply_active_1y_percent', 'metrics.supply_activity.supply_active_2y', 'metrics.supply_activity.supply_active_30d', 'metrics.supply_activity.supply_active_3y', 'metrics.supply_activity.supply_active_4y', 'metrics.supply_activity.supply_active_5y', 'metrics.supply_activity.supply_active_7d', 'metrics.supply_activity.supply_active_90d', 'metrics.supply_activity.supply_active_ever', 'metrics.supply_activity.outstanding', 'metrics.supply_activity.supply_revived_1y', 'metrics.supply_activity.supply_revived_2y', 'metrics.supply_activity.supply_revived_30d', 'metrics.supply_activity.supply_revived_3y', 'metrics.supply_activity.supply_revived_4y', 'metrics.supply_activity.supply_revived_5y', 'metrics.supply_activity.supply_revived_7d', 'metrics.supply_activity.supply_revived_90d', 'metrics.supply_distribution.supply_in_addresses_balance_greater_0_001_native_units', 'metrics.supply_distribution.supply_in_addresses_balance_greater_0_01_native_units', 'metrics.supply_distribution.supply_in_addresses_balance_greater_0_1_native_units', 'metrics.supply_distribution.supply_in_addresses_balance_greater_1_usd', 'metrics.supply_distribution.supply_in_addresses_balance_greater_10_usd', 'metrics.supply_distribution.supply_in_addresses_balance_greater_100_usd', 'metrics.supply_distribution.supply_in_addresses_balance_greater_100k_usd', 'metrics.supply_distribution.supply_in_addresses_balance_greater_100k_native_units', 'metrics.supply_distribution.supply_in_addresses_balance_greater_100_native_units', 'metrics.supply_distribution.supply_in_addresses_balance_greater_10k_usd', 'metrics.supply_distribution.supply_in_addresses_balance_greater_10k_native_units', 'metrics.supply_distribution.supply_in_addresses_balance_greater_10m_usd', 'metrics.supply_distribution.supply_in_addresses_balance_greater_10_native_units', 'metrics.supply_distribution.supply_in_addresses_balance_greater_1k_usd', 'metrics.supply_distribution.supply_in_addresses_balance_greater_1k_native_units', 'metrics.supply_distribution.supply_in_addresses_balance_greater_1m_usd', 'metrics.supply_distribution.supply_in_addresses_balance_greater_1m_native_units', 'metrics.supply_distribution.supply_in_addresses_balance_greater_1_native_units', 'metrics.supply_distribution.supply_in_contracts_usd', 'metrics.supply_distribution.supply_in_contracts_native_units', 'metrics.supply_distribution.supply_shielded', 'metrics.supply_distribution.supply_in_top_100_addresses', 'metrics.supply_distribution.supply_in_top_10_percent_addresses', 'metrics.supply_distribution.supply_in_top_1_percent_addresses', 'metrics.supply_distribution.supply_in_utxo_in_loss', 'metrics.supply_distribution.supply_in_utxo_in_profit', 'metrics.alert_messages', 'profile.general.overview.is_verified', 'profile.general.overview.tagline', 'profile.general.overview.category', 'profile.general.overview.sector', 'profile.general.overview.tags', 'profile.general.overview.project_details', 'profile.general.overview.official_links', 'profile.general.background.background_details', 'profile.general.background.issuing_organizations', 'profile.general.roadmap', 'profile.general.regulation.regulatory_details', 'profile.general.regulation.sfar_score', 'profile.general.regulation.sfar_summary', 'profile.contributors.individuals', 'profile.contributors.organizations', 'profile.advisors.individuals', 'profile.advisors.organizations', 'profile.investors.individuals', 'profile.investors.organizations', 'profile.ecosystem.assets', 'profile.ecosystem.organizations', 'profile.economics.token.token_name', 'profile.economics.token.token_type', 'profile.economics.token.token_address', 'profile.economics.token.block_explorers', 'profile.economics.token.multitoken', 'profile.economics.token.token_usage', 'profile.economics.token.token_usage_details', 'profile.economics.launch.general.launch_style', 'profile.economics.launch.general.launch_details', 'profile.economics.launch.fundraising.sales_rounds', 'profile.economics.launch.fundraising.sales_documents', 'profile.economics.launch.fundraising.sales_treasury_accounts', 'profile.economics.launch.fundraising.treasury_policies', 'profile.economics.launch.fundraising.projected_use_of_sales_proceeds', 'profile.economics.launch.initial_distribution.initial_supply', 'profile.economics.launch.initial_distribution.initial_supply_repartition.allocated_to_investors_percentage', 'profile.economics.launch.initial_distribution.initial_supply_repartition.allocated_to_organization_or_founders_percentage', 'profile.economics.launch.initial_distribution.initial_supply_repartition.allocated_to_premined_rewards_or_airdrops_percentage', 'profile.economics.launch.initial_distribution.token_distribution_date', 'profile.economics.launch.initial_distribution.genesis_block_date', 'profile.economics.consensus_and_emission.supply.supply_curve_details', 'profile.economics.consensus_and_emission.supply.general_emission_type', 'profile.economics.consensus_and_emission.supply.precise_emission_type', 'profile.economics.consensus_and_emission.supply.is_capped_supply', 'profile.economics.consensus_and_emission.supply.max_supply', 'profile.economics.consensus_and_emission.consensus.consensus_details', 'profile.economics.consensus_and_emission.consensus.general_consensus_mechanism', 'profile.economics.consensus_and_emission.consensus.precise_consensus_mechanism', 'profile.economics.consensus_and_emission.consensus.targeted_block_time', 'profile.economics.consensus_and_emission.consensus.block_reward', 'profile.economics.consensus_and_emission.consensus.mining_algorithm', 'profile.economics.consensus_and_emission.consensus.next_halving_date', 'profile.economics.consensus_and_emission.consensus.is_victim_of_51_percent_attack', 'profile.economics.native_treasury.accounts', 'profile.economics.native_treasury.treasury_usage_details', 'profile.technology.overview.technology_details', 'profile.technology.overview.client_repositories', 'profile.technology.security.audits', 'profile.technology.security.known_exploits_and_vulnerabilities', 'profile.governance.governance_details', 'profile.governance.onchain_governance.onchain_governance_type', 'profile.governance.onchain_governance.onchain_governance_details', 'profile.governance.onchain_governance.is_treasury_decentralized', 'profile.governance.grants', 'profile.metadata.updated_at']\n"
     ]
    }
   ],
   "source": [
    "print(assets.columns.tolist())"
   ]
  },
  {
   "cell_type": "code",
   "execution_count": 9,
   "id": "688f2503",
   "metadata": {},
   "outputs": [],
   "source": [
    "# Seleccionar columnas disponibles y relevantes\n",
    "df = assets[[\n",
    "    \"id\", \"symbol\", \"name\",\n",
    "    \"metrics.market_data.price_usd\",\n",
    "    \"metrics.marketcap.current_marketcap_usd\",\n",
    "    \"metrics.market_data.volume_last_24_hours\",\n",
    "    \"metrics.market_data.percent_change_usd_last_24_hours\",\n",
    "    \"profile.general.overview.category\",\n",
    "    \"profile.general.overview.sector\",\n",
    "    \"profile.general.overview.tags\"\n",
    "]]"
   ]
  },
  {
   "cell_type": "code",
   "execution_count": 11,
   "id": "26a3e3e3",
   "metadata": {},
   "outputs": [],
   "source": [
    "# Renombrar columnas\n",
    "df.columns = [\n",
    "    \"id\", \"símbolo\", \"nombre\",\n",
    "    \"precio_usd\", \"market_cap_usd\", \"volumen_24h\", \"cambio_24h_pct\",\n",
    "    \"categoría\", \"sector\", \"tags\"\n",
    "]"
   ]
  },
  {
   "cell_type": "code",
   "execution_count": 12,
   "id": "7ec74361",
   "metadata": {},
   "outputs": [
    {
     "name": "stdout",
     "output_type": "stream",
     "text": [
      "                                     id símbolo    nombre     precio_usd  \\\n",
      "0  1e31218a-e44e-4285-820c-8282ee222035     BTC   Bitcoin  107479.701311   \n",
      "1  21c795f5-1bfd-40c3-858e-e9d7e820c6d0     ETH  Ethereum    2511.172716   \n",
      "2  51f8ea5e-f426-4f40-939a-db7e05495374    USDT    Tether       1.000170   \n",
      "3  97775be0-2608-4720-b7af-f85b24c7eb2d     XRP       XRP       2.295593   \n",
      "4  7dc551ba-cfed-4437-a027-386044415e3e     BNB       BNB     658.180694   \n",
      "\n",
      "   market_cap_usd   volumen_24h  cambio_24h_pct       categoría  \\\n",
      "0    2.137763e+12  1.330885e+10        0.072779        Payments   \n",
      "1    3.034176e+11  9.514133e+09        3.057080  Infrastructure   \n",
      "2    1.575236e+11  3.446296e+10       -0.006658        Payments   \n",
      "3    1.355368e+11  2.264217e+09        4.855170        Payments   \n",
      "4    9.274253e+10  4.454589e+08        1.481258       Financial   \n",
      "\n",
      "                     sector                             tags  \n",
      "0                Currencies                                   \n",
      "1  Smart Contract Platforms                             None  \n",
      "2               Stablecoins                                   \n",
      "3                Currencies                             None  \n",
      "4  Smart Contract Platforms  BSC Ecosystem, Cosmos Ecosystem  \n"
     ]
    }
   ],
   "source": [
    "# Mostrar una muestra\n",
    "print(df.head())"
   ]
  },
  {
   "cell_type": "code",
   "execution_count": 13,
   "id": "1c14b2cf",
   "metadata": {},
   "outputs": [
    {
     "name": "stdout",
     "output_type": "stream",
     "text": [
      "✅ CSV guardado como messari_cripto_dataset.csv\n"
     ]
    }
   ],
   "source": [
    "# Guardar en CSV\n",
    "df.to_csv(\"messari_cripto_dataset.csv\", index=False)\n",
    "print(\"✅ CSV guardado como messari_cripto_dataset.csv\")"
   ]
  },
  {
   "cell_type": "code",
   "execution_count": 1,
   "id": "16a19278",
   "metadata": {},
   "outputs": [],
   "source": [
    "from pycoingecko import CoinGeckoAPI\n",
    "import pandas as pd\n",
    "import time"
   ]
  },
  {
   "cell_type": "code",
   "execution_count": 2,
   "id": "6c04fe86",
   "metadata": {},
   "outputs": [],
   "source": [
    "cg = CoinGeckoAPI()\n",
    "\n",
    "# Parámetros\n",
    "monedas = []\n",
    "paginas = 20  # 20 páginas * 250 por página = 5000 monedas"
   ]
  },
  {
   "cell_type": "code",
   "execution_count": 3,
   "id": "a63ed538",
   "metadata": {},
   "outputs": [
    {
     "name": "stdout",
     "output_type": "stream",
     "text": [
      "Obteniendo página 1...\n",
      "Obteniendo página 2...\n",
      "Obteniendo página 3...\n",
      "Obteniendo página 4...\n",
      "Obteniendo página 5...\n",
      "Obteniendo página 6...\n",
      "Obteniendo página 7...\n",
      "Obteniendo página 8...\n",
      "Obteniendo página 9...\n",
      "Obteniendo página 10...\n",
      "Obteniendo página 11...\n",
      "Obteniendo página 12...\n",
      "Obteniendo página 13...\n",
      "Obteniendo página 14...\n",
      "Obteniendo página 15...\n",
      "Obteniendo página 16...\n",
      "Obteniendo página 17...\n",
      "Obteniendo página 18...\n",
      "Obteniendo página 19...\n",
      "Obteniendo página 20...\n"
     ]
    }
   ],
   "source": [
    "for page in range(1, paginas + 1):\n",
    "    print(f\"Obteniendo página {page}...\")\n",
    "    datos = cg.get_coins_markets(vs_currency='usd', \n",
    "                                  order='market_cap_asc',  # orden por menor market cap\n",
    "                                  per_page=250, \n",
    "                                  page=page)\n",
    "    monedas.extend(datos)\n",
    "    time.sleep(1)  # Evita ser bloqueado\n"
   ]
  },
  {
   "cell_type": "code",
   "execution_count": 4,
   "id": "473a429d",
   "metadata": {},
   "outputs": [],
   "source": [
    "# Convertimos a DataFrame\n",
    "df = pd.DataFrame(monedas)"
   ]
  },
  {
   "cell_type": "code",
   "execution_count": 7,
   "id": "2b173be4",
   "metadata": {},
   "outputs": [
    {
     "name": "stdout",
     "output_type": "stream",
     "text": [
      "['id', 'symbol', 'name', 'image', 'current_price', 'market_cap', 'market_cap_rank', 'fully_diluted_valuation', 'total_volume', 'high_24h', 'low_24h', 'price_change_24h', 'price_change_percentage_24h', 'market_cap_change_24h', 'market_cap_change_percentage_24h', 'circulating_supply', 'total_supply', 'max_supply', 'ath', 'ath_change_percentage', 'ath_date', 'atl', 'atl_change_percentage', 'atl_date', 'roi', 'last_updated']\n"
     ]
    }
   ],
   "source": [
    "print(df.columns.tolist())"
   ]
  },
  {
   "cell_type": "code",
   "execution_count": 8,
   "id": "664fbaa9",
   "metadata": {},
   "outputs": [],
   "source": [
    "# Elegimos columnas relevantes\n",
    "df = df[[\n",
    "    'id', 'symbol', 'name',\n",
    "    'current_price', 'market_cap', 'total_volume',\n",
    "    'price_change_percentage_24h'\n",
    "]]"
   ]
  },
  {
   "cell_type": "code",
   "execution_count": 9,
   "id": "793918be",
   "metadata": {},
   "outputs": [],
   "source": [
    "df.columns = [\n",
    "    'id', 'símbolo', 'nombre',\n",
    "    'precio_usd', 'market_cap_usd', 'volumen_24h_usd',\n",
    "    'variación_24h_pct'\n",
    "]"
   ]
  },
  {
   "cell_type": "code",
   "execution_count": 10,
   "id": "bd002380",
   "metadata": {},
   "outputs": [
    {
     "name": "stdout",
     "output_type": "stream",
     "text": [
      "✅ Dataset guardado como coingecko_cripto_dataset.csv\n"
     ]
    }
   ],
   "source": [
    "# Guardamos CSV\n",
    "df.to_csv('coingecko_cripto_dataset.csv', index=False)\n",
    "print(\"✅ Dataset guardado como coingecko_cripto_dataset.csv\")\n"
   ]
  },
  {
   "cell_type": "code",
   "execution_count": null,
   "id": "a2adff45",
   "metadata": {},
   "outputs": [
    {
     "data": {
      "text/html": [
       "<div>\n",
       "<style scoped>\n",
       "    .dataframe tbody tr th:only-of-type {\n",
       "        vertical-align: middle;\n",
       "    }\n",
       "\n",
       "    .dataframe tbody tr th {\n",
       "        vertical-align: top;\n",
       "    }\n",
       "\n",
       "    .dataframe thead th {\n",
       "        text-align: right;\n",
       "    }\n",
       "</style>\n",
       "<table border=\"1\" class=\"dataframe\">\n",
       "  <thead>\n",
       "    <tr style=\"text-align: right;\">\n",
       "      <th></th>\n",
       "      <th>precio_usd</th>\n",
       "      <th>market_cap_usd</th>\n",
       "      <th>volumen_24h_usd</th>\n",
       "      <th>variación_24h_pct</th>\n",
       "    </tr>\n",
       "  </thead>\n",
       "  <tbody>\n",
       "    <tr>\n",
       "      <th>count</th>\n",
       "      <td>4.994000e+03</td>\n",
       "      <td>5000.0</td>\n",
       "      <td>5.000000e+03</td>\n",
       "      <td>3759.000000</td>\n",
       "    </tr>\n",
       "    <tr>\n",
       "      <th>mean</th>\n",
       "      <td>9.709179e+10</td>\n",
       "      <td>0.0</td>\n",
       "      <td>3.115225e+05</td>\n",
       "      <td>2.839448</td>\n",
       "    </tr>\n",
       "    <tr>\n",
       "      <th>std</th>\n",
       "      <td>3.429496e+12</td>\n",
       "      <td>0.0</td>\n",
       "      <td>5.249532e+06</td>\n",
       "      <td>68.627901</td>\n",
       "    </tr>\n",
       "    <tr>\n",
       "      <th>min</th>\n",
       "      <td>0.000000e+00</td>\n",
       "      <td>0.0</td>\n",
       "      <td>0.000000e+00</td>\n",
       "      <td>-96.861680</td>\n",
       "    </tr>\n",
       "    <tr>\n",
       "      <th>25%</th>\n",
       "      <td>2.260000e-05</td>\n",
       "      <td>0.0</td>\n",
       "      <td>5.460000e+00</td>\n",
       "      <td>-0.180590</td>\n",
       "    </tr>\n",
       "    <tr>\n",
       "      <th>50%</th>\n",
       "      <td>1.375000e-03</td>\n",
       "      <td>0.0</td>\n",
       "      <td>1.016200e+02</td>\n",
       "      <td>0.699910</td>\n",
       "    </tr>\n",
       "    <tr>\n",
       "      <th>75%</th>\n",
       "      <td>2.544480e-01</td>\n",
       "      <td>0.0</td>\n",
       "      <td>7.850292e+03</td>\n",
       "      <td>2.808885</td>\n",
       "    </tr>\n",
       "    <tr>\n",
       "      <th>max</th>\n",
       "      <td>1.212146e+14</td>\n",
       "      <td>0.0</td>\n",
       "      <td>3.318635e+08</td>\n",
       "      <td>3672.359720</td>\n",
       "    </tr>\n",
       "  </tbody>\n",
       "</table>\n",
       "</div>"
      ],
      "text/plain": [
       "         precio_usd  market_cap_usd  volumen_24h_usd  variación_24h_pct\n",
       "count  4.994000e+03          5000.0     5.000000e+03        3759.000000\n",
       "mean   9.709179e+10             0.0     3.115225e+05           2.839448\n",
       "std    3.429496e+12             0.0     5.249532e+06          68.627901\n",
       "min    0.000000e+00             0.0     0.000000e+00         -96.861680\n",
       "25%    2.260000e-05             0.0     5.460000e+00          -0.180590\n",
       "50%    1.375000e-03             0.0     1.016200e+02           0.699910\n",
       "75%    2.544480e-01             0.0     7.850292e+03           2.808885\n",
       "max    1.212146e+14             0.0     3.318635e+08        3672.359720"
      ]
     },
     "execution_count": 11,
     "metadata": {},
     "output_type": "execute_result"
    }
   ],
   "source": [
    "df.describe()"
   ]
  },
  {
   "cell_type": "code",
   "execution_count": 12,
   "id": "16c8c8cc",
   "metadata": {},
   "outputs": [
    {
     "name": "stdout",
     "output_type": "stream",
     "text": [
      "<class 'pandas.core.frame.DataFrame'>\n",
      "RangeIndex: 5000 entries, 0 to 4999\n",
      "Data columns (total 7 columns):\n",
      " #   Column             Non-Null Count  Dtype  \n",
      "---  ------             --------------  -----  \n",
      " 0   id                 5000 non-null   object \n",
      " 1   símbolo            5000 non-null   object \n",
      " 2   nombre             5000 non-null   object \n",
      " 3   precio_usd         4994 non-null   float64\n",
      " 4   market_cap_usd     5000 non-null   float64\n",
      " 5   volumen_24h_usd    5000 non-null   float64\n",
      " 6   variación_24h_pct  3759 non-null   float64\n",
      "dtypes: float64(4), object(3)\n",
      "memory usage: 273.6+ KB\n"
     ]
    }
   ],
   "source": [
    "df.info()"
   ]
  }
 ],
 "metadata": {
  "kernelspec": {
   "display_name": ".venv",
   "language": "python",
   "name": "python3"
  },
  "language_info": {
   "codemirror_mode": {
    "name": "ipython",
    "version": 3
   },
   "file_extension": ".py",
   "mimetype": "text/x-python",
   "name": "python",
   "nbconvert_exporter": "python",
   "pygments_lexer": "ipython3",
   "version": "3.12.6"
  }
 },
 "nbformat": 4,
 "nbformat_minor": 5
}
