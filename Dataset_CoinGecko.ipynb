{
 "cells": [
  {
   "cell_type": "code",
   "execution_count": 1,
   "metadata": {
    "colab": {
     "base_uri": "https://localhost:8080/"
    },
    "executionInfo": {
     "elapsed": 30129,
     "status": "ok",
     "timestamp": 1751466699753,
     "user": {
      "displayName": "Nikole",
      "userId": "17775527952682309344"
     },
     "user_tz": 300
    },
    "id": "eXRfK-o5jB66",
    "outputId": "d53f4a74-da11-428a-e7f3-0a8e583a38cb"
   },
   "outputs": [
    {
     "name": "stdout",
     "output_type": "stream",
     "text": [
      "Mounted at /content/drive\n"
     ]
    }
   ],
   "source": [
    "# Montar Google Drive si quieres guardar CSVs también\n",
    "from google.colab import drive\n",
    "drive.mount('/content/drive')"
   ]
  },
  {
   "cell_type": "code",
   "execution_count": 2,
   "metadata": {
    "colab": {
     "base_uri": "https://localhost:8080/"
    },
    "executionInfo": {
     "elapsed": 1530,
     "status": "ok",
     "timestamp": 1751466744288,
     "user": {
      "displayName": "Nikole",
      "userId": "17775527952682309344"
     },
     "user_tz": 300
    },
    "id": "hOOZunU-jRvk",
    "outputId": "434123b2-cf73-4e14-bb95-e265c2b43b8f"
   },
   "outputs": [
    {
     "name": "stdout",
     "output_type": "stream",
     "text": [
      "Cloning into 'TF-CRIPTOMONEDAS-ML'...\n",
      "remote: Enumerating objects: 10, done.\u001b[K\n",
      "remote: Counting objects: 100% (10/10), done.\u001b[K\n",
      "remote: Compressing objects: 100% (8/8), done.\u001b[K\n",
      "remote: Total 10 (delta 1), reused 7 (delta 1), pack-reused 0 (from 0)\u001b[K\n",
      "Receiving objects: 100% (10/10), 120.08 KiB | 853.00 KiB/s, done.\n",
      "Resolving deltas: 100% (1/1), done.\n",
      "/content/TF-CRIPTOMONEDAS-ML\n"
     ]
    }
   ],
   "source": [
    "# Clona tu repositorio (usa HTTPS)\n",
    "!git clone https://github.com/Nikole370/TF-CRIPTOMONEDAS-ML.git\n",
    "%cd TF-CRIPTOMONEDAS-ML"
   ]
  },
  {
   "cell_type": "code",
   "execution_count": 3,
   "metadata": {
    "colab": {
     "base_uri": "https://localhost:8080/"
    },
    "executionInfo": {
     "elapsed": 8581,
     "status": "ok",
     "timestamp": 1751466767327,
     "user": {
      "displayName": "Nikole",
      "userId": "17775527952682309344"
     },
     "user_tz": 300
    },
    "id": "ot8nvIg6jcXc",
    "outputId": "691b352a-ae19-494c-9c38-a661b8e448de"
   },
   "outputs": [
    {
     "name": "stdout",
     "output_type": "stream",
     "text": [
      "Collecting pycoingecko\n",
      "  Downloading pycoingecko-3.2.0-py3-none-any.whl.metadata (16 kB)\n",
      "Requirement already satisfied: pandas in /usr/local/lib/python3.11/dist-packages (2.2.2)\n",
      "Requirement already satisfied: requests in /usr/local/lib/python3.11/dist-packages (from pycoingecko) (2.32.3)\n",
      "Requirement already satisfied: numpy>=1.23.2 in /usr/local/lib/python3.11/dist-packages (from pandas) (2.0.2)\n",
      "Requirement already satisfied: python-dateutil>=2.8.2 in /usr/local/lib/python3.11/dist-packages (from pandas) (2.9.0.post0)\n",
      "Requirement already satisfied: pytz>=2020.1 in /usr/local/lib/python3.11/dist-packages (from pandas) (2025.2)\n",
      "Requirement already satisfied: tzdata>=2022.7 in /usr/local/lib/python3.11/dist-packages (from pandas) (2025.2)\n",
      "Requirement already satisfied: six>=1.5 in /usr/local/lib/python3.11/dist-packages (from python-dateutil>=2.8.2->pandas) (1.17.0)\n",
      "Requirement already satisfied: charset-normalizer<4,>=2 in /usr/local/lib/python3.11/dist-packages (from requests->pycoingecko) (3.4.2)\n",
      "Requirement already satisfied: idna<4,>=2.5 in /usr/local/lib/python3.11/dist-packages (from requests->pycoingecko) (3.10)\n",
      "Requirement already satisfied: urllib3<3,>=1.21.1 in /usr/local/lib/python3.11/dist-packages (from requests->pycoingecko) (2.4.0)\n",
      "Requirement already satisfied: certifi>=2017.4.17 in /usr/local/lib/python3.11/dist-packages (from requests->pycoingecko) (2025.6.15)\n",
      "Downloading pycoingecko-3.2.0-py3-none-any.whl (10 kB)\n",
      "Installing collected packages: pycoingecko\n",
      "Successfully installed pycoingecko-3.2.0\n"
     ]
    }
   ],
   "source": [
    "!pip install pycoingecko pandas"
   ]
  },
  {
   "cell_type": "code",
   "execution_count": 4,
   "metadata": {
    "executionInfo": {
     "elapsed": 572,
     "status": "ok",
     "timestamp": 1751466846164,
     "user": {
      "displayName": "Nikole",
      "userId": "17775527952682309344"
     },
     "user_tz": 300
    },
    "id": "66dUbkTfjxt_"
   },
   "outputs": [],
   "source": [
    "# ⬇️ 4. Importar librerías\n",
    "from pycoingecko import CoinGeckoAPI\n",
    "import pandas as pd\n",
    "import time\n",
    "\n",
    "# Inicializar API\n",
    "cg = CoinGeckoAPI()\n",
    "\n",
    "# Función para clasificar narrativa\n",
    "def clasificar_narrativa(categorias):\n",
    "    if any(x in categorias for x in ['AI & Big Data', 'Artificial Intelligence']):\n",
    "        return 'Inteligencia Artificial'\n",
    "    elif any(x in categorias for x in ['Gaming', 'Metaverse', 'NFT']):\n",
    "        return 'Videojuegos'\n",
    "    elif any(x in categorias for x in ['Real World Assets', 'RWA']):\n",
    "        return 'RWA'\n",
    "    elif any(x in categorias for x in ['Meme', 'Memes']):\n",
    "        return 'Memes'\n",
    "    else:\n",
    "        return 'Otra'\n"
   ]
  },
  {
   "cell_type": "code",
   "execution_count": 6,
   "metadata": {
    "executionInfo": {
     "elapsed": 5,
     "status": "ok",
     "timestamp": 1751467297657,
     "user": {
      "displayName": "Nikole",
      "userId": "17775527952682309344"
     },
     "user_tz": 300
    },
    "id": "lIUdEaPVlf2r"
   },
   "outputs": [],
   "source": [
    "import os\n",
    "\n",
    "# Crear carpeta 'data' si no existe\n",
    "os.makedirs('data', exist_ok=True)"
   ]
  },
  {
   "cell_type": "code",
   "execution_count": 7,
   "metadata": {
    "colab": {
     "base_uri": "https://localhost:8080/"
    },
    "executionInfo": {
     "elapsed": 275262,
     "status": "ok",
     "timestamp": 1751467574732,
     "user": {
      "displayName": "Nikole",
      "userId": "17775527952682309344"
     },
     "user_tz": 300
    },
    "id": "ZtW66Dm8jz9P",
    "outputId": "2e5f75d6-5902-45aa-fc08-6162d81a4ee1"
   },
   "outputs": [
    {
     "name": "stdout",
     "output_type": "stream",
     "text": [
      "Obteniendo página 1...\n",
      "Obteniendo página 2...\n",
      "Obteniendo página 3...\n",
      "Obteniendo página 4...\n",
      "Obteniendo página 5...\n",
      "Obteniendo página 6...\n",
      "Obteniendo página 7...\n",
      "Obteniendo página 8...\n",
      "Obteniendo página 9...\n",
      "Obteniendo página 10...\n",
      "Obteniendo página 11...\n",
      "Obteniendo página 12...\n",
      "Obteniendo página 13...\n",
      "Obteniendo página 14...\n",
      "Obteniendo página 15...\n",
      "Obteniendo página 16...\n",
      "Obteniendo página 17...\n",
      "Obteniendo página 18...\n",
      "Obteniendo página 19...\n",
      "Obteniendo página 20...\n"
     ]
    }
   ],
   "source": [
    "# ⬇️ 5. Descargar 5000 monedas (si es primera vez)\n",
    "monedas = []\n",
    "paginas = 20\n",
    "\n",
    "for page in range(1, paginas + 1):\n",
    "    print(f\"Obteniendo página {page}...\")\n",
    "    datos = cg.get_coins_markets(\n",
    "        vs_currency='usd',\n",
    "        order='market_cap_asc',\n",
    "        per_page=250,\n",
    "        page=page\n",
    "    )\n",
    "    monedas.extend(datos)\n",
    "    time.sleep(1)\n",
    "\n",
    "df = pd.DataFrame(monedas)\n",
    "df.to_csv('data/monedas_completas.csv', index=False)  # Guarda para no repetir descarga\n"
   ]
  },
  {
   "cell_type": "code",
   "execution_count": 8,
   "metadata": {
    "executionInfo": {
     "elapsed": 50,
     "status": "ok",
     "timestamp": 1751467806169,
     "user": {
      "displayName": "Nikole",
      "userId": "17775527952682309344"
     },
     "user_tz": 300
    },
    "id": "bJVWouMLnb7S"
   },
   "outputs": [],
   "source": [
    "# ⬇️ 6. Cargar y dividir en bloques\n",
    "df = pd.read_csv('data/monedas_completas.csv')\n",
    "bloques = [df.iloc[i:i+500].copy() for i in range(0, len(df), 500)]"
   ]
  },
  {
   "cell_type": "code",
   "execution_count": null,
   "metadata": {
    "id": "bQ2uHFdUnhHw"
   },
   "outputs": [],
   "source": [
    "#"
   ]
  },
  {
   "cell_type": "code",
   "execution_count": 10,
   "metadata": {
    "colab": {
     "base_uri": "https://localhost:8080/"
    },
    "collapsed": true,
    "executionInfo": {
     "elapsed": 8122228,
     "status": "ok",
     "timestamp": 1751477034662,
     "user": {
      "displayName": "Nikole",
      "userId": "17775527952682309344"
     },
     "user_tz": 300
    },
    "id": "u643oxwOneSQ",
    "outputId": "fca86e5e-704d-4ae5-b822-7a7a802ca35c"
   },
   "outputs": [
    {
     "name": "stdout",
     "output_type": "stream",
     "text": [
      "1/500 procesado\n",
      "2/500 procesado\n",
      "3/500 procesado\n",
      "4/500 procesado\n",
      "5/500 procesado\n",
      "6/500 procesado\n",
      "7/500 procesado\n",
      "8/500 procesado\n",
      "9/500 procesado\n",
      "10/500 procesado\n",
      "11/500 procesado\n",
      "12/500 procesado\n",
      "13/500 procesado\n",
      "14/500 procesado\n",
      "15/500 procesado\n",
      "16/500 procesado\n",
      "17/500 procesado\n",
      "18/500 procesado\n",
      "19/500 procesado\n",
      "20/500 procesado\n",
      "21/500 procesado\n",
      "22/500 procesado\n",
      "23/500 procesado\n",
      "24/500 procesado\n",
      "25/500 procesado\n",
      "26/500 procesado\n",
      "27/500 procesado\n",
      "28/500 procesado\n",
      "29/500 procesado\n",
      "30/500 procesado\n",
      "31/500 procesado\n",
      "32/500 procesado\n",
      "33/500 procesado\n",
      "34/500 procesado\n",
      "35/500 procesado\n",
      "36/500 procesado\n",
      "37/500 procesado\n",
      "38/500 procesado\n",
      "39/500 procesado\n",
      "40/500 procesado\n",
      "41/500 procesado\n",
      "42/500 procesado\n",
      "43/500 procesado\n",
      "44/500 procesado\n",
      "45/500 procesado\n",
      "46/500 procesado\n",
      "47/500 procesado\n",
      "48/500 procesado\n",
      "49/500 procesado\n",
      "50/500 procesado\n",
      "51/500 procesado\n",
      "52/500 procesado\n",
      "53/500 procesado\n",
      "54/500 procesado\n",
      "55/500 procesado\n",
      "56/500 procesado\n",
      "57/500 procesado\n",
      "58/500 procesado\n",
      "59/500 procesado\n",
      "60/500 procesado\n",
      "61/500 procesado\n",
      "62/500 procesado\n",
      "63/500 procesado\n",
      "64/500 procesado\n",
      "65/500 procesado\n",
      "66/500 procesado\n",
      "67/500 procesado\n",
      "68/500 procesado\n",
      "69/500 procesado\n",
      "70/500 procesado\n",
      "71/500 procesado\n",
      "72/500 procesado\n",
      "73/500 procesado\n",
      "74/500 procesado\n",
      "75/500 procesado\n",
      "76/500 procesado\n",
      "77/500 procesado\n",
      "78/500 procesado\n",
      "79/500 procesado\n",
      "80/500 procesado\n",
      "81/500 procesado\n",
      "82/500 procesado\n",
      "83/500 procesado\n",
      "84/500 procesado\n",
      "85/500 procesado\n",
      "86/500 procesado\n",
      "87/500 procesado\n",
      "88/500 procesado\n",
      "89/500 procesado\n",
      "90/500 procesado\n",
      "91/500 procesado\n",
      "92/500 procesado\n",
      "93/500 procesado\n",
      "94/500 procesado\n",
      "95/500 procesado\n",
      "96/500 procesado\n",
      "97/500 procesado\n",
      "98/500 procesado\n",
      "99/500 procesado\n",
      "100/500 procesado\n",
      "101/500 procesado\n",
      "102/500 procesado\n",
      "103/500 procesado\n",
      "104/500 procesado\n",
      "105/500 procesado\n",
      "106/500 procesado\n",
      "107/500 procesado\n",
      "108/500 procesado\n",
      "109/500 procesado\n",
      "110/500 procesado\n",
      "111/500 procesado\n",
      "112/500 procesado\n",
      "113/500 procesado\n",
      "114/500 procesado\n",
      "115/500 procesado\n",
      "116/500 procesado\n",
      "117/500 procesado\n",
      "118/500 procesado\n",
      "119/500 procesado\n",
      "120/500 procesado\n",
      "121/500 procesado\n",
      "122/500 procesado\n",
      "123/500 procesado\n",
      "124/500 procesado\n",
      "125/500 procesado\n",
      "126/500 procesado\n",
      "127/500 procesado\n",
      "128/500 procesado\n",
      "129/500 procesado\n",
      "130/500 procesado\n",
      "131/500 procesado\n",
      "132/500 procesado\n",
      "133/500 procesado\n",
      "134/500 procesado\n",
      "135/500 procesado\n",
      "136/500 procesado\n",
      "137/500 procesado\n",
      "138/500 procesado\n",
      "139/500 procesado\n",
      "140/500 procesado\n",
      "141/500 procesado\n",
      "142/500 procesado\n",
      "143/500 procesado\n",
      "144/500 procesado\n",
      "145/500 procesado\n",
      "146/500 procesado\n",
      "147/500 procesado\n",
      "148/500 procesado\n",
      "149/500 procesado\n",
      "150/500 procesado\n",
      "151/500 procesado\n",
      "152/500 procesado\n",
      "153/500 procesado\n",
      "154/500 procesado\n",
      "155/500 procesado\n",
      "156/500 procesado\n",
      "157/500 procesado\n",
      "158/500 procesado\n",
      "159/500 procesado\n",
      "160/500 procesado\n",
      "161/500 procesado\n",
      "162/500 procesado\n",
      "163/500 procesado\n",
      "164/500 procesado\n",
      "165/500 procesado\n",
      "166/500 procesado\n",
      "167/500 procesado\n",
      "168/500 procesado\n",
      "169/500 procesado\n",
      "170/500 procesado\n",
      "171/500 procesado\n",
      "172/500 procesado\n",
      "173/500 procesado\n",
      "174/500 procesado\n",
      "175/500 procesado\n",
      "176/500 procesado\n",
      "177/500 procesado\n",
      "178/500 procesado\n",
      "179/500 procesado\n",
      "180/500 procesado\n",
      "181/500 procesado\n",
      "182/500 procesado\n",
      "183/500 procesado\n",
      "184/500 procesado\n",
      "185/500 procesado\n",
      "186/500 procesado\n",
      "187/500 procesado\n",
      "188/500 procesado\n",
      "189/500 procesado\n",
      "190/500 procesado\n",
      "191/500 procesado\n",
      "192/500 procesado\n",
      "193/500 procesado\n",
      "194/500 procesado\n",
      "195/500 procesado\n",
      "196/500 procesado\n",
      "197/500 procesado\n",
      "198/500 procesado\n",
      "199/500 procesado\n",
      "200/500 procesado\n",
      "201/500 procesado\n",
      "202/500 procesado\n",
      "203/500 procesado\n",
      "204/500 procesado\n",
      "205/500 procesado\n",
      "206/500 procesado\n",
      "207/500 procesado\n",
      "208/500 procesado\n",
      "209/500 procesado\n",
      "210/500 procesado\n",
      "211/500 procesado\n",
      "212/500 procesado\n",
      "213/500 procesado\n",
      "214/500 procesado\n",
      "215/500 procesado\n",
      "216/500 procesado\n",
      "217/500 procesado\n",
      "218/500 procesado\n",
      "219/500 procesado\n",
      "220/500 procesado\n",
      "221/500 procesado\n",
      "222/500 procesado\n",
      "223/500 procesado\n",
      "224/500 procesado\n",
      "225/500 procesado\n",
      "226/500 procesado\n",
      "227/500 procesado\n",
      "228/500 procesado\n",
      "229/500 procesado\n",
      "230/500 procesado\n",
      "231/500 procesado\n",
      "232/500 procesado\n",
      "233/500 procesado\n",
      "234/500 procesado\n",
      "235/500 procesado\n",
      "236/500 procesado\n",
      "237/500 procesado\n",
      "238/500 procesado\n",
      "239/500 procesado\n",
      "240/500 procesado\n",
      "241/500 procesado\n",
      "242/500 procesado\n",
      "243/500 procesado\n",
      "244/500 procesado\n",
      "245/500 procesado\n",
      "246/500 procesado\n",
      "247/500 procesado\n",
      "248/500 procesado\n",
      "249/500 procesado\n",
      "250/500 procesado\n",
      "251/500 procesado\n",
      "252/500 procesado\n",
      "253/500 procesado\n",
      "254/500 procesado\n",
      "255/500 procesado\n",
      "256/500 procesado\n",
      "257/500 procesado\n",
      "258/500 procesado\n",
      "259/500 procesado\n",
      "260/500 procesado\n",
      "261/500 procesado\n",
      "262/500 procesado\n",
      "263/500 procesado\n",
      "264/500 procesado\n",
      "265/500 procesado\n",
      "266/500 procesado\n",
      "267/500 procesado\n",
      "268/500 procesado\n",
      "269/500 procesado\n",
      "270/500 procesado\n",
      "271/500 procesado\n",
      "272/500 procesado\n",
      "273/500 procesado\n",
      "274/500 procesado\n",
      "275/500 procesado\n",
      "276/500 procesado\n",
      "277/500 procesado\n",
      "278/500 procesado\n",
      "279/500 procesado\n",
      "280/500 procesado\n",
      "281/500 procesado\n",
      "282/500 procesado\n",
      "283/500 procesado\n",
      "284/500 procesado\n",
      "285/500 procesado\n",
      "286/500 procesado\n",
      "287/500 procesado\n",
      "288/500 procesado\n",
      "289/500 procesado\n",
      "290/500 procesado\n",
      "291/500 procesado\n",
      "292/500 procesado\n",
      "293/500 procesado\n",
      "294/500 procesado\n",
      "295/500 procesado\n",
      "296/500 procesado\n",
      "297/500 procesado\n",
      "298/500 procesado\n",
      "299/500 procesado\n",
      "300/500 procesado\n",
      "301/500 procesado\n",
      "302/500 procesado\n",
      "303/500 procesado\n",
      "304/500 procesado\n",
      "305/500 procesado\n",
      "306/500 procesado\n",
      "307/500 procesado\n",
      "308/500 procesado\n",
      "309/500 procesado\n",
      "310/500 procesado\n",
      "311/500 procesado\n",
      "312/500 procesado\n",
      "313/500 procesado\n",
      "314/500 procesado\n",
      "315/500 procesado\n",
      "316/500 procesado\n",
      "317/500 procesado\n",
      "318/500 procesado\n",
      "319/500 procesado\n",
      "320/500 procesado\n",
      "321/500 procesado\n",
      "322/500 procesado\n",
      "323/500 procesado\n",
      "324/500 procesado\n",
      "325/500 procesado\n",
      "326/500 procesado\n",
      "327/500 procesado\n",
      "328/500 procesado\n",
      "329/500 procesado\n",
      "330/500 procesado\n",
      "331/500 procesado\n",
      "332/500 procesado\n",
      "333/500 procesado\n",
      "334/500 procesado\n",
      "335/500 procesado\n",
      "336/500 procesado\n",
      "337/500 procesado\n",
      "338/500 procesado\n",
      "339/500 procesado\n",
      "340/500 procesado\n",
      "341/500 procesado\n",
      "342/500 procesado\n",
      "343/500 procesado\n",
      "344/500 procesado\n",
      "345/500 procesado\n",
      "346/500 procesado\n",
      "347/500 procesado\n",
      "348/500 procesado\n",
      "349/500 procesado\n",
      "350/500 procesado\n",
      "351/500 procesado\n",
      "352/500 procesado\n",
      "353/500 procesado\n",
      "354/500 procesado\n",
      "355/500 procesado\n",
      "356/500 procesado\n",
      "357/500 procesado\n",
      "358/500 procesado\n",
      "359/500 procesado\n",
      "360/500 procesado\n",
      "361/500 procesado\n",
      "362/500 procesado\n",
      "363/500 procesado\n",
      "364/500 procesado\n",
      "365/500 procesado\n",
      "366/500 procesado\n",
      "367/500 procesado\n",
      "368/500 procesado\n",
      "369/500 procesado\n",
      "370/500 procesado\n",
      "371/500 procesado\n",
      "372/500 procesado\n",
      "373/500 procesado\n",
      "374/500 procesado\n",
      "375/500 procesado\n",
      "376/500 procesado\n",
      "377/500 procesado\n",
      "378/500 procesado\n",
      "379/500 procesado\n",
      "380/500 procesado\n",
      "381/500 procesado\n",
      "382/500 procesado\n",
      "383/500 procesado\n",
      "384/500 procesado\n",
      "385/500 procesado\n",
      "386/500 procesado\n",
      "387/500 procesado\n",
      "388/500 procesado\n",
      "389/500 procesado\n",
      "390/500 procesado\n",
      "391/500 procesado\n",
      "392/500 procesado\n",
      "393/500 procesado\n",
      "394/500 procesado\n",
      "395/500 procesado\n",
      "396/500 procesado\n",
      "397/500 procesado\n",
      "398/500 procesado\n",
      "399/500 procesado\n",
      "400/500 procesado\n",
      "401/500 procesado\n",
      "402/500 procesado\n",
      "403/500 procesado\n",
      "404/500 procesado\n",
      "405/500 procesado\n",
      "406/500 procesado\n",
      "407/500 procesado\n",
      "408/500 procesado\n",
      "409/500 procesado\n",
      "410/500 procesado\n",
      "411/500 procesado\n",
      "412/500 procesado\n",
      "413/500 procesado\n",
      "414/500 procesado\n",
      "415/500 procesado\n",
      "416/500 procesado\n",
      "417/500 procesado\n",
      "418/500 procesado\n",
      "419/500 procesado\n",
      "420/500 procesado\n",
      "421/500 procesado\n",
      "422/500 procesado\n",
      "423/500 procesado\n",
      "424/500 procesado\n",
      "425/500 procesado\n",
      "426/500 procesado\n",
      "427/500 procesado\n",
      "428/500 procesado\n",
      "429/500 procesado\n",
      "430/500 procesado\n",
      "431/500 procesado\n",
      "432/500 procesado\n",
      "433/500 procesado\n",
      "434/500 procesado\n",
      "435/500 procesado\n",
      "436/500 procesado\n",
      "437/500 procesado\n",
      "438/500 procesado\n",
      "439/500 procesado\n",
      "440/500 procesado\n",
      "441/500 procesado\n",
      "442/500 procesado\n",
      "443/500 procesado\n",
      "444/500 procesado\n",
      "445/500 procesado\n",
      "446/500 procesado\n",
      "447/500 procesado\n",
      "448/500 procesado\n",
      "449/500 procesado\n",
      "450/500 procesado\n",
      "451/500 procesado\n",
      "452/500 procesado\n",
      "453/500 procesado\n",
      "454/500 procesado\n",
      "455/500 procesado\n",
      "456/500 procesado\n",
      "457/500 procesado\n",
      "458/500 procesado\n",
      "459/500 procesado\n",
      "460/500 procesado\n",
      "461/500 procesado\n",
      "462/500 procesado\n",
      "463/500 procesado\n",
      "464/500 procesado\n",
      "465/500 procesado\n",
      "466/500 procesado\n",
      "467/500 procesado\n",
      "468/500 procesado\n",
      "469/500 procesado\n",
      "470/500 procesado\n",
      "471/500 procesado\n",
      "472/500 procesado\n",
      "473/500 procesado\n",
      "474/500 procesado\n",
      "475/500 procesado\n",
      "476/500 procesado\n",
      "477/500 procesado\n",
      "478/500 procesado\n",
      "479/500 procesado\n",
      "480/500 procesado\n",
      "481/500 procesado\n",
      "482/500 procesado\n",
      "483/500 procesado\n",
      "484/500 procesado\n",
      "485/500 procesado\n",
      "486/500 procesado\n",
      "487/500 procesado\n",
      "488/500 procesado\n",
      "489/500 procesado\n",
      "490/500 procesado\n",
      "491/500 procesado\n",
      "492/500 procesado\n",
      "493/500 procesado\n",
      "494/500 procesado\n",
      "495/500 procesado\n",
      "496/500 procesado\n",
      "497/500 procesado\n",
      "498/500 procesado\n",
      "499/500 procesado\n",
      "500/500 procesado\n"
     ]
    }
   ],
   "source": [
    "# ⬇️ 7. Procesar un bloque (cambia idx en cada sesión)\n",
    "idx = 0\n",
    "bloque = bloques[idx]\n",
    "\n",
    "# Agregar narrativa\n",
    "narrativas = []\n",
    "for i, row in bloque.iterrows():\n",
    "    try:\n",
    "        info = cg.get_coin_by_id(row['id'])\n",
    "        categorias = info.get('categories', [])\n",
    "        narrativa = clasificar_narrativa(categorias)\n",
    "    except:\n",
    "        narrativa = 'Desconocida'\n",
    "    narrativas.append(narrativa)\n",
    "    print(f\"{i+1}/{len(bloque)} procesado\")\n",
    "    time.sleep(1)\n",
    "bloque['narrativa'] = narrativas"
   ]
  },
  {
   "cell_type": "code",
   "execution_count": 11,
   "metadata": {
    "executionInfo": {
     "elapsed": 14,
     "status": "ok",
     "timestamp": 1751477844764,
     "user": {
      "displayName": "Nikole",
      "userId": "17775527952682309344"
     },
     "user_tz": 300
    },
    "id": "W4pa5cdmNuBm"
   },
   "outputs": [],
   "source": [
    "# ⬇️ Filtrar solo las narrativas que pide el cliente\n",
    "narrativas_validas = ['Inteligencia Artificial', 'Videojuegos', 'RWA', 'Memes']\n",
    "bloque = bloque[bloque['narrativa'].isin(narrativas_validas)]"
   ]
  },
  {
   "cell_type": "code",
   "execution_count": 12,
   "metadata": {
    "colab": {
     "base_uri": "https://localhost:8080/"
    },
    "executionInfo": {
     "elapsed": 115,
     "status": "ok",
     "timestamp": 1751477846554,
     "user": {
      "displayName": "Nikole",
      "userId": "17775527952682309344"
     },
     "user_tz": 300
    },
    "id": "6enVqMxaNvB8",
    "outputId": "10cf6ab1-be01-4b83-87ee-581e8ae08813"
   },
   "outputs": [
    {
     "name": "stdout",
     "output_type": "stream",
     "text": [
      "✅ Guardado: data/bloque_narrativa_1.csv\n"
     ]
    }
   ],
   "source": [
    "# ⬇️ Guardar CSV del bloque (sin target aún)\n",
    "bloque.to_csv(f'data/bloque_narrativa_{idx+1}.csv', index=False)\n",
    "print(f\"✅ Guardado: data/bloque_narrativa_{idx+1}.csv\")"
   ]
  },
  {
   "cell_type": "code",
   "execution_count": 24,
   "metadata": {
    "colab": {
     "base_uri": "https://localhost:8080/"
    },
    "executionInfo": {
     "elapsed": 958,
     "status": "ok",
     "timestamp": 1751478875829,
     "user": {
      "displayName": "Nikole",
      "userId": "17775527952682309344"
     },
     "user_tz": 300
    },
    "id": "lLfKxmRxOPWn",
    "outputId": "7a072b86-336d-4eed-ca2f-b86ddbc92a35"
   },
   "outputs": [
    {
     "name": "stdout",
     "output_type": "stream",
     "text": [
      "On branch main\n",
      "Your branch is ahead of 'origin/main' by 1 commit.\n",
      "  (use \"git push\" to publish your local commits)\n",
      "\n",
      "nothing to commit, working tree clean\n",
      "Everything up-to-date\n"
     ]
    }
   ],
   "source": [
    "!git add .\n",
    "!git commit -m \"Add: Agrego notebook actualizado\"\n",
    "!git push https://$GIT_TOKEN@github.com/$REPO.git HEAD:main"
   ]
  },
  {
   "cell_type": "code",
   "execution_count": 26,
   "metadata": {
    "colab": {
     "base_uri": "https://localhost:8080/"
    },
    "executionInfo": {
     "elapsed": 837,
     "status": "ok",
     "timestamp": 1751478970601,
     "user": {
      "displayName": "Nikole",
      "userId": "17775527952682309344"
     },
     "user_tz": 300
    },
    "id": "omovX1-rSAwx",
    "outputId": "78b2a13a-7971-4022-bb11-47769eb553a2"
   },
   "outputs": [
    {
     "name": "stdout",
     "output_type": "stream",
     "text": [
      "Everything up-to-date\n"
     ]
    }
   ],
   "source": [
    "!git push https://$GIT_TOKEN@github.com/$REPO.git HEAD:main"
   ]
  },
  {
   "cell_type": "code",
   "execution_count": 27,
   "metadata": {
    "colab": {
     "base_uri": "https://localhost:8080/"
    },
    "executionInfo": {
     "elapsed": 106,
     "status": "ok",
     "timestamp": 1751479036593,
     "user": {
      "displayName": "Nikole",
      "userId": "17775527952682309344"
     },
     "user_tz": 300
    },
    "id": "mD6WWV8CSSJj",
    "outputId": "43e48cac-3a29-4b7c-c671-5439b7d1e384"
   },
   "outputs": [
    {
     "name": "stdout",
     "output_type": "stream",
     "text": [
      "coingecko_cripto_dataset.csv  messari_cripto_dataset.csv  script.ipynb\n",
      "data\t\t\t      README.md\n"
     ]
    }
   ],
   "source": [
    "!ls"
   ]
  },
  {
   "cell_type": "code",
   "execution_count": 28,
   "metadata": {
    "colab": {
     "base_uri": "https://localhost:8080/"
    },
    "executionInfo": {
     "elapsed": 109,
     "status": "ok",
     "timestamp": 1751479053100,
     "user": {
      "displayName": "Nikole",
      "userId": "17775527952682309344"
     },
     "user_tz": 300
    },
    "id": "n_TDfq0dSVwf",
    "outputId": "7a836244-7974-4169-9b30-15b9efadb1e2"
   },
   "outputs": [
    {
     "name": "stdout",
     "output_type": "stream",
     "text": [
      "script.ipynb\n"
     ]
    }
   ],
   "source": [
    "!ls *.ipynb"
   ]
  },
  {
   "cell_type": "code",
   "execution_count": 29,
   "metadata": {
    "colab": {
     "base_uri": "https://localhost:8080/"
    },
    "executionInfo": {
     "elapsed": 46,
     "status": "ok",
     "timestamp": 1751479127660,
     "user": {
      "displayName": "Nikole",
      "userId": "17775527952682309344"
     },
     "user_tz": 300
    },
    "id": "NchzK5WFSoX1",
    "outputId": "2f015b5e-6ea9-410e-c65c-fc0924e9bd99"
   },
   "outputs": [
    {
     "name": "stdout",
     "output_type": "stream",
     "text": [
      "/content/TF-CRIPTOMONEDAS-ML\n"
     ]
    }
   ],
   "source": [
    "import os\n",
    "print(os.getcwd())"
   ]
  },
  {
   "cell_type": "code",
   "execution_count": 30,
   "metadata": {
    "colab": {
     "base_uri": "https://localhost:8080/"
    },
    "executionInfo": {
     "elapsed": 207,
     "status": "ok",
     "timestamp": 1751479177983,
     "user": {
      "displayName": "Nikole",
      "userId": "17775527952682309344"
     },
     "user_tz": 300
    },
    "id": "qp_rOlgTS0oO",
    "outputId": "315c0483-3328-46db-e1b8-0c3950b58079"
   },
   "outputs": [
    {
     "name": "stdout",
     "output_type": "stream",
     "text": [
      "script.ipynb\n"
     ]
    }
   ],
   "source": [
    "!ls *.ipynb"
   ]
  },
  {
   "cell_type": "code",
   "execution_count": 31,
   "metadata": {
    "colab": {
     "base_uri": "https://localhost:8080/"
    },
    "executionInfo": {
     "elapsed": 119,
     "status": "ok",
     "timestamp": 1751479356312,
     "user": {
      "displayName": "Nikole",
      "userId": "17775527952682309344"
     },
     "user_tz": 300
    },
    "id": "jzFZXD78Tf2N",
    "outputId": "a7619eae-9516-45b0-d1b3-b31a84283ecb"
   },
   "outputs": [
    {
     "name": "stdout",
     "output_type": "stream",
     "text": [
      "drive  sample_data  TF-CRIPTOMONEDAS-ML\n"
     ]
    }
   ],
   "source": [
    "!ls /content"
   ]
  },
  {
   "cell_type": "code",
   "execution_count": 32,
   "metadata": {
    "colab": {
     "base_uri": "https://localhost:8080/"
    },
    "executionInfo": {
     "elapsed": 14177,
     "status": "ok",
     "timestamp": 1751479736345,
     "user": {
      "displayName": "Nikole",
      "userId": "17775527952682309344"
     },
     "user_tz": 300
    },
    "id": "zpGb_oK9U5Z_",
    "outputId": "05b57bf3-f1c3-43fe-89d2-8891eedb7afa"
   },
   "outputs": [
    {
     "name": "stdout",
     "output_type": "stream",
     "text": [
      "/content/drive/MyDrive/Colab Notebooks/Dataset_CoinGecko.ipynb\n"
     ]
    }
   ],
   "source": [
    "!find / -name \"*CoinGecko*.ipynb\" 2>/dev/null"
   ]
  }
 ],
 "metadata": {
  "colab": {
   "authorship_tag": "ABX9TyMmEyGtCc8KRC+LXvfxobLe",
   "provenance": []
  },
  "kernelspec": {
   "display_name": "Python 3",
   "name": "python3"
  },
  "language_info": {
   "name": "python"
  }
 },
 "nbformat": 4,
 "nbformat_minor": 0
}
