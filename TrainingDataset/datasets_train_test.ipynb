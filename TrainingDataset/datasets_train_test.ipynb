{
  "nbformat": 4,
  "nbformat_minor": 0,
  "metadata": {
    "colab": {
      "provenance": []
    },
    "kernelspec": {
      "name": "python3",
      "display_name": "Python 3"
    },
    "language_info": {
      "name": "python"
    }
  },
  "cells": [
    {
      "cell_type": "code",
      "source": [
        "!pip install ta"
      ],
      "metadata": {
        "colab": {
          "base_uri": "https://localhost:8080/"
        },
        "id": "egrV89SWTXRy",
        "outputId": "04391487-7fd2-48b1-ae44-942d635be50b"
      },
      "execution_count": 2,
      "outputs": [
        {
          "output_type": "stream",
          "name": "stdout",
          "text": [
            "Collecting ta\n",
            "  Downloading ta-0.11.0.tar.gz (25 kB)\n",
            "  Preparing metadata (setup.py) ... \u001b[?25l\u001b[?25hdone\n",
            "Requirement already satisfied: numpy in /usr/local/lib/python3.11/dist-packages (from ta) (2.0.2)\n",
            "Requirement already satisfied: pandas in /usr/local/lib/python3.11/dist-packages (from ta) (2.2.2)\n",
            "Requirement already satisfied: python-dateutil>=2.8.2 in /usr/local/lib/python3.11/dist-packages (from pandas->ta) (2.9.0.post0)\n",
            "Requirement already satisfied: pytz>=2020.1 in /usr/local/lib/python3.11/dist-packages (from pandas->ta) (2025.2)\n",
            "Requirement already satisfied: tzdata>=2022.7 in /usr/local/lib/python3.11/dist-packages (from pandas->ta) (2025.2)\n",
            "Requirement already satisfied: six>=1.5 in /usr/local/lib/python3.11/dist-packages (from python-dateutil>=2.8.2->pandas->ta) (1.17.0)\n",
            "Building wheels for collected packages: ta\n",
            "  Building wheel for ta (setup.py) ... \u001b[?25l\u001b[?25hdone\n",
            "  Created wheel for ta: filename=ta-0.11.0-py3-none-any.whl size=29412 sha256=3a0a1fe78a7168c0fef643648d32d49484d31925d905c3e5ae99abc5aa7b409e\n",
            "  Stored in directory: /root/.cache/pip/wheels/a1/d7/29/7781cc5eb9a3659d032d7d15bdd0f49d07d2b24fec29f44bc4\n",
            "Successfully built ta\n",
            "Installing collected packages: ta\n",
            "Successfully installed ta-0.11.0\n"
          ]
        }
      ]
    },
    {
      "cell_type": "code",
      "source": [
        "import pandas as pd\n",
        "import ta  # pip install ta\n",
        "\n",
        "# 1) Carga y ordena el histórico\n",
        "hist = pd.read_csv(\"price_hist_master.csv\", parse_dates=[\"date\"])\n",
        "hist = hist.sort_values([\"symbol\",\"date\"])\n",
        "\n",
        "# 2) Calcula indicadores (MA7, RSI14, etc.) — opcional pero recomendado\n",
        "features = []\n",
        "for sym, df_sym in hist.groupby(\"symbol\"):\n",
        "    df_sym = df_sym.copy()\n",
        "    df_sym[\"ma7\"] = df_sym[\"price\"].rolling(7).mean()\n",
        "    df_sym[\"rsi14\"] = ta.momentum.RSIIndicator(df_sym[\"price\"],14).rsi()\n",
        "    # … otras features …\n",
        "    features.append(df_sym)\n",
        "hist_feat = pd.concat(features, ignore_index=True)\n",
        "\n",
        "# 3) Genera los targets por shift\n",
        "threshold = 0.20\n",
        "for H in [30,60,90]:\n",
        "    # price futuro H días adelante\n",
        "    hist_feat[f\"price_future_{H}d\"] = hist_feat.groupby(\"symbol\")[\"price\"].shift(-H)\n",
        "    # retorno\n",
        "    hist_feat[f\"target_return_{H}d\"] = hist_feat[f\"price_future_{H}d\"] / hist_feat[\"price\"] - 1\n",
        "    # etiqueta binaria\n",
        "    hist_feat[f\"target_up_{H}d\"] = (hist_feat[f\"target_return_{H}d\"] >= threshold).astype(int)\n",
        "\n",
        "# 4) Limpia filas sin target (las últimas H por moneda)\n",
        "hist_feat.dropna(subset=[f\"target_return_{H}d\" for H in [30,60,90]], inplace=True)\n",
        "\n",
        "# 5) Guarda tu dataset de entrenamiento\n",
        "hist_feat.to_csv(\"training_from_history.csv\", index=False)\n",
        "print(\"✅ training_from_history.csv listo con targets a 30/60/90 días y features históricas.\")\n"
      ],
      "metadata": {
        "colab": {
          "base_uri": "https://localhost:8080/"
        },
        "id": "zzBFDEFaTVU9",
        "outputId": "0486f341-e922-42da-d7ec-22b0820df40b"
      },
      "execution_count": 3,
      "outputs": [
        {
          "output_type": "stream",
          "name": "stdout",
          "text": [
            "✅ training_from_history.csv listo con targets a 30/60/90 días y features históricas.\n"
          ]
        }
      ]
    },
    {
      "cell_type": "code",
      "source": [
        "import pandas as pd\n",
        "\n",
        "df = pd.read_csv(\"training_from_history.csv\", parse_dates=[\"date\"])\n",
        "\n",
        "# Ordena por fecha\n",
        "df = df.sort_values(\"date\")\n",
        "\n",
        "# Define cuántos días de “test” quieres reservar\n",
        "test_size = 0.2  # por ejemplo el 20 %\n",
        "\n",
        "n     = len(df)\n",
        "split = int(n*(1-test_size))\n",
        "\n",
        "train_df = df.iloc[:split]\n",
        "test_df  = df.iloc[split:]"
      ],
      "metadata": {
        "id": "MvG05gOaVuhM"
      },
      "execution_count": 5,
      "outputs": []
    },
    {
      "cell_type": "code",
      "source": [
        "import pandas as pd\n",
        "\n",
        "# 1) Carga el dataset histórico con targets\n",
        "df = pd.read_csv(\"training_from_history.csv\", parse_dates=[\"date\"])\n",
        "\n",
        "# 2) Ordena por fecha ascendente\n",
        "df = df.sort_values(\"date\")\n",
        "\n",
        "# 3) Define el tamaño de test (20% final)\n",
        "test_size = 0.2\n",
        "n = len(df)\n",
        "split = int(n * (1 - test_size))\n",
        "\n",
        "# 4) Crea los datasets de entrenamiento y prueba\n",
        "train_df = df.iloc[:split].reset_index(drop=True)\n",
        "test_df  = df.iloc[split:].reset_index(drop=True)\n",
        "\n",
        "# 5) Guarda como CSV independientes\n",
        "train_df.to_csv(\"train_history.csv\", index=False)\n",
        "test_df.to_csv(\"test_history.csv\",  index=False)\n",
        "\n",
        "print(\"✅ Se han guardado 'train_history.csv' y 'test_history.csv' con el split 80/20.\")\n"
      ],
      "metadata": {
        "colab": {
          "base_uri": "https://localhost:8080/"
        },
        "id": "9iAUJeGYhHf_",
        "outputId": "23de685f-77e5-4da2-96bd-2ad267b8e0d2"
      },
      "execution_count": 6,
      "outputs": [
        {
          "output_type": "stream",
          "name": "stdout",
          "text": [
            "✅ Se han guardado 'train_history.csv' y 'test_history.csv' con el split 80/20.\n"
          ]
        }
      ]
    }
  ]
}