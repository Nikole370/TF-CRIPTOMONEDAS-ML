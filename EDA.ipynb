{
 "cells": [
  {
   "cell_type": "markdown",
   "id": "1f2a6160",
   "metadata": {},
   "source": [
    "# Librerias"
   ]
  },
  {
   "cell_type": "code",
   "execution_count": 1,
   "id": "ae4fc11c",
   "metadata": {},
   "outputs": [],
   "source": [
    "# 📦 Importar librerías necesarias\n",
    "import pandas as pd\n",
    "import matplotlib.pyplot as plt\n",
    "import seaborn as sns"
   ]
  },
  {
   "cell_type": "code",
   "execution_count": 2,
   "id": "21c93403",
   "metadata": {},
   "outputs": [],
   "source": [
    "import numpy as np"
   ]
  },
  {
   "cell_type": "code",
   "execution_count": 26,
   "id": "5c0cd5f5",
   "metadata": {},
   "outputs": [
    {
     "name": "stdout",
     "output_type": "stream",
     "text": [
      "🔢 Cantidad de filas y columnas:\n",
      "monedas_completas.csv: (5000, 26)\n",
      "snapshot_master.csv: (2188, 27)\n",
      "\n",
      "🧩 Columnas en monedas_completas pero no en snapshot_master:\n",
      "[]\n",
      "\n",
      "🧩 Columnas en snapshot_master pero no en monedas_completas:\n",
      "['narrativa']\n"
     ]
    }
   ],
   "source": [
    "# Cargar ambos archivos\n",
    "df1 = pd.read_csv('data/monedas_completas.csv')\n",
    "df2 = pd.read_csv('data/snapshot_master.csv')\n",
    "\n",
    "# Tamaño de cada dataframe\n",
    "print(\"🔢 Cantidad de filas y columnas:\")\n",
    "print(\"monedas_completas.csv:\", df1.shape)\n",
    "print(\"snapshot_master.csv:\", df2.shape)\n",
    "\n",
    "# Comparación de columnas\n",
    "cols1 = set(df1.columns)\n",
    "cols2 = set(df2.columns)\n",
    "\n",
    "print(\"\\n🧩 Columnas en monedas_completas pero no en snapshot_master:\")\n",
    "print(sorted(cols1 - cols2))\n",
    "\n",
    "print(\"\\n🧩 Columnas en snapshot_master pero no en monedas_completas:\")\n",
    "print(sorted(cols2 - cols1))"
   ]
  },
  {
   "cell_type": "code",
   "execution_count": 34,
   "id": "c4607fdb",
   "metadata": {},
   "outputs": [
    {
     "name": "stdout",
     "output_type": "stream",
     "text": [
      "narrativa\n",
      "Otra           1640\n",
      "Memes           484\n",
      "Videojuegos      58\n",
      "Desconocida       6\n",
      "Name: count, dtype: int64\n"
     ]
    }
   ],
   "source": [
    "# Contar por narrativa\n",
    "conteo_narrativas = df2['narrativa'].value_counts(dropna=False)\n",
    "\n",
    "# Mostrar resultado\n",
    "print(conteo_narrativas)"
   ]
  },
  {
   "cell_type": "markdown",
   "id": "e9bf5e0c",
   "metadata": {},
   "source": [
    "# monedas_completas.csv"
   ]
  },
  {
   "cell_type": "code",
   "execution_count": 41,
   "id": "ec52bb04",
   "metadata": {},
   "outputs": [],
   "source": [
    "# 📂 Cargar el dataset\n",
    "df = pd.read_csv('data/monedas_completas.csv')"
   ]
  },
  {
   "cell_type": "markdown",
   "id": "4e0d8a06",
   "metadata": {},
   "source": [
    "## 1️⃣ Describe Data – Descripción inicial del dataset"
   ]
  },
  {
   "cell_type": "code",
   "execution_count": 42,
   "id": "2cc89bc6",
   "metadata": {},
   "outputs": [
    {
     "name": "stdout",
     "output_type": "stream",
     "text": [
      "id                                   object\n",
      "symbol                               object\n",
      "name                                 object\n",
      "image                                object\n",
      "current_price                       float64\n",
      "market_cap                          float64\n",
      "market_cap_rank                     float64\n",
      "fully_diluted_valuation             float64\n",
      "total_volume                        float64\n",
      "high_24h                            float64\n",
      "low_24h                             float64\n",
      "price_change_24h                    float64\n",
      "price_change_percentage_24h         float64\n",
      "market_cap_change_24h               float64\n",
      "market_cap_change_percentage_24h    float64\n",
      "circulating_supply                  float64\n",
      "total_supply                        float64\n",
      "max_supply                          float64\n",
      "ath                                 float64\n",
      "ath_change_percentage               float64\n",
      "ath_date                             object\n",
      "atl                                 float64\n",
      "atl_change_percentage               float64\n",
      "atl_date                             object\n",
      "roi                                  object\n",
      "last_updated                         object\n",
      "dtype: object\n"
     ]
    }
   ],
   "source": [
    "print(df.dtypes)"
   ]
  },
  {
   "cell_type": "code",
   "execution_count": 43,
   "id": "34f664e1",
   "metadata": {},
   "outputs": [
    {
     "name": "stdout",
     "output_type": "stream",
     "text": [
      "Cantidad de filas: 5000\n",
      "Cantidad de columnas: 26\n"
     ]
    }
   ],
   "source": [
    "print(f\"Cantidad de filas: {df.shape[0]}\")\n",
    "print(f\"Cantidad de columnas: {df.shape[1]}\")"
   ]
  },
  {
   "cell_type": "markdown",
   "id": "ac692825",
   "metadata": {},
   "source": [
    "## 2️⃣ Verify Data Quality – Calidad de datos"
   ]
  },
  {
   "cell_type": "code",
   "execution_count": 30,
   "id": "eccb211b",
   "metadata": {},
   "outputs": [
    {
     "name": "stdout",
     "output_type": "stream",
     "text": [
      "market_cap_rank                     2188\n",
      "roi                                 2175\n",
      "max_supply                           834\n",
      "price_change_24h                     615\n",
      "market_cap_change_24h                615\n",
      "price_change_percentage_24h          615\n",
      "market_cap_change_percentage_24h     615\n",
      "low_24h                              615\n",
      "high_24h                             615\n",
      "fully_diluted_valuation              141\n",
      "total_supply                         133\n",
      "current_price                          2\n",
      "ath_date                               1\n",
      "atl_date                               1\n",
      "ath                                    1\n",
      "atl                                    1\n",
      "symbol                                 1\n",
      "id                                     0\n",
      "name                                   0\n",
      "total_volume                           0\n",
      "market_cap                             0\n",
      "image                                  0\n",
      "circulating_supply                     0\n",
      "atl_change_percentage                  0\n",
      "ath_change_percentage                  0\n",
      "last_updated                           0\n",
      "narrativa                              0\n",
      "dtype: int64\n"
     ]
    }
   ],
   "source": [
    "# Revisión de valores nulos\n",
    "print(df.isna().sum().sort_values(ascending=False))"
   ]
  },
  {
   "cell_type": "markdown",
   "id": "b6ce2be1",
   "metadata": {},
   "source": [
    "🗑️ Eliminar por exceso de nulos o irrelevancia:\n",
    "roi, market_cap_rank (todos son nulos)\n",
    "\n",
    "🧽 Limpiar o imputar según relevancia:\n",
    "max_supply, fully_diluted_valuation, price_change_percentage_24h, low_24h, price_change_24h, high_24h, market_cap_change_24h, market_cap_change_percentage_24h, total_supply, current_price, atl, ath, atl_date, ath_date, atl_change_percentage, ath_change_percentage, symbol, total_volume"
   ]
  },
  {
   "cell_type": "code",
   "execution_count": 31,
   "id": "02482092",
   "metadata": {},
   "outputs": [
    {
     "name": "stdout",
     "output_type": "stream",
     "text": [
      "Filas duplicadas: 217\n"
     ]
    }
   ],
   "source": [
    "# Revisión de duplicados\n",
    "print(f\"Filas duplicadas: {df.duplicated().sum()}\")"
   ]
  },
  {
   "cell_type": "code",
   "execution_count": 32,
   "id": "2214a7f2",
   "metadata": {},
   "outputs": [
    {
     "name": "stdout",
     "output_type": "stream",
     "text": [
      "market_cap_rank                     100.000000\n",
      "roi                                  99.405850\n",
      "max_supply                           38.117002\n",
      "price_change_24h                     28.107861\n",
      "market_cap_change_24h                28.107861\n",
      "price_change_percentage_24h          28.107861\n",
      "market_cap_change_percentage_24h     28.107861\n",
      "low_24h                              28.107861\n",
      "high_24h                             28.107861\n",
      "fully_diluted_valuation               6.444241\n",
      "total_supply                          6.078611\n",
      "current_price                         0.091408\n",
      "ath_date                              0.045704\n",
      "atl_date                              0.045704\n",
      "ath                                   0.045704\n",
      "atl                                   0.045704\n",
      "symbol                                0.045704\n",
      "id                                    0.000000\n",
      "name                                  0.000000\n",
      "total_volume                          0.000000\n",
      "market_cap                            0.000000\n",
      "image                                 0.000000\n",
      "circulating_supply                    0.000000\n",
      "atl_change_percentage                 0.000000\n",
      "ath_change_percentage                 0.000000\n",
      "last_updated                          0.000000\n",
      "narrativa                             0.000000\n",
      "dtype: float64\n"
     ]
    }
   ],
   "source": [
    "# Porcentaje de valores nulos por columna\n",
    "null_percent = df.isna().mean() * 100\n",
    "print(null_percent.sort_values(ascending=False))"
   ]
  },
  {
   "cell_type": "code",
   "execution_count": 33,
   "id": "e8cbeb6f",
   "metadata": {},
   "outputs": [
    {
     "name": "stdout",
     "output_type": "stream",
     "text": [
      "Columna sin variabilidad: market_cap -> 0.0\n"
     ]
    }
   ],
   "source": [
    "# Columnas con un solo valor único (sin variabilidad)\n",
    "for col in df.columns:\n",
    "    if df[col].nunique() == 1:\n",
    "        print(f\"Columna sin variabilidad: {col} -> {df[col].unique()[0]}\")"
   ]
  },
  {
   "cell_type": "markdown",
   "id": "40fc7b67",
   "metadata": {},
   "source": [
    "## 3️⃣ Explore Data – Exploración visual (solo columnas numéricas sin muchos nulos)"
   ]
  },
  {
   "cell_type": "markdown",
   "id": "2e81d4ad",
   "metadata": {},
   "source": [
    "### Histogramas"
   ]
  },
  {
   "cell_type": "code",
   "execution_count": 9,
   "id": "e39e50c7",
   "metadata": {},
   "outputs": [],
   "source": [
    "cols_hist = [\n",
    "    'current_price',\n",
    "    'circulating_supply',\n",
    "    'total_supply',\n",
    "    'max_supply',\n",
    "    'price_change_24h',\n",
    "    'price_change_percentage_24h',\n",
    "    'market_cap_change_24h',\n",
    "    'market_cap_change_percentage_24h',\n",
    "    'low_24h',\n",
    "    'high_24h',\n",
    "    'fully_diluted_valuation'\n",
    "]"
   ]
  },
  {
   "cell_type": "code",
   "execution_count": null,
   "id": "c73f58e3",
   "metadata": {},
   "outputs": [],
   "source": [
    "# Estilo visual\n",
    "sns.set(style='whitegrid')\n",
    "plt.figure(figsize=(16, 25))  # Ajusta tamaño según cantidad\n",
    "\n",
    "# Graficar cada histograma\n",
    "for i, col in enumerate(cols_hist, 1):\n",
    "    plt.subplot(6, 2, i)  # Cambia el layout si usas más o menos columnas\n",
    "    sns.histplot(df[col].dropna(), kde=True, bins=30, color='skyblue')\n",
    "    plt.title(f'Histograma: {col}')\n",
    "    plt.xlabel(col)\n",
    "    plt.ylabel('Frecuencia')\n",
    "\n",
    "plt.tight_layout()\n",
    "plt.show()"
   ]
  },
  {
   "cell_type": "markdown",
   "id": "f3cec85f",
   "metadata": {},
   "source": [
    "🔵 1. Distribuciones altamente sesgadas a la izquierda (derecha extendida)\n",
    "\n",
    "Hay muchísimos valores concentrados cerca de cero (por ejemplo, precios de $0.00001, supplies de cientos o miles, etc.)\n",
    "\n",
    "La mayoría de las criptomonedas tienen valores pequeños, mientras que unas pocas tienen valores extremadamente altos.\n",
    "Esto es típico en cripto: muchas monedas tienen poco volumen, precio o capitalización, y solo unas pocas dominan el mercado (como BTC o ETH)."
   ]
  },
  {
   "cell_type": "markdown",
   "id": "bd7e3ed6",
   "metadata": {},
   "source": [
    "| Variable                              | Lo que sugiere la distribución                                                             |\n",
    "| ------------------------------------- | ------------------------------------------------------------------------------------------ |\n",
    "| `current_price`                       | La mayoría de las criptos valen muy poco en USD                                            |\n",
    "| `circulating_supply` / `total_supply` | La mayoría tiene un supply pequeño en comparación con algunas que tienen muchísimos tokens |\n",
    "| `fully_diluted_valuation`             | Muy pocas tienen valuaciones billonarias; la mayoría valen muy poco aún con todo su supply |\n",
    "| `low_24h` / `high_24h`                | Incluso en su pico o caída reciente, muchas siguen estando cerca de \\$0                    |"
   ]
  },
  {
   "cell_type": "markdown",
   "id": "95ed1d55",
   "metadata": {},
   "source": [
    "🟡 2. Campos de variación porcentual también están sesgados\n",
    "\n",
    "- Pico muy alto cerca de 0% → muchas criptos apenas cambiaron\n",
    "- Cola larga hacia valores altos y bajos → algunas pocas criptos subieron o bajaron muchísimo\n",
    "- Valores negativos extremos (en market_cap_change_percentage_24h) → pérdidas fuertes en pocas monedas\n",
    "\n",
    "\n",
    "Aunque son porcentajes, la mayoría de monedas cambian poco, pero hay algunas que tienen subidas o caídas extremadamente grandes en 24h.\n",
    "Esto es útil para detectar outliers o posibles monedas “pump and dump”."
   ]
  },
  {
   "cell_type": "markdown",
   "id": "c721ef04",
   "metadata": {},
   "source": [
    "| **Variable**                       | **Qué sugiere la variación porcentual**                                                                            |\n",
    "| ---------------------------------- | ------------------------------------------------------------------------------------------------------------------ |\n",
    "| `market_cap_change_percentage_24h` | La mayoría de criptomonedas tienen cambios leves en su capitalización, pero unas pocas varían mucho                |\n",
    "| `price_change_percentage_24h`      | La mayoría de precios se mantienen relativamente estables en 24h, pero algunas criptos suben o bajan drásticamente |"
   ]
  },
  {
   "cell_type": "markdown",
   "id": "291475de",
   "metadata": {},
   "source": [
    "🔴 3. Valores negativos en campos de cambio\n",
    "\n",
    "Muchas criptos han perdido valor de mercado en las últimas 24h. Podría ser por tendencias bajistas o por ser monedas con poca liquidez."
   ]
  },
  {
   "cell_type": "markdown",
   "id": "9d7fbc54",
   "metadata": {},
   "source": [
    "| **Variable**            | **Qué sugiere el comportamiento del cambio**                                                                               |\n",
    "| ----------------------- | -------------------------------------------------------------------------------------------------------------------------- |\n",
    "| `market_cap_change_24h` | Muchas criptomonedas han perdido valor de mercado en las últimas 24h, posiblemente por tendencias bajistas o baja liquidez |"
   ]
  },
  {
   "cell_type": "markdown",
   "id": "06ada318",
   "metadata": {},
   "source": [
    "🟠 4. Dispersión extrema en campos de precios y valoración\n",
    "Estos campos contienen valores atípicos muy grandes que aplastan la distribución del resto de datos.\n",
    "Algunos pueden ser errores, o pueden representar proyectos con supply mal definido o recién creados."
   ]
  },
  {
   "cell_type": "markdown",
   "id": "185dc7c5",
   "metadata": {},
   "source": [
    "| **Variable**              | **Qué sugiere la dispersión de precios o valoración**                                                                                   |\n",
    "| ------------------------- | --------------------------------------------------------------------------------------------------------------------------------------- |\n",
    "| `fully_diluted_valuation` | Contiene valores extremadamente altos que distorsionan la distribución; podrían deberse a errores o a proyectos con supply mal definido |\n",
    "| `high_24h`                | Algunas criptomonedas alcanzaron precios muy altos en las últimas 24h, creando outliers que aplastan el resto de la distribución        |\n",
    "| `price_change_24h`        | Se observan variaciones de precio muy grandes en pocas monedas, lo que genera una dispersión elevada frente al resto del conjunto       |\n"
   ]
  },
  {
   "cell_type": "markdown",
   "id": "91afc247",
   "metadata": {},
   "source": [
    "### Visualizar mejor los outliers con boxplots "
   ]
  },
  {
   "cell_type": "markdown",
   "id": "2a3a5b19",
   "metadata": {},
   "source": [
    "estas variables en los pasos previos (con histogramas y tu análisis) ya mostraban señales claras de contener valores atípicos extremos (outliers)"
   ]
  },
  {
   "cell_type": "code",
   "execution_count": 16,
   "id": "0056db2a",
   "metadata": {},
   "outputs": [],
   "source": [
    "cols_boxplot = [\n",
    "    'current_price',\n",
    "    'circulating_supply',\n",
    "    'total_supply',\n",
    "    'max_supply',\n",
    "    'price_change_24h',\n",
    "    'fully_diluted_valuation',\n",
    "    'high_24h',\n",
    "    'market_cap_change_24h'\n",
    "]\n"
   ]
  },
  {
   "cell_type": "code",
   "execution_count": null,
   "id": "ac68baef",
   "metadata": {},
   "outputs": [],
   "source": [
    "# boxplots normales\n",
    "sns.set(style='whitegrid')\n",
    "plt.figure(figsize=(16, 20))\n",
    "\n",
    "for i, col in enumerate(cols_boxplot, 1):\n",
    "    plt.subplot(4, 2, i)\n",
    "    sns.boxplot(x=df[col].dropna(), color='lightblue')\n",
    "    plt.title(f'Boxplot: {col}')\n",
    "    plt.xlabel(col)\n",
    "\n",
    "plt.tight_layout()\n",
    "plt.show()"
   ]
  },
  {
   "cell_type": "markdown",
   "id": "1c77a2cd",
   "metadata": {},
   "source": [
    "| **Variable**              | **Qué revela el boxplot normal**                                                                                       |\n",
    "| ------------------------- | ---------------------------------------------------------------------------------------------------------------------- |\n",
    "| `current_price`           | Distribución concentrada en valores bajos, con un outlier extremadamente alto que podría ser un error o token atípico. |\n",
    "| `circulating_supply`      | Gran mayoría con supply bajo, pero un outlier con supply muy alto. Podría ser una cripto con muchos tokens o error.    |\n",
    "| `total_supply`            | Similar a circulating\\_supply, con un outlier extremadamente grande (≈7e+41), posiblemente mal definido.               |\n",
    "| `max_supply`              | Valores mayormente bajos, con un valor extremo que sugiere un supply irreal o sin sentido.                             |\n",
    "| `price_change_24h`        | Cambios pequeños en la mayoría, pero un outlier muy alto indica criptos con subidas exageradas en 24h.                 |\n",
    "| `fully_diluted_valuation` | La mayoría de criptos valen poco, pero hay un valor teórico altísimo, lo que puede reflejar un proyecto mal cargado.   |\n",
    "| `high_24h`                | La mayoría de criptos tienen precios máximos bajos, pero hay un pico aislado muy alto posiblemente erróneo.            |\n",
    "| `market_cap_change_24h`   | Valores muy negativos con outliers extremos a la izquierda, lo que indica pérdidas de capitalización fuertes en 24h.   |\n"
   ]
  },
  {
   "cell_type": "code",
   "execution_count": null,
   "id": "18d72ad4",
   "metadata": {},
   "outputs": [],
   "source": [
    "# boxplots con log(x+1)\n",
    "plt.figure(figsize=(16, 20))\n",
    "\n",
    "for i, col in enumerate(cols_boxplot, 1):\n",
    "    plt.subplot(4, 2, i)\n",
    "    log_data = np.log1p(df[col].dropna())\n",
    "    sns.boxplot(x=log_data, color='salmon')\n",
    "    plt.title(f'Boxplot log(x+1): {col}')\n",
    "    plt.xlabel(f'log({col} + 1)')\n",
    "\n",
    "plt.tight_layout()\n",
    "plt.show()"
   ]
  },
  {
   "cell_type": "markdown",
   "id": "00d7ab14",
   "metadata": {},
   "source": [
    "### Graficar la matriz de correlación"
   ]
  },
  {
   "cell_type": "code",
   "execution_count": 19,
   "id": "9aaa3c21",
   "metadata": {},
   "outputs": [],
   "source": [
    "# Seleccionamos solo columnas numéricas válidas\n",
    "df_corr = df.select_dtypes(include=['float64', 'int64']).copy()\n",
    "\n",
    "# Opcional: eliminar columnas no útiles\n",
    "df_corr = df_corr.drop(columns=['roi', 'market_cap', 'market_cap_rank'], errors='ignore')\n"
   ]
  },
  {
   "cell_type": "markdown",
   "id": "3425014c",
   "metadata": {},
   "source": [
    "| **Variable**      | **Por qué no es útil**                                                 |\n",
    "| ----------------- | ---------------------------------------------------------------------- |\n",
    "| `roi`             | Tiene más del 99% de valores nulos → no aporta información confiable   |\n",
    "| `market_cap`      | Tiene un solo valor (`0.0`) en todas las filas → no tiene variabilidad |\n",
    "| `market_cap_rank` | Está completamente vacío → no puede usarse para análisis ni modelado   |\n"
   ]
  },
  {
   "cell_type": "code",
   "execution_count": null,
   "id": "a2e8418f",
   "metadata": {},
   "outputs": [],
   "source": [
    "# Calcular matriz de correlación\n",
    "corr_matrix = df_corr.corr()\n",
    "\n",
    "# Crear heatmap\n",
    "plt.figure(figsize=(16, 12))\n",
    "sns.heatmap(corr_matrix, annot=True, fmt='.2f', cmap='coolwarm', center=0, square=True, linewidths=0.5)\n",
    "plt.title('Matriz de Correlación - Variables Numéricas')\n",
    "plt.show()"
   ]
  },
  {
   "cell_type": "markdown",
   "id": "527f2791",
   "metadata": {},
   "source": [
    "📌 Principales hallazgos de correlaciones fuertes:\n",
    "\n",
    "| **Par de variables**                      | **Correlación** | **Interpretación**                                                               |\n",
    "| ----------------------------------------- | --------------- | -------------------------------------------------------------------------------- |\n",
    "| `high_24h` y `current_price`              | 1.00            | Completamente correlacionadas → una de las dos podría eliminarse                 |\n",
    "| `low_24h` y `current_price`               | 1.00            | Misma situación: representa extremos de precio, pero están linealmente ligadas   |\n",
    "| `price_change_24h` y `current_price`      | 1.00            | Cambio absoluto está altamente vinculado al precio actual                        |\n",
    "| `market_cap_change_24h` y `current_price` | 1.00            | También se ve que market cap fluctúa junto al precio → otra señal de redundancia |\n",
    "| `high_24h`, `low_24h`, `ath`, `atl`       | Todos con 1.00  | Todos esos valores están linealmente relacionados con el `current_price`         |\n"
   ]
  },
  {
   "cell_type": "markdown",
   "id": "82f003b4",
   "metadata": {},
   "source": [
    "### Scatterplots relevantes"
   ]
  },
  {
   "cell_type": "code",
   "execution_count": 21,
   "id": "4b566e56",
   "metadata": {},
   "outputs": [
    {
     "data": {
      "image/png": "[encoded data removed]",
      "text/plain": [
       "<Figure size 800x600 with 1 Axes>"
      ]
     },
     "metadata": {},
     "output_type": "display_data"
    }
   ],
   "source": [
    "# Scatterplot en escala log-log\n",
    "plt.figure(figsize=(8, 6))\n",
    "sns.scatterplot(\n",
    "    x=np.log1p(df['current_price']),\n",
    "    y=np.log1p(df['fully_diluted_valuation']),\n",
    "    alpha=0.5\n",
    ")\n",
    "plt.xlabel('log(current_price + 1)')\n",
    "plt.ylabel('log(fully_diluted_valuation + 1)')\n",
    "plt.title('Relación entre current_price y fully_diluted_valuation')\n",
    "plt.grid(True)\n",
    "plt.show()"
   ]
  },
  {
   "cell_type": "code",
   "execution_count": null,
   "id": "3e20eb13",
   "metadata": {},
   "outputs": [],
   "source": [
    "plt.figure(figsize=(8, 6))\n",
    "sns.scatterplot(\n",
    "    x=np.log1p(df['total_supply']),\n",
    "    y=np.log1p(df['current_price']),\n",
    "    alpha=0.5\n",
    ")\n",
    "plt.xlabel('log(total_supply + 1)')\n",
    "plt.ylabel('log(current_price + 1)')\n",
    "plt.title('Relación entre total_supply y current_price')\n",
    "plt.grid(True)\n",
    "plt.show()\n"
   ]
  },
  {
   "cell_type": "markdown",
   "id": "db617dca",
   "metadata": {},
   "source": [
    "| **Variable**              | **Relación visual con `current_price`** | **¿Mantener?**           | **Comentario**                                                 |\n",
    "| ------------------------- | --------------------------------------- | ------------------------ | -------------------------------------------------------------- |\n",
    "| `fully_diluted_valuation` | Muy dispersa, sin patrón claro          | ⚠️ Dudoso                | No hay tendencia clara, evaluar si usarla como categoría bruta |\n",
    "| `total_supply`            | Relación inversa leve visible           | ✅ Sí, con transformación | Puede ser útil al agrupar o usar en log para modelos           |\n",
    "| `current_price`           | — (es target o principal referencia)    | ✅ Obligatorio            | Variable clave para la mayoría de análisis                     |\n"
   ]
  },
  {
   "cell_type": "markdown",
   "id": "f9f166fd",
   "metadata": {},
   "source": [
    "### Agrupar por rangos para explorar categorías útiles"
   ]
  },
  {
   "cell_type": "code",
   "execution_count": 23,
   "id": "9d866bad",
   "metadata": {},
   "outputs": [
    {
     "name": "stdout",
     "output_type": "stream",
     "text": [
      "precio_rango\n",
      "Muy bajo    3615\n",
      "Bajo         642\n",
      "Medio        261\n",
      "Extremo      216\n",
      "Alto         144\n",
      "Muy alto     117\n",
      "Name: count, dtype: int64\n"
     ]
    }
   ],
   "source": [
    "df['precio_rango'] = pd.cut(\n",
    "    df['current_price'],\n",
    "    bins=[-1, 0.1, 1, 10, 100, 1000, np.inf],\n",
    "    labels=['Muy bajo', 'Bajo', 'Medio', 'Alto', 'Muy alto', 'Extremo']\n",
    ")\n",
    "\n",
    "# Recuento de criptos por categoría\n",
    "print(df['precio_rango'].value_counts())\n"
   ]
  },
  {
   "cell_type": "markdown",
   "id": "e65170f3",
   "metadata": {},
   "source": [
    "| **Rango**             | **Cantidad**    | **Interpretación**                                                                    |\n",
    "| --------------------- | --------------- | ------------------------------------------------------------------------------------- |\n",
    "| Muy bajo              | 3615            | La gran mayoría de criptos valen menos de \\$0.1 → este grupo podría ser significativo |\n",
    "| Bajo–Medio            | 903 (642 + 261) | Representa un mercado minoritario de criptos con algo más de valor                    |\n",
    "| Alto–Muy alto–Extremo | 477             | Criptos de precio significativo → tal vez más establecidas o con especulación fuerte  |\n"
   ]
  },
  {
   "cell_type": "code",
   "execution_count": 24,
   "id": "be4830cc",
   "metadata": {},
   "outputs": [
    {
     "name": "stdout",
     "output_type": "stream",
     "text": [
      "supply_grupo\n",
      "Bajo          1170\n",
      "Medio-bajo    1170\n",
      "Medio-alto    1170\n",
      "Alto          1170\n",
      "Name: count, dtype: int64\n"
     ]
    }
   ],
   "source": [
    "df['supply_grupo'] = pd.qcut(df['total_supply'], q=4, labels=['Bajo', 'Medio-bajo', 'Medio-alto', 'Alto'])\n",
    "\n",
    "# Recuento de criptos por grupo\n",
    "print(df['supply_grupo'].value_counts())\n"
   ]
  },
  {
   "cell_type": "markdown",
   "id": "7f253238",
   "metadata": {},
   "source": [
    "| **Uso posible**                                      | **Variable**                            |\n",
    "| ---------------------------------------------------- | --------------------------------------- |\n",
    "| Análisis comparativo (gráficos, promedios por grupo) | `precio_rango`, `supply_grupo`          |\n",
    "| Input categórico en modelos                          | `precio_rango`, `supply_grupo`          |\n",
    "| Ver distribución de otras variables por grupo        | `volumen`, `porcentaje de cambio`, etc. |\n"
   ]
  },
  {
   "cell_type": "markdown",
   "id": "cabb0d09",
   "metadata": {},
   "source": [
    "## 4️⃣ Select Data – Justificación de selección de columnas"
   ]
  },
  {
   "cell_type": "code",
   "execution_count": 35,
   "id": "f7426478",
   "metadata": {},
   "outputs": [
    {
     "name": "stdout",
     "output_type": "stream",
     "text": [
      "Columnas candidatas a excluir: ['market_cap_rank', 'roi']\n"
     ]
    }
   ],
   "source": [
    "# Ver columnas con más de 50% de nulos que podrías excluir\n",
    "columnas_excluir = null_percent[null_percent > 50].index.tolist()\n",
    "print(\"Columnas candidatas a excluir:\", columnas_excluir)"
   ]
  },
  {
   "cell_type": "code",
   "execution_count": 36,
   "id": "8a255b21",
   "metadata": {},
   "outputs": [
    {
     "name": "stdout",
     "output_type": "stream",
     "text": [
      "Otras columnas candidatas a excluir: ['image', 'roi']\n"
     ]
    }
   ],
   "source": [
    "# Verifica si hay columnas irrelevantes (ej. URL de imagen)\n",
    "irrelevantes = ['image', 'roi']\n",
    "print(\"Otras columnas candidatas a excluir:\", irrelevantes)"
   ]
  },
  {
   "cell_type": "code",
   "execution_count": 37,
   "id": "c8916cc5",
   "metadata": {},
   "outputs": [
    {
     "name": "stdout",
     "output_type": "stream",
     "text": [
      "Columnas finales a excluir: ['image', 'max_supply', 'market_cap_rank', 'roi']\n"
     ]
    }
   ],
   "source": [
    "# Agregamos max_supply manualmente por baja relevancia para el negocio\n",
    "columnas_excluir.extend(['max_supply'])\n",
    "\n",
    "# Asegurar que no se repitan\n",
    "columnas_excluir = list(set(columnas_excluir + irrelevantes))\n",
    "print(\"Columnas finales a excluir:\", columnas_excluir)"
   ]
  },
  {
   "cell_type": "markdown",
   "id": "563198e9",
   "metadata": {},
   "source": [
    "Además de las columnas market_cap_rank y roi excluidas por su alta proporción de valores nulos, se decidió también excluir max_supply al no ser determinante para el objetivo del negocio. Esta variable representa el suministro máximo de tokens, pero dada su alta cantidad de valores faltantes (41%) y su limitada utilidad directa en la identificación de activos según narrativa y valorización, se descartó para este análisis."
   ]
  },
  {
   "cell_type": "markdown",
   "id": "b1f93de9",
   "metadata": {},
   "source": [
    "## 🔄 Clean Data – Limpieza de datos"
   ]
  },
  {
   "cell_type": "code",
   "execution_count": 38,
   "id": "b10cd11a",
   "metadata": {},
   "outputs": [],
   "source": [
    "# Eliminar columnas irrelevantes o incompletas\n",
    "df = df.drop(columns=columnas_excluir, errors='ignore')"
   ]
  },
  {
   "cell_type": "code",
   "execution_count": 39,
   "id": "ac1f27da",
   "metadata": {},
   "outputs": [],
   "source": [
    "# Imputar columnas numéricas con pocos nulos\n",
    "cols_num = df.select_dtypes(include='number').columns\n",
    "for col in cols_num:\n",
    "    if df[col].isna().sum() > 0:\n",
    "        df[col] = df[col].fillna(df[col].mean())"
   ]
  },
  {
   "cell_type": "code",
   "execution_count": 40,
   "id": "35afc383",
   "metadata": {},
   "outputs": [
    {
     "name": "stdout",
     "output_type": "stream",
     "text": [
      "Nulos restantes: ath_date                            2\n",
      "atl_date                            2\n",
      "symbol                              1\n",
      "current_price                       0\n",
      "name                                0\n",
      "id                                  0\n",
      "fully_diluted_valuation             0\n",
      "market_cap                          0\n",
      "total_volume                        0\n",
      "high_24h                            0\n",
      "price_change_percentage_24h         0\n",
      "market_cap_change_24h               0\n",
      "low_24h                             0\n",
      "price_change_24h                    0\n",
      "circulating_supply                  0\n",
      "market_cap_change_percentage_24h    0\n",
      "ath                                 0\n",
      "total_supply                        0\n",
      "ath_change_percentage               0\n",
      "atl                                 0\n",
      "atl_change_percentage               0\n",
      "last_updated                        0\n",
      "dtype: int64\n"
     ]
    }
   ],
   "source": [
    "# Comprobar que no quedan nulos\n",
    "print(\"Nulos restantes:\", df.isna().sum().sort_values(ascending=False))"
   ]
  },
  {
   "cell_type": "code",
   "execution_count": 41,
   "id": "b157ab6e",
   "metadata": {},
   "outputs": [],
   "source": [
    "# Eliminar filas con nulos restantes\n",
    "df = df.dropna()"
   ]
  },
  {
   "cell_type": "code",
   "execution_count": 42,
   "id": "78a42899",
   "metadata": {},
   "outputs": [
    {
     "name": "stdout",
     "output_type": "stream",
     "text": [
      "Nulos finales: 0\n"
     ]
    }
   ],
   "source": [
    "# Verificar que no quede nada pendiente\n",
    "print(\"Nulos finales:\", df.isna().sum().sum())"
   ]
  },
  {
   "cell_type": "markdown",
   "id": "95f34152",
   "metadata": {},
   "source": [
    "# snapshot_master"
   ]
  },
  {
   "cell_type": "code",
   "execution_count": 44,
   "id": "92986f96",
   "metadata": {},
   "outputs": [],
   "source": [
    "# 📂 Cargar el dataset\n",
    "df = pd.read_csv('data/snapshot_master.csv')"
   ]
  },
  {
   "cell_type": "markdown",
   "id": "d9df4cc1",
   "metadata": {},
   "source": [
    "## 1️⃣ Describe Data – Descripción inicial del dataset"
   ]
  },
  {
   "cell_type": "code",
   "execution_count": 45,
   "id": "02552339",
   "metadata": {},
   "outputs": [
    {
     "name": "stdout",
     "output_type": "stream",
     "text": [
      "id                                   object\n",
      "symbol                               object\n",
      "name                                 object\n",
      "image                                object\n",
      "current_price                       float64\n",
      "market_cap                          float64\n",
      "market_cap_rank                     float64\n",
      "fully_diluted_valuation             float64\n",
      "total_volume                        float64\n",
      "high_24h                            float64\n",
      "low_24h                             float64\n",
      "price_change_24h                    float64\n",
      "price_change_percentage_24h         float64\n",
      "market_cap_change_24h               float64\n",
      "market_cap_change_percentage_24h    float64\n",
      "circulating_supply                  float64\n",
      "total_supply                        float64\n",
      "max_supply                          float64\n",
      "ath                                 float64\n",
      "ath_change_percentage               float64\n",
      "ath_date                             object\n",
      "atl                                 float64\n",
      "atl_change_percentage               float64\n",
      "atl_date                             object\n",
      "roi                                  object\n",
      "last_updated                         object\n",
      "narrativa                            object\n",
      "dtype: object\n"
     ]
    }
   ],
   "source": [
    "print(df.dtypes)"
   ]
  },
  {
   "cell_type": "code",
   "execution_count": 46,
   "id": "73247e66",
   "metadata": {},
   "outputs": [
    {
     "name": "stdout",
     "output_type": "stream",
     "text": [
      "Cantidad de filas: 2188\n",
      "Cantidad de columnas: 27\n"
     ]
    }
   ],
   "source": [
    "print(f\"Cantidad de filas: {df.shape[0]}\")\n",
    "print(f\"Cantidad de columnas: {df.shape[1]}\")"
   ]
  },
  {
   "cell_type": "markdown",
   "id": "460f8baf",
   "metadata": {},
   "source": [
    "## 2️⃣ Verify Data Quality – Calidad de datos"
   ]
  },
  {
   "cell_type": "code",
   "execution_count": 47,
   "id": "f7b8fc46",
   "metadata": {},
   "outputs": [
    {
     "name": "stdout",
     "output_type": "stream",
     "text": [
      "market_cap_rank                     2188\n",
      "roi                                 2175\n",
      "max_supply                           834\n",
      "price_change_24h                     615\n",
      "market_cap_change_24h                615\n",
      "price_change_percentage_24h          615\n",
      "market_cap_change_percentage_24h     615\n",
      "low_24h                              615\n",
      "high_24h                             615\n",
      "fully_diluted_valuation              141\n",
      "total_supply                         133\n",
      "current_price                          2\n",
      "ath_date                               1\n",
      "atl_date                               1\n",
      "ath                                    1\n",
      "atl                                    1\n",
      "symbol                                 1\n",
      "id                                     0\n",
      "name                                   0\n",
      "total_volume                           0\n",
      "market_cap                             0\n",
      "image                                  0\n",
      "circulating_supply                     0\n",
      "atl_change_percentage                  0\n",
      "ath_change_percentage                  0\n",
      "last_updated                           0\n",
      "narrativa                              0\n",
      "dtype: int64\n"
     ]
    }
   ],
   "source": [
    "# Revisión de valores nulos\n",
    "print(df.isna().sum().sort_values(ascending=False))"
   ]
  },
  {
   "cell_type": "code",
   "execution_count": 49,
   "id": "3d7bdf53",
   "metadata": {},
   "outputs": [
    {
     "name": "stdout",
     "output_type": "stream",
     "text": [
      "market_cap_rank                     100.000000\n",
      "roi                                  99.405850\n",
      "max_supply                           38.117002\n",
      "price_change_24h                     28.107861\n",
      "market_cap_change_24h                28.107861\n",
      "price_change_percentage_24h          28.107861\n",
      "market_cap_change_percentage_24h     28.107861\n",
      "low_24h                              28.107861\n",
      "high_24h                             28.107861\n",
      "fully_diluted_valuation               6.444241\n",
      "total_supply                          6.078611\n",
      "current_price                         0.091408\n",
      "ath_date                              0.045704\n",
      "atl_date                              0.045704\n",
      "ath                                   0.045704\n",
      "atl                                   0.045704\n",
      "symbol                                0.045704\n",
      "id                                    0.000000\n",
      "name                                  0.000000\n",
      "total_volume                          0.000000\n",
      "market_cap                            0.000000\n",
      "image                                 0.000000\n",
      "circulating_supply                    0.000000\n",
      "atl_change_percentage                 0.000000\n",
      "ath_change_percentage                 0.000000\n",
      "last_updated                          0.000000\n",
      "narrativa                             0.000000\n",
      "dtype: float64\n"
     ]
    }
   ],
   "source": [
    "# Porcentaje de valores nulos por columna\n",
    "null_percent = df.isna().mean() * 100\n",
    "print(null_percent.sort_values(ascending=False))"
   ]
  },
  {
   "cell_type": "code",
   "execution_count": 48,
   "id": "f0caa6bf",
   "metadata": {},
   "outputs": [
    {
     "name": "stdout",
     "output_type": "stream",
     "text": [
      "Filas duplicadas: 217\n"
     ]
    }
   ],
   "source": [
    "# Revisión de duplicados\n",
    "print(f\"Filas duplicadas: {df.duplicated().sum()}\")"
   ]
  },
  {
   "cell_type": "code",
   "execution_count": 50,
   "id": "02e20777",
   "metadata": {},
   "outputs": [
    {
     "name": "stdout",
     "output_type": "stream",
     "text": [
      "Columna sin variabilidad: market_cap -> 0.0\n"
     ]
    }
   ],
   "source": [
    "# Columnas con un solo valor único (sin variabilidad)\n",
    "for col in df.columns:\n",
    "    if df[col].nunique() == 1:\n",
    "        print(f\"Columna sin variabilidad: {col} -> {df[col].unique()[0]}\")"
   ]
  },
  {
   "cell_type": "markdown",
   "id": "fa3784fb",
   "metadata": {},
   "source": [
    "## 3️⃣ Explore Data – Exploración visual (solo columnas numéricas sin muchos nulos)"
   ]
  },
  {
   "cell_type": "markdown",
   "id": "f297d3a7",
   "metadata": {},
   "source": [
    "### Histogramas"
   ]
  },
  {
   "cell_type": "code",
   "execution_count": 51,
   "id": "b5939988",
   "metadata": {},
   "outputs": [],
   "source": [
    "cols_hist = [\n",
    "    'current_price',\n",
    "    'circulating_supply',\n",
    "    'total_supply',\n",
    "    'max_supply',\n",
    "    'price_change_24h',\n",
    "    'price_change_percentage_24h',\n",
    "    'market_cap_change_24h',\n",
    "    'market_cap_change_percentage_24h',\n",
    "    'low_24h',\n",
    "    'high_24h',\n",
    "    'fully_diluted_valuation'\n",
    "]"
   ]
  },
  {
   "cell_type": "code",
   "execution_count": null,
   "id": "6d77a5d7",
   "metadata": {},
   "outputs": [],
   "source": [
    "# Estilo visual\n",
    "sns.set(style='whitegrid')\n",
    "plt.figure(figsize=(16, 25))  # Ajusta tamaño según cantidad\n",
    "\n",
    "# Graficar cada histograma\n",
    "for i, col in enumerate(cols_hist, 1):\n",
    "    plt.subplot(6, 2, i)  # Cambia el layout si usas más o menos columnas\n",
    "    sns.histplot(df[col].dropna(), kde=True, bins=30, color='skyblue')\n",
    "    plt.title(f'Histograma: {col}')\n",
    "    plt.xlabel(col)\n",
    "    plt.ylabel('Frecuencia')\n",
    "\n",
    "plt.tight_layout()\n",
    "plt.show()"
   ]
  },
  {
   "cell_type": "markdown",
   "id": "f2cd3905",
   "metadata": {},
   "source": [
    "### Visualizar mejor los outliers con boxplots "
   ]
  },
  {
   "cell_type": "code",
   "execution_count": 53,
   "id": "f810cbcd",
   "metadata": {},
   "outputs": [],
   "source": [
    "cols_boxplot = [\n",
    "    'current_price',\n",
    "    'circulating_supply',\n",
    "    'total_supply',\n",
    "    'max_supply',\n",
    "    'price_change_24h',\n",
    "    'fully_diluted_valuation',\n",
    "    'high_24h',\n",
    "    'market_cap_change_24h'\n",
    "]\n"
   ]
  },
  {
   "cell_type": "code",
   "execution_count": null,
   "id": "c5ad0afe",
   "metadata": {},
   "outputs": [],
   "source": [
    "# boxplots normales\n",
    "sns.set(style='whitegrid')\n",
    "plt.figure(figsize=(16, 20))\n",
    "\n",
    "for i, col in enumerate(cols_boxplot, 1):\n",
    "    plt.subplot(4, 2, i)\n",
    "    sns.boxplot(x=df[col].dropna(), color='lightblue')\n",
    "    plt.title(f'Boxplot: {col}')\n",
    "    plt.xlabel(col)\n",
    "\n",
    "plt.tight_layout()\n",
    "plt.show()"
   ]
  },
  {
   "cell_type": "code",
   "execution_count": null,
   "id": "9216de8a",
   "metadata": {},
   "outputs": [],
   "source": [
    "# boxplots con log(x+1)\n",
    "plt.figure(figsize=(16, 20))\n",
    "\n",
    "for i, col in enumerate(cols_boxplot, 1):\n",
    "    plt.subplot(4, 2, i)\n",
    "    log_data = np.log1p(df[col].dropna())\n",
    "    sns.boxplot(x=log_data, color='salmon')\n",
    "    plt.title(f'Boxplot log(x+1): {col}')\n",
    "    plt.xlabel(f'log({col} + 1)')\n",
    "\n",
    "plt.tight_layout()\n",
    "plt.show()"
   ]
  },
  {
   "cell_type": "markdown",
   "id": "d0f34089",
   "metadata": {},
   "source": [
    "### Graficar la matriz de correlación"
   ]
  },
  {
   "cell_type": "code",
   "execution_count": 56,
   "id": "b5130116",
   "metadata": {},
   "outputs": [],
   "source": [
    "# Seleccionamos solo columnas numéricas válidas\n",
    "df_corr = df.select_dtypes(include=['float64', 'int64']).copy()\n",
    "\n",
    "# Opcional: eliminar columnas no útiles\n",
    "df_corr = df_corr.drop(columns=['roi', 'market_cap', 'market_cap_rank'], errors='ignore')\n"
   ]
  },
  {
   "cell_type": "code",
   "execution_count": null,
   "id": "0b94cd2f",
   "metadata": {},
   "outputs": [],
   "source": [
    "# Calcular matriz de correlación\n",
    "corr_matrix = df_corr.corr()\n",
    "\n",
    "# Crear heatmap\n",
    "plt.figure(figsize=(16, 12))\n",
    "sns.heatmap(corr_matrix, annot=True, fmt='.2f', cmap='coolwarm', center=0, square=True, linewidths=0.5)\n",
    "plt.title('Matriz de Correlación - Variables Numéricas')\n",
    "plt.show()"
   ]
  },
  {
   "cell_type": "markdown",
   "id": "47659493",
   "metadata": {},
   "source": [
    "### Scatterplots relevantes"
   ]
  },
  {
   "cell_type": "code",
   "execution_count": 58,
   "id": "6bfb09b4",
   "metadata": {},
   "outputs": [
    {
     "data": {
      "image/png": "[encoded data removed]",
      "text/plain": [
       "<Figure size 800x600 with 1 Axes>"
      ]
     },
     "metadata": {},
     "output_type": "display_data"
    }
   ],
   "source": [
    "# Scatterplot en escala log-log\n",
    "plt.figure(figsize=(8, 6))\n",
    "sns.scatterplot(\n",
    "    x=np.log1p(df['current_price']),\n",
    "    y=np.log1p(df['fully_diluted_valuation']),\n",
    "    alpha=0.5\n",
    ")\n",
    "plt.xlabel('log(current_price + 1)')\n",
    "plt.ylabel('log(fully_diluted_valuation + 1)')\n",
    "plt.title('Relación entre current_price y fully_diluted_valuation')\n",
    "plt.grid(True)\n",
    "plt.show()"
   ]
  },
  {
   "cell_type": "code",
   "execution_count": 59,
   "id": "e48cf286",
   "metadata": {},
   "outputs": [
    {
     "data": {
      "image/png": "[encoded data removed]",
      "text/plain": [
       "<Figure size 800x600 with 1 Axes>"
      ]
     },
     "metadata": {},
     "output_type": "display_data"
    }
   ],
   "source": [
    "# Scatterplot en escala log-log\n",
    "plt.figure(figsize=(8, 6))\n",
    "sns.scatterplot(\n",
    "    x=np.log1p(df['current_price']),\n",
    "    y=np.log1p(df['fully_diluted_valuation']),\n",
    "    alpha=0.5\n",
    ")\n",
    "plt.xlabel('log(current_price + 1)')\n",
    "plt.ylabel('log(fully_diluted_valuation + 1)')\n",
    "plt.title('Relación entre current_price y fully_diluted_valuation')\n",
    "plt.grid(True)\n",
    "plt.show()"
   ]
  },
  {
   "cell_type": "markdown",
   "id": "5ae55bbe",
   "metadata": {},
   "source": [
    "### Agrupar por rangos para explorar categorías útiles"
   ]
  },
  {
   "cell_type": "code",
   "execution_count": 60,
   "id": "b3901e79",
   "metadata": {},
   "outputs": [
    {
     "name": "stdout",
     "output_type": "stream",
     "text": [
      "precio_rango\n",
      "Muy bajo    1673\n",
      "Bajo         215\n",
      "Medio        116\n",
      "Extremo       90\n",
      "Alto          47\n",
      "Muy alto      45\n",
      "Name: count, dtype: int64\n"
     ]
    }
   ],
   "source": [
    "df['precio_rango'] = pd.cut(\n",
    "    df['current_price'],\n",
    "    bins=[-1, 0.1, 1, 10, 100, 1000, np.inf],\n",
    "    labels=['Muy bajo', 'Bajo', 'Medio', 'Alto', 'Muy alto', 'Extremo']\n",
    ")\n",
    "\n",
    "# Recuento de criptos por categoría\n",
    "print(df['precio_rango'].value_counts())\n"
   ]
  },
  {
   "cell_type": "code",
   "execution_count": 61,
   "id": "52993c41",
   "metadata": {},
   "outputs": [
    {
     "name": "stdout",
     "output_type": "stream",
     "text": [
      "supply_grupo\n",
      "Medio-alto    547\n",
      "Bajo          514\n",
      "Medio-bajo    514\n",
      "Alto          480\n",
      "Name: count, dtype: int64\n"
     ]
    }
   ],
   "source": [
    "df['supply_grupo'] = pd.qcut(df['total_supply'], q=4, labels=['Bajo', 'Medio-bajo', 'Medio-alto', 'Alto'])\n",
    "\n",
    "# Recuento de criptos por grupo\n",
    "print(df['supply_grupo'].value_counts())\n"
   ]
  },
  {
   "cell_type": "markdown",
   "id": "4e999cda",
   "metadata": {},
   "source": [
    "# price_hist_master"
   ]
  },
  {
   "cell_type": "code",
   "execution_count": 3,
   "id": "e939ab23",
   "metadata": {},
   "outputs": [],
   "source": [
    "# Carga del archivo\n",
    "df = pd.read_csv(\"precios_historicos/price_hist_master.csv\")"
   ]
  },
  {
   "cell_type": "markdown",
   "id": "225c9215",
   "metadata": {},
   "source": [
    "## 1️⃣ Describe Data – Descripción inicial del dataset"
   ]
  },
  {
   "cell_type": "code",
   "execution_count": 64,
   "id": "9551d4d6",
   "metadata": {},
   "outputs": [
    {
     "name": "stdout",
     "output_type": "stream",
     "text": [
      "symbol     object\n",
      "date       object\n",
      "price     float64\n",
      "dtype: object\n"
     ]
    }
   ],
   "source": [
    "print(df.dtypes)"
   ]
  },
  {
   "cell_type": "code",
   "execution_count": 65,
   "id": "d1b3d211",
   "metadata": {},
   "outputs": [
    {
     "name": "stdout",
     "output_type": "stream",
     "text": [
      "Cantidad de filas: 440512\n",
      "Cantidad de columnas: 3\n"
     ]
    }
   ],
   "source": [
    "print(f\"Cantidad de filas: {df.shape[0]}\")\n",
    "print(f\"Cantidad de columnas: {df.shape[1]}\")"
   ]
  },
  {
   "cell_type": "code",
   "execution_count": 70,
   "id": "524b705a",
   "metadata": {},
   "outputs": [],
   "source": [
    "# Convertir la columna 'date' a tipo datetime\n",
    "df['date'] = pd.to_datetime(df['date'])\n",
    "\n",
    "# Ordenar por símbolo y fecha (opcional pero útil)\n",
    "df = df.sort_values(['symbol', 'date']).reset_index(drop=True)"
   ]
  },
  {
   "cell_type": "markdown",
   "id": "ad0121ba",
   "metadata": {},
   "source": [
    "## 2️⃣ Verify Data Quality – Calidad de datos"
   ]
  },
  {
   "cell_type": "code",
   "execution_count": 71,
   "id": "a9176d79",
   "metadata": {},
   "outputs": [
    {
     "name": "stdout",
     "output_type": "stream",
     "text": [
      "symbol    0\n",
      "date      0\n",
      "price     0\n",
      "dtype: int64\n"
     ]
    }
   ],
   "source": [
    "# Revisión de valores nulos\n",
    "print(df.isna().sum().sort_values(ascending=False))"
   ]
  },
  {
   "cell_type": "code",
   "execution_count": 72,
   "id": "10e57752",
   "metadata": {},
   "outputs": [
    {
     "name": "stdout",
     "output_type": "stream",
     "text": [
      "Filas duplicadas: 60728\n"
     ]
    }
   ],
   "source": [
    "# Revisión de duplicados\n",
    "print(f\"Filas duplicadas: {df.duplicated().sum()}\")"
   ]
  },
  {
   "cell_type": "markdown",
   "id": "126312b1",
   "metadata": {},
   "source": [
    "## 3️⃣ Explore Data – Exploración visual (solo columnas numéricas sin muchos nulos)"
   ]
  },
  {
   "cell_type": "markdown",
   "id": "73fed824",
   "metadata": {},
   "source": [
    "### Estadísticas descriptivas globales y por símbolo"
   ]
  },
  {
   "cell_type": "code",
   "execution_count": 73,
   "id": "301385d8",
   "metadata": {},
   "outputs": [
    {
     "data": {
      "text/plain": [
       "count    4.405120e+05\n",
       "mean     2.239206e+03\n",
       "std      4.410075e+04\n",
       "min      0.000000e+00\n",
       "25%      2.940994e-05\n",
       "50%      1.209047e-03\n",
       "75%      9.287797e-02\n",
       "max      3.857650e+06\n",
       "Name: price, dtype: float64"
      ]
     },
     "execution_count": 73,
     "metadata": {},
     "output_type": "execute_result"
    }
   ],
   "source": [
    "# Global\n",
    "df['price'].describe()"
   ]
  },
  {
   "cell_type": "markdown",
   "id": "3edca8d0",
   "metadata": {},
   "source": [
    "| Métrica           | Valor       | Interpretación                                                                                                       |\n",
    "| ----------------- | ----------- | -------------------------------------------------------------------------------------------------------------------- |\n",
    "| **count**         | `440,512`   | Hay 440,512 registros de precios totales (líneas válidas).                                                           |\n",
    "| **mean**          | `2,239.21`  | El **precio promedio** es 2,239.21 USD, pero está claramente sesgado por unos pocos valores muy altos.               |\n",
    "| **std**           | `44,100.75` | La **desviación estándar** es altísima → hay mucha variabilidad.                                                     |\n",
    "| **min**           | `0.0`       | Hay monedas con precio igual a **cero**. Puede ser error o caso extremo.                                             |\n",
    "| **25% (Q1)**      | `2.94e-05`  | El 25% de los precios está por debajo de 0.0000294 USD.                                                              |\n",
    "| **50% (mediana)** | `1.29e-04`  | El 50% de los precios está por debajo de **0.000129 USD**, o sea, la mayoría de criptos tiene precios **muy bajos**. |\n",
    "| **75% (Q3)**      | `0.0929`    | El 75% de los precios está por debajo de **0.0929 USD**.                                                             |\n",
    "| **max**           | `3,857,650` | La criptomoneda más cara llegó a costar 3.85 millones de USD. Probablemente sea un outlier.                          |\n"
   ]
  },
  {
   "cell_type": "code",
   "execution_count": null,
   "id": "0fa8ee44",
   "metadata": {},
   "outputs": [],
   "source": [
    "# Por símbolo\n",
    "df.groupby('symbol')['price'].describe()"
   ]
  },
  {
   "cell_type": "markdown",
   "id": "b2336272",
   "metadata": {},
   "source": [
    "### Visualización de precios "
   ]
  },
  {
   "cell_type": "code",
   "execution_count": 4,
   "id": "b7337618",
   "metadata": {},
   "outputs": [
    {
     "name": "stdout",
     "output_type": "stream",
     "text": [
      "Cantidad de criptomonedas únicas: 1312\n"
     ]
    }
   ],
   "source": [
    "n_simbolos = df['symbol'].nunique()\n",
    "print(\"Cantidad de criptomonedas únicas:\", n_simbolos)"
   ]
  },
  {
   "cell_type": "code",
   "execution_count": null,
   "id": "cf46e2bb",
   "metadata": {},
   "outputs": [],
   "source": [
    "# Elegir un símbolo a visualizar (ej. el primero del dataset)\n",
    "simbolo = df['symbol'].unique()[0]\n",
    "df_simbolo = df[df['symbol'] == simbolo]\n",
    "\n",
    "# Plot\n",
    "plt.figure(figsize=(12,6))\n",
    "plt.plot(df_simbolo['date'], df_simbolo['price'], marker='o')\n",
    "plt.title(f'Evolución del precio de {simbolo}')\n",
    "plt.xlabel('Fecha')\n",
    "plt.ylabel('Precio')\n",
    "plt.grid(True)\n",
    "plt.show()"
   ]
  },
  {
   "cell_type": "code",
   "execution_count": 76,
   "id": "8271b98b",
   "metadata": {},
   "outputs": [
    {
     "data": {
      "text/html": [
       "<div>\n",
       "<style scoped>\n",
       "    .dataframe tbody tr th:only-of-type {\n",
       "        vertical-align: middle;\n",
       "    }\n",
       "\n",
       "    .dataframe tbody tr th {\n",
       "        vertical-align: top;\n",
       "    }\n",
       "\n",
       "    .dataframe thead th {\n",
       "        text-align: right;\n",
       "    }\n",
       "</style>\n",
       "<table border=\"1\" class=\"dataframe\">\n",
       "  <thead>\n",
       "    <tr style=\"text-align: right;\">\n",
       "      <th></th>\n",
       "      <th>n_días</th>\n",
       "    </tr>\n",
       "    <tr>\n",
       "      <th>symbol</th>\n",
       "      <th></th>\n",
       "    </tr>\n",
       "  </thead>\n",
       "  <tbody>\n",
       "    <tr>\n",
       "      <th>1000troll</th>\n",
       "      <td>1464</td>\n",
       "    </tr>\n",
       "    <tr>\n",
       "      <th>aipepe</th>\n",
       "      <td>1464</td>\n",
       "    </tr>\n",
       "    <tr>\n",
       "      <th>shibai</th>\n",
       "      <td>1464</td>\n",
       "    </tr>\n",
       "    <tr>\n",
       "      <th>vark</th>\n",
       "      <td>1460</td>\n",
       "    </tr>\n",
       "    <tr>\n",
       "      <th>usedcar</th>\n",
       "      <td>1098</td>\n",
       "    </tr>\n",
       "    <tr>\n",
       "      <th>...</th>\n",
       "      <td>...</td>\n",
       "    </tr>\n",
       "    <tr>\n",
       "      <th>term</th>\n",
       "      <td>1</td>\n",
       "    </tr>\n",
       "    <tr>\n",
       "      <th>form</th>\n",
       "      <td>1</td>\n",
       "    </tr>\n",
       "    <tr>\n",
       "      <th>hodl</th>\n",
       "      <td>1</td>\n",
       "    </tr>\n",
       "    <tr>\n",
       "      <th>abal</th>\n",
       "      <td>1</td>\n",
       "    </tr>\n",
       "    <tr>\n",
       "      <th>zero</th>\n",
       "      <td>1</td>\n",
       "    </tr>\n",
       "  </tbody>\n",
       "</table>\n",
       "<p>1312 rows × 1 columns</p>\n",
       "</div>"
      ],
      "text/plain": [
       "           n_días\n",
       "symbol           \n",
       "1000troll    1464\n",
       "aipepe       1464\n",
       "shibai       1464\n",
       "vark         1460\n",
       "usedcar      1098\n",
       "...           ...\n",
       "term            1\n",
       "form            1\n",
       "hodl            1\n",
       "abal            1\n",
       "zero            1\n",
       "\n",
       "[1312 rows x 1 columns]"
      ]
     },
     "execution_count": 76,
     "metadata": {},
     "output_type": "execute_result"
    }
   ],
   "source": [
    "# Ver cuántos días tiene cada símbolo (densidad temporal)\n",
    "df['symbol'].value_counts().to_frame(name='n_días')"
   ]
  },
  {
   "cell_type": "code",
   "execution_count": 6,
   "id": "43a4d8fe",
   "metadata": {},
   "outputs": [
    {
     "name": "stdout",
     "output_type": "stream",
     "text": [
      "Cantidad de símbolos con al menos 365 días: 521\n"
     ]
    }
   ],
   "source": [
    "simbolos_validos = df['symbol'].value_counts()\n",
    "simbolos_validos = simbolos_validos[simbolos_validos >= 365].index  # al menos 1 año\n",
    "df_filtrado = df[df['symbol'].isin(simbolos_validos)]\n",
    "print(\"Cantidad de símbolos con al menos 365 días:\", len(simbolos_validos))"
   ]
  },
  {
   "cell_type": "code",
   "execution_count": 7,
   "id": "3217b498",
   "metadata": {},
   "outputs": [
    {
     "data": {
      "image/png": "[encoded data removed]",
      "text/plain": [
       "<Figure size 1200x600 with 1 Axes>"
      ]
     },
     "metadata": {},
     "output_type": "display_data"
    }
   ],
   "source": [
    "top_symbols = df_filtrado['symbol'].value_counts().head(10).index\n",
    "df_top = df_filtrado[df_filtrado['symbol'].isin(top_symbols)]\n",
    "\n",
    "import seaborn as sns\n",
    "import matplotlib.pyplot as plt\n",
    "\n",
    "plt.figure(figsize=(12, 6))\n",
    "sns.boxplot(data=df_top, x='symbol', y='price')\n",
    "plt.yscale('log')  # Para manejar mejor las diferencias de escala\n",
    "plt.title('Boxplot logarítmico de precios para los 10 símbolos más frecuentes')\n",
    "plt.show()"
   ]
  },
  {
   "cell_type": "markdown",
   "id": "7757534b",
   "metadata": {},
   "source": [
    "### Detectar outliers con boxplot (por símbolo)"
   ]
  },
  {
   "cell_type": "code",
   "execution_count": 8,
   "id": "c154e927",
   "metadata": {},
   "outputs": [
    {
     "ename": "ValueError",
     "evalue": "\nngtg$$\n    ^\nParseException: Expected end of text, found '$'  (at char 4), (line:1, col:5)",
     "output_type": "error",
     "traceback": [
      "\u001b[1;31m---------------------------------------------------------------------------\u001b[0m",
      "\u001b[1;31mValueError\u001b[0m                                Traceback (most recent call last)",
      "File \u001b[1;32mc:\\Users\\scarl\\anaconda3\\Lib\\site-packages\\IPython\\core\\formatters.py:402\u001b[0m, in \u001b[0;36mBaseFormatter.__call__\u001b[1;34m(self, obj)\u001b[0m\n\u001b[0;32m    400\u001b[0m     \u001b[38;5;28;01mpass\u001b[39;00m\n\u001b[0;32m    401\u001b[0m \u001b[38;5;28;01melse\u001b[39;00m:\n\u001b[1;32m--> 402\u001b[0m     \u001b[38;5;28;01mreturn\u001b[39;00m printer(obj)\n\u001b[0;32m    403\u001b[0m \u001b[38;5;66;03m# Finally look for special method names\u001b[39;00m\n\u001b[0;32m    404\u001b[0m method \u001b[38;5;241m=\u001b[39m get_real_method(obj, \u001b[38;5;28mself\u001b[39m\u001b[38;5;241m.\u001b[39mprint_method)\n",
      "File \u001b[1;32mc:\\Users\\scarl\\anaconda3\\Lib\\site-packages\\IPython\\core\\pylabtools.py:170\u001b[0m, in \u001b[0;36mprint_figure\u001b[1;34m(fig, fmt, bbox_inches, base64, **kwargs)\u001b[0m\n\u001b[0;32m    167\u001b[0m     \u001b[38;5;28;01mfrom\u001b[39;00m\u001b[38;5;250m \u001b[39m\u001b[38;5;21;01mmatplotlib\u001b[39;00m\u001b[38;5;21;01m.\u001b[39;00m\u001b[38;5;21;01mbackend_bases\u001b[39;00m\u001b[38;5;250m \u001b[39m\u001b[38;5;28;01mimport\u001b[39;00m FigureCanvasBase\n\u001b[0;32m    168\u001b[0m     FigureCanvasBase(fig)\n\u001b[1;32m--> 170\u001b[0m fig\u001b[38;5;241m.\u001b[39mcanvas\u001b[38;5;241m.\u001b[39mprint_figure(bytes_io, \u001b[38;5;241m*\u001b[39m\u001b[38;5;241m*\u001b[39mkw)\n\u001b[0;32m    171\u001b[0m data \u001b[38;5;241m=\u001b[39m bytes_io\u001b[38;5;241m.\u001b[39mgetvalue()\n\u001b[0;32m    172\u001b[0m \u001b[38;5;28;01mif\u001b[39;00m fmt \u001b[38;5;241m==\u001b[39m \u001b[38;5;124m'\u001b[39m\u001b[38;5;124msvg\u001b[39m\u001b[38;5;124m'\u001b[39m:\n",
      "File \u001b[1;32mc:\\Users\\scarl\\anaconda3\\Lib\\site-packages\\matplotlib\\backend_bases.py:2155\u001b[0m, in \u001b[0;36mFigureCanvasBase.print_figure\u001b[1;34m(self, filename, dpi, facecolor, edgecolor, orientation, format, bbox_inches, pad_inches, bbox_extra_artists, backend, **kwargs)\u001b[0m\n\u001b[0;32m   2152\u001b[0m     \u001b[38;5;66;03m# we do this instead of `self.figure.draw_without_rendering`\u001b[39;00m\n\u001b[0;32m   2153\u001b[0m     \u001b[38;5;66;03m# so that we can inject the orientation\u001b[39;00m\n\u001b[0;32m   2154\u001b[0m     \u001b[38;5;28;01mwith\u001b[39;00m \u001b[38;5;28mgetattr\u001b[39m(renderer, \u001b[38;5;124m\"\u001b[39m\u001b[38;5;124m_draw_disabled\u001b[39m\u001b[38;5;124m\"\u001b[39m, nullcontext)():\n\u001b[1;32m-> 2155\u001b[0m         \u001b[38;5;28mself\u001b[39m\u001b[38;5;241m.\u001b[39mfigure\u001b[38;5;241m.\u001b[39mdraw(renderer)\n\u001b[0;32m   2156\u001b[0m \u001b[38;5;28;01mif\u001b[39;00m bbox_inches:\n\u001b[0;32m   2157\u001b[0m     \u001b[38;5;28;01mif\u001b[39;00m bbox_inches \u001b[38;5;241m==\u001b[39m \u001b[38;5;124m\"\u001b[39m\u001b[38;5;124mtight\u001b[39m\u001b[38;5;124m\"\u001b[39m:\n",
      "File \u001b[1;32mc:\\Users\\scarl\\anaconda3\\Lib\\site-packages\\matplotlib\\artist.py:94\u001b[0m, in \u001b[0;36m_finalize_rasterization.<locals>.draw_wrapper\u001b[1;34m(artist, renderer, *args, **kwargs)\u001b[0m\n\u001b[0;32m     92\u001b[0m \u001b[38;5;129m@wraps\u001b[39m(draw)\n\u001b[0;32m     93\u001b[0m \u001b[38;5;28;01mdef\u001b[39;00m\u001b[38;5;250m \u001b[39m\u001b[38;5;21mdraw_wrapper\u001b[39m(artist, renderer, \u001b[38;5;241m*\u001b[39margs, \u001b[38;5;241m*\u001b[39m\u001b[38;5;241m*\u001b[39mkwargs):\n\u001b[1;32m---> 94\u001b[0m     result \u001b[38;5;241m=\u001b[39m draw(artist, renderer, \u001b[38;5;241m*\u001b[39margs, \u001b[38;5;241m*\u001b[39m\u001b[38;5;241m*\u001b[39mkwargs)\n\u001b[0;32m     95\u001b[0m     \u001b[38;5;28;01mif\u001b[39;00m renderer\u001b[38;5;241m.\u001b[39m_rasterizing:\n\u001b[0;32m     96\u001b[0m         renderer\u001b[38;5;241m.\u001b[39mstop_rasterizing()\n",
      "File \u001b[1;32mc:\\Users\\scarl\\anaconda3\\Lib\\site-packages\\matplotlib\\artist.py:71\u001b[0m, in \u001b[0;36mallow_rasterization.<locals>.draw_wrapper\u001b[1;34m(artist, renderer)\u001b[0m\n\u001b[0;32m     68\u001b[0m     \u001b[38;5;28;01mif\u001b[39;00m artist\u001b[38;5;241m.\u001b[39mget_agg_filter() \u001b[38;5;129;01mis\u001b[39;00m \u001b[38;5;129;01mnot\u001b[39;00m \u001b[38;5;28;01mNone\u001b[39;00m:\n\u001b[0;32m     69\u001b[0m         renderer\u001b[38;5;241m.\u001b[39mstart_filter()\n\u001b[1;32m---> 71\u001b[0m     \u001b[38;5;28;01mreturn\u001b[39;00m draw(artist, renderer)\n\u001b[0;32m     72\u001b[0m \u001b[38;5;28;01mfinally\u001b[39;00m:\n\u001b[0;32m     73\u001b[0m     \u001b[38;5;28;01mif\u001b[39;00m artist\u001b[38;5;241m.\u001b[39mget_agg_filter() \u001b[38;5;129;01mis\u001b[39;00m \u001b[38;5;129;01mnot\u001b[39;00m \u001b[38;5;28;01mNone\u001b[39;00m:\n",
      "File \u001b[1;32mc:\\Users\\scarl\\anaconda3\\Lib\\site-packages\\matplotlib\\figure.py:3257\u001b[0m, in \u001b[0;36mFigure.draw\u001b[1;34m(self, renderer)\u001b[0m\n\u001b[0;32m   3254\u001b[0m             \u001b[38;5;66;03m# ValueError can occur when resizing a window.\u001b[39;00m\n\u001b[0;32m   3256\u001b[0m     \u001b[38;5;28mself\u001b[39m\u001b[38;5;241m.\u001b[39mpatch\u001b[38;5;241m.\u001b[39mdraw(renderer)\n\u001b[1;32m-> 3257\u001b[0m     mimage\u001b[38;5;241m.\u001b[39m_draw_list_compositing_images(\n\u001b[0;32m   3258\u001b[0m         renderer, \u001b[38;5;28mself\u001b[39m, artists, \u001b[38;5;28mself\u001b[39m\u001b[38;5;241m.\u001b[39msuppressComposite)\n\u001b[0;32m   3260\u001b[0m     renderer\u001b[38;5;241m.\u001b[39mclose_group(\u001b[38;5;124m'\u001b[39m\u001b[38;5;124mfigure\u001b[39m\u001b[38;5;124m'\u001b[39m)\n\u001b[0;32m   3261\u001b[0m \u001b[38;5;28;01mfinally\u001b[39;00m:\n",
      "File \u001b[1;32mc:\\Users\\scarl\\anaconda3\\Lib\\site-packages\\matplotlib\\image.py:134\u001b[0m, in \u001b[0;36m_draw_list_compositing_images\u001b[1;34m(renderer, parent, artists, suppress_composite)\u001b[0m\n\u001b[0;32m    132\u001b[0m \u001b[38;5;28;01mif\u001b[39;00m not_composite \u001b[38;5;129;01mor\u001b[39;00m \u001b[38;5;129;01mnot\u001b[39;00m has_images:\n\u001b[0;32m    133\u001b[0m     \u001b[38;5;28;01mfor\u001b[39;00m a \u001b[38;5;129;01min\u001b[39;00m artists:\n\u001b[1;32m--> 134\u001b[0m         a\u001b[38;5;241m.\u001b[39mdraw(renderer)\n\u001b[0;32m    135\u001b[0m \u001b[38;5;28;01melse\u001b[39;00m:\n\u001b[0;32m    136\u001b[0m     \u001b[38;5;66;03m# Composite any adjacent images together\u001b[39;00m\n\u001b[0;32m    137\u001b[0m     image_group \u001b[38;5;241m=\u001b[39m []\n",
      "File \u001b[1;32mc:\\Users\\scarl\\anaconda3\\Lib\\site-packages\\matplotlib\\artist.py:71\u001b[0m, in \u001b[0;36mallow_rasterization.<locals>.draw_wrapper\u001b[1;34m(artist, renderer)\u001b[0m\n\u001b[0;32m     68\u001b[0m     \u001b[38;5;28;01mif\u001b[39;00m artist\u001b[38;5;241m.\u001b[39mget_agg_filter() \u001b[38;5;129;01mis\u001b[39;00m \u001b[38;5;129;01mnot\u001b[39;00m \u001b[38;5;28;01mNone\u001b[39;00m:\n\u001b[0;32m     69\u001b[0m         renderer\u001b[38;5;241m.\u001b[39mstart_filter()\n\u001b[1;32m---> 71\u001b[0m     \u001b[38;5;28;01mreturn\u001b[39;00m draw(artist, renderer)\n\u001b[0;32m     72\u001b[0m \u001b[38;5;28;01mfinally\u001b[39;00m:\n\u001b[0;32m     73\u001b[0m     \u001b[38;5;28;01mif\u001b[39;00m artist\u001b[38;5;241m.\u001b[39mget_agg_filter() \u001b[38;5;129;01mis\u001b[39;00m \u001b[38;5;129;01mnot\u001b[39;00m \u001b[38;5;28;01mNone\u001b[39;00m:\n",
      "File \u001b[1;32mc:\\Users\\scarl\\anaconda3\\Lib\\site-packages\\matplotlib\\axes\\_base.py:3181\u001b[0m, in \u001b[0;36m_AxesBase.draw\u001b[1;34m(self, renderer)\u001b[0m\n\u001b[0;32m   3178\u001b[0m \u001b[38;5;28;01mif\u001b[39;00m artists_rasterized:\n\u001b[0;32m   3179\u001b[0m     _draw_rasterized(\u001b[38;5;28mself\u001b[39m\u001b[38;5;241m.\u001b[39mget_figure(root\u001b[38;5;241m=\u001b[39m\u001b[38;5;28;01mTrue\u001b[39;00m), artists_rasterized, renderer)\n\u001b[1;32m-> 3181\u001b[0m mimage\u001b[38;5;241m.\u001b[39m_draw_list_compositing_images(\n\u001b[0;32m   3182\u001b[0m     renderer, \u001b[38;5;28mself\u001b[39m, artists, \u001b[38;5;28mself\u001b[39m\u001b[38;5;241m.\u001b[39mget_figure(root\u001b[38;5;241m=\u001b[39m\u001b[38;5;28;01mTrue\u001b[39;00m)\u001b[38;5;241m.\u001b[39msuppressComposite)\n\u001b[0;32m   3184\u001b[0m renderer\u001b[38;5;241m.\u001b[39mclose_group(\u001b[38;5;124m'\u001b[39m\u001b[38;5;124maxes\u001b[39m\u001b[38;5;124m'\u001b[39m)\n\u001b[0;32m   3185\u001b[0m \u001b[38;5;28mself\u001b[39m\u001b[38;5;241m.\u001b[39mstale \u001b[38;5;241m=\u001b[39m \u001b[38;5;28;01mFalse\u001b[39;00m\n",
      "File \u001b[1;32mc:\\Users\\scarl\\anaconda3\\Lib\\site-packages\\matplotlib\\image.py:134\u001b[0m, in \u001b[0;36m_draw_list_compositing_images\u001b[1;34m(renderer, parent, artists, suppress_composite)\u001b[0m\n\u001b[0;32m    132\u001b[0m \u001b[38;5;28;01mif\u001b[39;00m not_composite \u001b[38;5;129;01mor\u001b[39;00m \u001b[38;5;129;01mnot\u001b[39;00m has_images:\n\u001b[0;32m    133\u001b[0m     \u001b[38;5;28;01mfor\u001b[39;00m a \u001b[38;5;129;01min\u001b[39;00m artists:\n\u001b[1;32m--> 134\u001b[0m         a\u001b[38;5;241m.\u001b[39mdraw(renderer)\n\u001b[0;32m    135\u001b[0m \u001b[38;5;28;01melse\u001b[39;00m:\n\u001b[0;32m    136\u001b[0m     \u001b[38;5;66;03m# Composite any adjacent images together\u001b[39;00m\n\u001b[0;32m    137\u001b[0m     image_group \u001b[38;5;241m=\u001b[39m []\n",
      "File \u001b[1;32mc:\\Users\\scarl\\anaconda3\\Lib\\site-packages\\matplotlib\\artist.py:71\u001b[0m, in \u001b[0;36mallow_rasterization.<locals>.draw_wrapper\u001b[1;34m(artist, renderer)\u001b[0m\n\u001b[0;32m     68\u001b[0m     \u001b[38;5;28;01mif\u001b[39;00m artist\u001b[38;5;241m.\u001b[39mget_agg_filter() \u001b[38;5;129;01mis\u001b[39;00m \u001b[38;5;129;01mnot\u001b[39;00m \u001b[38;5;28;01mNone\u001b[39;00m:\n\u001b[0;32m     69\u001b[0m         renderer\u001b[38;5;241m.\u001b[39mstart_filter()\n\u001b[1;32m---> 71\u001b[0m     \u001b[38;5;28;01mreturn\u001b[39;00m draw(artist, renderer)\n\u001b[0;32m     72\u001b[0m \u001b[38;5;28;01mfinally\u001b[39;00m:\n\u001b[0;32m     73\u001b[0m     \u001b[38;5;28;01mif\u001b[39;00m artist\u001b[38;5;241m.\u001b[39mget_agg_filter() \u001b[38;5;129;01mis\u001b[39;00m \u001b[38;5;129;01mnot\u001b[39;00m \u001b[38;5;28;01mNone\u001b[39;00m:\n",
      "File \u001b[1;32mc:\\Users\\scarl\\anaconda3\\Lib\\site-packages\\matplotlib\\axis.py:1416\u001b[0m, in \u001b[0;36mAxis.draw\u001b[1;34m(self, renderer)\u001b[0m\n\u001b[0;32m   1413\u001b[0m renderer\u001b[38;5;241m.\u001b[39mopen_group(\u001b[38;5;18m__name__\u001b[39m, gid\u001b[38;5;241m=\u001b[39m\u001b[38;5;28mself\u001b[39m\u001b[38;5;241m.\u001b[39mget_gid())\n\u001b[0;32m   1415\u001b[0m ticks_to_draw \u001b[38;5;241m=\u001b[39m \u001b[38;5;28mself\u001b[39m\u001b[38;5;241m.\u001b[39m_update_ticks()\n\u001b[1;32m-> 1416\u001b[0m tlb1, tlb2 \u001b[38;5;241m=\u001b[39m \u001b[38;5;28mself\u001b[39m\u001b[38;5;241m.\u001b[39m_get_ticklabel_bboxes(ticks_to_draw, renderer)\n\u001b[0;32m   1418\u001b[0m \u001b[38;5;28;01mfor\u001b[39;00m tick \u001b[38;5;129;01min\u001b[39;00m ticks_to_draw:\n\u001b[0;32m   1419\u001b[0m     tick\u001b[38;5;241m.\u001b[39mdraw(renderer)\n",
      "File \u001b[1;32mc:\\Users\\scarl\\anaconda3\\Lib\\site-packages\\matplotlib\\axis.py:1343\u001b[0m, in \u001b[0;36mAxis._get_ticklabel_bboxes\u001b[1;34m(self, ticks, renderer)\u001b[0m\n\u001b[0;32m   1341\u001b[0m \u001b[38;5;28;01mif\u001b[39;00m renderer \u001b[38;5;129;01mis\u001b[39;00m \u001b[38;5;28;01mNone\u001b[39;00m:\n\u001b[0;32m   1342\u001b[0m     renderer \u001b[38;5;241m=\u001b[39m \u001b[38;5;28mself\u001b[39m\u001b[38;5;241m.\u001b[39mget_figure(root\u001b[38;5;241m=\u001b[39m\u001b[38;5;28;01mTrue\u001b[39;00m)\u001b[38;5;241m.\u001b[39m_get_renderer()\n\u001b[1;32m-> 1343\u001b[0m \u001b[38;5;28;01mreturn\u001b[39;00m ([tick\u001b[38;5;241m.\u001b[39mlabel1\u001b[38;5;241m.\u001b[39mget_window_extent(renderer)\n\u001b[0;32m   1344\u001b[0m          \u001b[38;5;28;01mfor\u001b[39;00m tick \u001b[38;5;129;01min\u001b[39;00m ticks \u001b[38;5;28;01mif\u001b[39;00m tick\u001b[38;5;241m.\u001b[39mlabel1\u001b[38;5;241m.\u001b[39mget_visible()],\n\u001b[0;32m   1345\u001b[0m         [tick\u001b[38;5;241m.\u001b[39mlabel2\u001b[38;5;241m.\u001b[39mget_window_extent(renderer)\n\u001b[0;32m   1346\u001b[0m          \u001b[38;5;28;01mfor\u001b[39;00m tick \u001b[38;5;129;01min\u001b[39;00m ticks \u001b[38;5;28;01mif\u001b[39;00m tick\u001b[38;5;241m.\u001b[39mlabel2\u001b[38;5;241m.\u001b[39mget_visible()])\n",
      "File \u001b[1;32mc:\\Users\\scarl\\anaconda3\\Lib\\site-packages\\matplotlib\\text.py:969\u001b[0m, in \u001b[0;36mText.get_window_extent\u001b[1;34m(self, renderer, dpi)\u001b[0m\n\u001b[0;32m    964\u001b[0m     \u001b[38;5;28;01mraise\u001b[39;00m \u001b[38;5;167;01mRuntimeError\u001b[39;00m(\n\u001b[0;32m    965\u001b[0m         \u001b[38;5;124m\"\u001b[39m\u001b[38;5;124mCannot get window extent of text w/o renderer. You likely \u001b[39m\u001b[38;5;124m\"\u001b[39m\n\u001b[0;32m    966\u001b[0m         \u001b[38;5;124m\"\u001b[39m\u001b[38;5;124mwant to call \u001b[39m\u001b[38;5;124m'\u001b[39m\u001b[38;5;124mfigure.draw_without_rendering()\u001b[39m\u001b[38;5;124m'\u001b[39m\u001b[38;5;124m first.\u001b[39m\u001b[38;5;124m\"\u001b[39m)\n\u001b[0;32m    968\u001b[0m \u001b[38;5;28;01mwith\u001b[39;00m cbook\u001b[38;5;241m.\u001b[39m_setattr_cm(fig, dpi\u001b[38;5;241m=\u001b[39mdpi):\n\u001b[1;32m--> 969\u001b[0m     bbox, info, descent \u001b[38;5;241m=\u001b[39m \u001b[38;5;28mself\u001b[39m\u001b[38;5;241m.\u001b[39m_get_layout(\u001b[38;5;28mself\u001b[39m\u001b[38;5;241m.\u001b[39m_renderer)\n\u001b[0;32m    970\u001b[0m     x, y \u001b[38;5;241m=\u001b[39m \u001b[38;5;28mself\u001b[39m\u001b[38;5;241m.\u001b[39mget_unitless_position()\n\u001b[0;32m    971\u001b[0m     x, y \u001b[38;5;241m=\u001b[39m \u001b[38;5;28mself\u001b[39m\u001b[38;5;241m.\u001b[39mget_transform()\u001b[38;5;241m.\u001b[39mtransform((x, y))\n",
      "File \u001b[1;32mc:\\Users\\scarl\\anaconda3\\Lib\\site-packages\\matplotlib\\text.py:382\u001b[0m, in \u001b[0;36mText._get_layout\u001b[1;34m(self, renderer)\u001b[0m\n\u001b[0;32m    380\u001b[0m clean_line, ismath \u001b[38;5;241m=\u001b[39m \u001b[38;5;28mself\u001b[39m\u001b[38;5;241m.\u001b[39m_preprocess_math(line)\n\u001b[0;32m    381\u001b[0m \u001b[38;5;28;01mif\u001b[39;00m clean_line:\n\u001b[1;32m--> 382\u001b[0m     w, h, d \u001b[38;5;241m=\u001b[39m _get_text_metrics_with_cache(\n\u001b[0;32m    383\u001b[0m         renderer, clean_line, \u001b[38;5;28mself\u001b[39m\u001b[38;5;241m.\u001b[39m_fontproperties,\n\u001b[0;32m    384\u001b[0m         ismath\u001b[38;5;241m=\u001b[39mismath, dpi\u001b[38;5;241m=\u001b[39m\u001b[38;5;28mself\u001b[39m\u001b[38;5;241m.\u001b[39mget_figure(root\u001b[38;5;241m=\u001b[39m\u001b[38;5;28;01mTrue\u001b[39;00m)\u001b[38;5;241m.\u001b[39mdpi)\n\u001b[0;32m    385\u001b[0m \u001b[38;5;28;01melse\u001b[39;00m:\n\u001b[0;32m    386\u001b[0m     w \u001b[38;5;241m=\u001b[39m h \u001b[38;5;241m=\u001b[39m d \u001b[38;5;241m=\u001b[39m \u001b[38;5;241m0\u001b[39m\n",
      "File \u001b[1;32mc:\\Users\\scarl\\anaconda3\\Lib\\site-packages\\matplotlib\\text.py:69\u001b[0m, in \u001b[0;36m_get_text_metrics_with_cache\u001b[1;34m(renderer, text, fontprop, ismath, dpi)\u001b[0m\n\u001b[0;32m     66\u001b[0m \u001b[38;5;250m\u001b[39m\u001b[38;5;124;03m\"\"\"Call ``renderer.get_text_width_height_descent``, caching the results.\"\"\"\u001b[39;00m\n\u001b[0;32m     67\u001b[0m \u001b[38;5;66;03m# Cached based on a copy of fontprop so that later in-place mutations of\u001b[39;00m\n\u001b[0;32m     68\u001b[0m \u001b[38;5;66;03m# the passed-in argument do not mess up the cache.\u001b[39;00m\n\u001b[1;32m---> 69\u001b[0m \u001b[38;5;28;01mreturn\u001b[39;00m _get_text_metrics_with_cache_impl(\n\u001b[0;32m     70\u001b[0m     weakref\u001b[38;5;241m.\u001b[39mref(renderer), text, fontprop\u001b[38;5;241m.\u001b[39mcopy(), ismath, dpi)\n",
      "File \u001b[1;32mc:\\Users\\scarl\\anaconda3\\Lib\\site-packages\\matplotlib\\text.py:77\u001b[0m, in \u001b[0;36m_get_text_metrics_with_cache_impl\u001b[1;34m(renderer_ref, text, fontprop, ismath, dpi)\u001b[0m\n\u001b[0;32m     73\u001b[0m \u001b[38;5;129m@functools\u001b[39m\u001b[38;5;241m.\u001b[39mlru_cache(\u001b[38;5;241m4096\u001b[39m)\n\u001b[0;32m     74\u001b[0m \u001b[38;5;28;01mdef\u001b[39;00m\u001b[38;5;250m \u001b[39m\u001b[38;5;21m_get_text_metrics_with_cache_impl\u001b[39m(\n\u001b[0;32m     75\u001b[0m         renderer_ref, text, fontprop, ismath, dpi):\n\u001b[0;32m     76\u001b[0m     \u001b[38;5;66;03m# dpi is unused, but participates in cache invalidation (via the renderer).\u001b[39;00m\n\u001b[1;32m---> 77\u001b[0m     \u001b[38;5;28;01mreturn\u001b[39;00m renderer_ref()\u001b[38;5;241m.\u001b[39mget_text_width_height_descent(text, fontprop, ismath)\n",
      "File \u001b[1;32mc:\\Users\\scarl\\anaconda3\\Lib\\site-packages\\matplotlib\\backends\\backend_agg.py:215\u001b[0m, in \u001b[0;36mRendererAgg.get_text_width_height_descent\u001b[1;34m(self, s, prop, ismath)\u001b[0m\n\u001b[0;32m    211\u001b[0m     \u001b[38;5;28;01mreturn\u001b[39;00m \u001b[38;5;28msuper\u001b[39m()\u001b[38;5;241m.\u001b[39mget_text_width_height_descent(s, prop, ismath)\n\u001b[0;32m    213\u001b[0m \u001b[38;5;28;01mif\u001b[39;00m ismath:\n\u001b[0;32m    214\u001b[0m     ox, oy, width, height, descent, font_image \u001b[38;5;241m=\u001b[39m \\\n\u001b[1;32m--> 215\u001b[0m         \u001b[38;5;28mself\u001b[39m\u001b[38;5;241m.\u001b[39mmathtext_parser\u001b[38;5;241m.\u001b[39mparse(s, \u001b[38;5;28mself\u001b[39m\u001b[38;5;241m.\u001b[39mdpi, prop)\n\u001b[0;32m    216\u001b[0m     \u001b[38;5;28;01mreturn\u001b[39;00m width, height, descent\n\u001b[0;32m    218\u001b[0m font \u001b[38;5;241m=\u001b[39m \u001b[38;5;28mself\u001b[39m\u001b[38;5;241m.\u001b[39m_prepare_font(prop)\n",
      "File \u001b[1;32mc:\\Users\\scarl\\anaconda3\\Lib\\site-packages\\matplotlib\\mathtext.py:86\u001b[0m, in \u001b[0;36mMathTextParser.parse\u001b[1;34m(self, s, dpi, prop, antialiased)\u001b[0m\n\u001b[0;32m     81\u001b[0m \u001b[38;5;28;01mfrom\u001b[39;00m\u001b[38;5;250m \u001b[39m\u001b[38;5;21;01mmatplotlib\u001b[39;00m\u001b[38;5;21;01m.\u001b[39;00m\u001b[38;5;21;01mbackends\u001b[39;00m\u001b[38;5;250m \u001b[39m\u001b[38;5;28;01mimport\u001b[39;00m backend_agg\n\u001b[0;32m     82\u001b[0m load_glyph_flags \u001b[38;5;241m=\u001b[39m {\n\u001b[0;32m     83\u001b[0m     \u001b[38;5;124m\"\u001b[39m\u001b[38;5;124mvector\u001b[39m\u001b[38;5;124m\"\u001b[39m: LoadFlags\u001b[38;5;241m.\u001b[39mNO_HINTING,\n\u001b[0;32m     84\u001b[0m     \u001b[38;5;124m\"\u001b[39m\u001b[38;5;124mraster\u001b[39m\u001b[38;5;124m\"\u001b[39m: backend_agg\u001b[38;5;241m.\u001b[39mget_hinting_flag(),\n\u001b[0;32m     85\u001b[0m }[\u001b[38;5;28mself\u001b[39m\u001b[38;5;241m.\u001b[39m_output_type]\n\u001b[1;32m---> 86\u001b[0m \u001b[38;5;28;01mreturn\u001b[39;00m \u001b[38;5;28mself\u001b[39m\u001b[38;5;241m.\u001b[39m_parse_cached(s, dpi, prop, antialiased, load_glyph_flags)\n",
      "File \u001b[1;32mc:\\Users\\scarl\\anaconda3\\Lib\\site-packages\\matplotlib\\mathtext.py:100\u001b[0m, in \u001b[0;36mMathTextParser._parse_cached\u001b[1;34m(self, s, dpi, prop, antialiased, load_glyph_flags)\u001b[0m\n\u001b[0;32m     97\u001b[0m \u001b[38;5;28;01mif\u001b[39;00m \u001b[38;5;28mself\u001b[39m\u001b[38;5;241m.\u001b[39m_parser \u001b[38;5;129;01mis\u001b[39;00m \u001b[38;5;28;01mNone\u001b[39;00m:  \u001b[38;5;66;03m# Cache the parser globally.\u001b[39;00m\n\u001b[0;32m     98\u001b[0m     \u001b[38;5;28mself\u001b[39m\u001b[38;5;241m.\u001b[39m\u001b[38;5;18m__class__\u001b[39m\u001b[38;5;241m.\u001b[39m_parser \u001b[38;5;241m=\u001b[39m _mathtext\u001b[38;5;241m.\u001b[39mParser()\n\u001b[1;32m--> 100\u001b[0m box \u001b[38;5;241m=\u001b[39m \u001b[38;5;28mself\u001b[39m\u001b[38;5;241m.\u001b[39m_parser\u001b[38;5;241m.\u001b[39mparse(s, fontset, fontsize, dpi)\n\u001b[0;32m    101\u001b[0m output \u001b[38;5;241m=\u001b[39m _mathtext\u001b[38;5;241m.\u001b[39mship(box)\n\u001b[0;32m    102\u001b[0m \u001b[38;5;28;01mif\u001b[39;00m \u001b[38;5;28mself\u001b[39m\u001b[38;5;241m.\u001b[39m_output_type \u001b[38;5;241m==\u001b[39m \u001b[38;5;124m\"\u001b[39m\u001b[38;5;124mvector\u001b[39m\u001b[38;5;124m\"\u001b[39m:\n",
      "File \u001b[1;32mc:\\Users\\scarl\\anaconda3\\Lib\\site-packages\\matplotlib\\_mathtext.py:2173\u001b[0m, in \u001b[0;36mParser.parse\u001b[1;34m(self, s, fonts_object, fontsize, dpi)\u001b[0m\n\u001b[0;32m   2170\u001b[0m     result \u001b[38;5;241m=\u001b[39m \u001b[38;5;28mself\u001b[39m\u001b[38;5;241m.\u001b[39m_expression\u001b[38;5;241m.\u001b[39mparseString(s)\n\u001b[0;32m   2171\u001b[0m \u001b[38;5;28;01mexcept\u001b[39;00m ParseBaseException \u001b[38;5;28;01mas\u001b[39;00m err:\n\u001b[0;32m   2172\u001b[0m     \u001b[38;5;66;03m# explain becomes a plain method on pyparsing 3 (err.explain(0)).\u001b[39;00m\n\u001b[1;32m-> 2173\u001b[0m     \u001b[38;5;28;01mraise\u001b[39;00m \u001b[38;5;167;01mValueError\u001b[39;00m(\u001b[38;5;124m\"\u001b[39m\u001b[38;5;130;01m\\n\u001b[39;00m\u001b[38;5;124m\"\u001b[39m \u001b[38;5;241m+\u001b[39m ParseException\u001b[38;5;241m.\u001b[39mexplain(err, \u001b[38;5;241m0\u001b[39m)) \u001b[38;5;28;01mfrom\u001b[39;00m\u001b[38;5;250m \u001b[39m\u001b[38;5;28;01mNone\u001b[39;00m\n\u001b[0;32m   2174\u001b[0m \u001b[38;5;28mself\u001b[39m\u001b[38;5;241m.\u001b[39m_state_stack \u001b[38;5;241m=\u001b[39m []\n\u001b[0;32m   2175\u001b[0m \u001b[38;5;28mself\u001b[39m\u001b[38;5;241m.\u001b[39m_in_subscript_or_superscript \u001b[38;5;241m=\u001b[39m \u001b[38;5;28;01mFalse\u001b[39;00m\n",
      "\u001b[1;31mValueError\u001b[0m: \nngtg$$\n    ^\nParseException: Expected end of text, found '$'  (at char 4), (line:1, col:5)"
     ]
    },
    {
     "data": {
      "text/plain": [
       "<Figure size 1200x600 with 1 Axes>"
      ]
     },
     "metadata": {},
     "output_type": "display_data"
    }
   ],
   "source": [
    "# Boxplot por símbolo (sólo si son pocos símbolos)\n",
    "plt.figure(figsize=(12, 6))\n",
    "sns.boxplot(data=df, x='symbol', y='price')\n",
    "plt.yscale('log')  # Escala log si los precios varían mucho\n",
    "plt.xticks(rotation=45)\n",
    "plt.title('Boxplot de precios por símbolo')\n",
    "plt.show()"
   ]
  },
  {
   "cell_type": "markdown",
   "id": "dd613fe6",
   "metadata": {},
   "source": [
    "# training_from_history"
   ]
  },
  {
   "cell_type": "code",
   "execution_count": 9,
   "id": "82d839ed",
   "metadata": {},
   "outputs": [],
   "source": [
    "# Carga del archivo\n",
    "df = pd.read_csv(\"precios_historicos/training_from_history.csv\")"
   ]
  },
  {
   "cell_type": "markdown",
   "id": "9eb25069",
   "metadata": {},
   "source": [
    "## 1️⃣ Describe Data – Descripción inicial del dataset"
   ]
  },
  {
   "cell_type": "code",
   "execution_count": 10,
   "id": "fcf98c09",
   "metadata": {},
   "outputs": [
    {
     "name": "stdout",
     "output_type": "stream",
     "text": [
      "symbol                object\n",
      "date                  object\n",
      "price                float64\n",
      "ma7                  float64\n",
      "rsi14                float64\n",
      "price_future_30d     float64\n",
      "target_return_30d    float64\n",
      "target_up_30d          int64\n",
      "price_future_60d     float64\n",
      "target_return_60d    float64\n",
      "target_up_60d          int64\n",
      "price_future_90d     float64\n",
      "target_return_90d    float64\n",
      "target_up_90d          int64\n",
      "dtype: object\n"
     ]
    }
   ],
   "source": [
    "print(df.dtypes)"
   ]
  },
  {
   "cell_type": "code",
   "execution_count": 11,
   "id": "a77d85f4",
   "metadata": {},
   "outputs": [
    {
     "name": "stdout",
     "output_type": "stream",
     "text": [
      "Cantidad de filas: 327299\n",
      "Cantidad de columnas: 14\n"
     ]
    }
   ],
   "source": [
    "print(f\"Cantidad de filas: {df.shape[0]}\")\n",
    "print(f\"Cantidad de columnas: {df.shape[1]}\")"
   ]
  },
  {
   "cell_type": "markdown",
   "id": "97b136f0",
   "metadata": {},
   "source": [
    "## 2️⃣ Verify Data Quality – Calidad de datos"
   ]
  },
  {
   "cell_type": "code",
   "execution_count": 12,
   "id": "af044a36",
   "metadata": {},
   "outputs": [
    {
     "name": "stdout",
     "output_type": "stream",
     "text": [
      "rsi14                15922\n",
      "ma7                   7370\n",
      "date                     0\n",
      "symbol                   0\n",
      "price                    0\n",
      "price_future_30d         0\n",
      "target_return_30d        0\n",
      "target_up_30d            0\n",
      "price_future_60d         0\n",
      "target_return_60d        0\n",
      "target_up_60d            0\n",
      "price_future_90d         0\n",
      "target_return_90d        0\n",
      "target_up_90d            0\n",
      "dtype: int64\n"
     ]
    }
   ],
   "source": [
    "# Revisión de valores nulos\n",
    "print(df.isna().sum().sort_values(ascending=False))"
   ]
  },
  {
   "cell_type": "code",
   "execution_count": 13,
   "id": "e1f00658",
   "metadata": {},
   "outputs": [
    {
     "name": "stdout",
     "output_type": "stream",
     "text": [
      "Filas duplicadas: 469\n"
     ]
    }
   ],
   "source": [
    "# Revisión de duplicados\n",
    "print(f\"Filas duplicadas: {df.duplicated().sum()}\")"
   ]
  },
  {
   "cell_type": "markdown",
   "id": "623a3201",
   "metadata": {},
   "source": [
    "## 3️⃣ Explore Data – Exploración visual (solo columnas numéricas sin muchos nulos)"
   ]
  },
  {
   "cell_type": "code",
   "execution_count": 14,
   "id": "26549f12",
   "metadata": {},
   "outputs": [
    {
     "data": {
      "text/plain": [
       "count    3.272990e+05\n",
       "mean     2.499859e+03\n",
       "std      5.049896e+04\n",
       "min      2.300457e-20\n",
       "25%      3.640781e-05\n",
       "50%      1.463641e-03\n",
       "75%      1.083870e-01\n",
       "max      3.857650e+06\n",
       "Name: price, dtype: float64"
      ]
     },
     "execution_count": 14,
     "metadata": {},
     "output_type": "execute_result"
    }
   ],
   "source": [
    "# Global\n",
    "df['price'].describe()"
   ]
  },
  {
   "cell_type": "markdown",
   "id": "a4ff9262",
   "metadata": {},
   "source": [
    "### Visualización de distribución de price"
   ]
  },
  {
   "cell_type": "code",
   "execution_count": null,
   "id": "c5c7250c",
   "metadata": {},
   "outputs": [],
   "source": [
    "plt.figure(figsize=(10, 5))\n",
    "sns.histplot(df['price'], bins=100, kde=True)\n",
    "plt.xscale('log')\n",
    "plt.title('Distribución del Precio (escala logarítmica)')\n",
    "plt.xlabel('Precio')\n",
    "plt.ylabel('Frecuencia')\n",
    "plt.grid(True)\n",
    "plt.show()"
   ]
  },
  {
   "cell_type": "markdown",
   "id": "aa564f5a",
   "metadata": {},
   "source": [
    "dataset está dominado por criptomonedas de precio bajo o muy bajo.\n",
    "\n",
    "Puede haber outliers con precios enormes que alteran la media y la desviación estándar.\n",
    "\n",
    "considerar:\n",
    "\n",
    "Hacer análisis separados por rangos de precios.\n",
    "\n",
    "Aplicar transformación logarítmica a price si vas a usarlo en modelos.\n",
    "\n"
   ]
  },
  {
   "cell_type": "markdown",
   "id": "3f73c31c",
   "metadata": {},
   "source": [
    "### Distribucion de columnas"
   ]
  },
  {
   "cell_type": "code",
   "execution_count": null,
   "id": "68d50fb1",
   "metadata": {},
   "outputs": [],
   "source": [
    "columnas_numericas = ['ma7', 'price_future_30d', 'target_return_30d', \n",
    "                      'price_future_60d', 'target_return_60d', \n",
    "                      'price_future_90d', 'target_return_90d']\n",
    "\n",
    "# Filtrar solo columnas sin valores nulos\n",
    "columnas_sin_nulos = [col for col in columnas_numericas if col in df.columns and df[col].isna().sum() == 0]\n",
    "\n",
    "# Calcular el número de filas necesarias (3 columnas por fila)\n",
    "n_cols = 3\n",
    "n_rows = (len(columnas_sin_nulos) // n_cols + (1 if len(columnas_sin_nulos) % n_cols else 0))\n",
    "\n",
    "# Crear la figura con subplots\n",
    "fig, axes = plt.subplots(n_rows, n_cols, figsize=(18, 4*n_rows))\n",
    "fig.tight_layout(pad=4.0)\n",
    "\n",
    "# Aplanar el array de axes para facilitar el acceso\n",
    "axes = axes.flatten()\n",
    "\n",
    "# Generar los histogramas\n",
    "for i, col in enumerate(columnas_sin_nulos):\n",
    "    sns.histplot(df[col], bins=100, kde=True, ax=axes[i])\n",
    "    axes[i].set_title(f\"Distribución de {col}\")\n",
    "    axes[i].grid(True)\n",
    "\n",
    "# Ocultar los ejes vacíos si hay más subplots que columnas\n",
    "for j in range(i+1, len(axes)):\n",
    "    axes[j].axis('off')\n",
    "\n",
    "plt.show()"
   ]
  },
  {
   "cell_type": "markdown",
   "id": "4eedc6a8",
   "metadata": {},
   "source": [
    "| **Variable**         | **Distribución observada**                        | **Interpretación**                                                                          | **Sugerencia**                                                               |\n",
    "| -------------------  | ------------------------------------------------- | ------------------------------------------------------------------------------------------- | ---------------------------------------------------------------------------- |\n",
    "| `price_future_30d`  | Muy sesgada a la derecha (valores extremos altos) | La mayoría de los precios futuros están cerca de 0, con algunos valores muy altos           | Aplicar logaritmo o limitar valores máximos para visualizar mejor            |\n",
    "| `target_return_30d` |  Extremadamente sesgada a la derecha               | Algunos retornos son tan grandes que aplastan la distribución (probables errores)           | Filtrar outliers extremos (>10 o >100) antes de análisis o visualización     |\n",
    "| `price_future_60d`  |  Similar a `price_future_30d`                      | Comportamiento casi idéntico: concentración cerca de 0, algunos precios altísimos           | Log-transformación y limpieza de valores extremos                            |\n",
    "| `target_return_60d` | Misma situación que `target_return_30d`           | Picos altísimos probablemente por errores o valores atípicos                                | Filtrar valores poco realistas, verificar si hay criptos con datos corruptos |\n",
    "| `price_future_90d`  |  Sesgo fuerte a la derecha                         | Patrones consistentes en el tiempo: precios bajos son mayoría                               | Visualizar con log y considerar discretizar para modelos                     |\n",
    "| `target_return_90d` |  Pico masivo en cero, con algunos valores enormes  | Retornos cercanos a 0 para casi todas las criptos, pero con algunos valores fuera de escala | Filtrar para evitar distorsión en modelos o gráficos                         |\n"
   ]
  },
  {
   "cell_type": "markdown",
   "id": "a03ba0f4",
   "metadata": {},
   "source": [
    "### Boxplots por columna (detección visual de outliers)"
   ]
  },
  {
   "cell_type": "code",
   "execution_count": null,
   "id": "9027a95e",
   "metadata": {},
   "outputs": [],
   "source": [
    "# 3. Configurar el layout de los subplots\n",
    "n_cols = 3\n",
    "n_rows = (len(columnas_sin_nulos) + n_cols - 1) // n_cols  # Cálculo más robusto\n",
    "\n",
    "fig, axes = plt.subplots(n_rows, n_cols, figsize=(18, 5*n_rows))\n",
    "fig.tight_layout(pad=3.0)\n",
    "\n",
    "# Aplanar el array de axes si hay múltiples filas\n",
    "axes = axes.ravel() if n_rows > 1 else [axes]\n",
    "\n",
    "# 4. Generar los boxplots\n",
    "for i, col in enumerate(columnas_sin_nulos):\n",
    "    sns.boxplot(x=df[col], ax=axes[i])\n",
    "    axes[i].set_title(f'Boxplot de {col}', pad=10)\n",
    "    axes[i].grid(True, alpha=0.3)\n",
    "    \n",
    "    # Rotar etiquetas del eje x si son muy largas\n",
    "    if len(col) > 15:\n",
    "        axes[i].tick_params(axis='x', rotation=45)\n",
    "\n",
    "# 5. Ocultar ejes vacíos\n",
    "for j in range(i+1, len(axes)):\n",
    "    axes[j].set_visible(False)\n",
    "\n",
    "plt.show()"
   ]
  },
  {
   "cell_type": "markdown",
   "id": "d1370eb9",
   "metadata": {},
   "source": [
    "| Variable            | Distribución en Boxplot              | Interpretación clave                                                                |\n",
    "| ------------------- | ------------------------------------ | ----------------------------------------------------------------------------------- |\n",
    "| `price_future_30d`  | Denso en la base, con outliers altos | La mayoría de los precios están muy bajos. Hay valores extremos hacia arriba.       |\n",
    "| `target_return_30d` | Extremo derecho exagerado            | Hay un retorno **absurdo (≈10¹²)** que rompe toda la escala. Probablemente erróneo. |\n",
    "| `price_future_60d`  | Igual que `price_future_30d`         | Repite el patrón: mayoría muy bajos, pero con algunos precios altísimos.            |\n",
    "| `target_return_60d` | Igual que `target_return_30d`        | Nuevamente hay uno o varios retornos gigantescos que deben revisarse o eliminarse.  |\n",
    "| `price_future_90d`  | Igual a los anteriores               | Muchos outliers hacia arriba.                                                       |\n",
    "| `target_return_90d` | Misma situación                      | Un único valor o unos pocos dominan completamente el gráfico.                       |\n"
   ]
  }
 ],
 "metadata": {
  "kernelspec": {
   "display_name": "base",
   "language": "python",
   "name": "python3"
  },
  "language_info": {
   "codemirror_mode": {
    "name": "ipython",
    "version": 3
   },
   "file_extension": ".py",
   "mimetype": "text/x-python",
   "name": "python",
   "nbconvert_exporter": "python",
   "pygments_lexer": "ipython3",
   "version": "3.13.5"
  }
 },
 "nbformat": 4,
 "nbformat_minor": 5
}
