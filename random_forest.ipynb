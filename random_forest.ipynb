{
 "cells": [
  {
   "cell_type": "markdown",
   "id": "fa86ddb9",
   "metadata": {},
   "source": [
    "# Librerias"
   ]
  },
  {
   "cell_type": "code",
   "execution_count": 12,
   "id": "aa9e7b3d",
   "metadata": {},
   "outputs": [],
   "source": [
    "import pandas as pd\n",
    "from sklearn.ensemble import RandomForestClassifier\n",
    "from sklearn.metrics import classification_report, confusion_matrix, roc_auc_score"
   ]
  },
  {
   "cell_type": "code",
   "execution_count": 13,
   "id": "80258aea",
   "metadata": {},
   "outputs": [],
   "source": [
    "from imblearn.over_sampling import SMOTE"
   ]
  },
  {
   "cell_type": "markdown",
   "id": "56c2a2e5",
   "metadata": {},
   "source": [
    "# Modalamiento"
   ]
  },
  {
   "cell_type": "code",
   "execution_count": 3,
   "id": "8443b6eb",
   "metadata": {},
   "outputs": [],
   "source": [
    "# 1. Cargar los datasets\n",
    "train = pd.read_csv(\"TrainingDataset/train_history.csv\", parse_dates=[\"date\"])\n",
    "test = pd.read_csv(\"TrainingDataset/test_history.csv\", parse_dates=[\"date\"])\n",
    "\n",
    "# 2. Definir features y target\n",
    "features = [\"price\", \"ma7\", \"rsi14\"]  # se puede añadir más \n",
    "target = \"target_up_30d\""
   ]
  },
  {
   "cell_type": "markdown",
   "id": "68a5c472",
   "metadata": {},
   "source": [
    "## Entrenar el modelo y evaluacion"
   ]
  },
  {
   "cell_type": "code",
   "execution_count": 4,
   "id": "5389ce60",
   "metadata": {},
   "outputs": [],
   "source": [
    "X_train = train[features]\n",
    "y_train = train[target]\n",
    "\n",
    "X_test = test[features]\n",
    "y_test = test[target]\n",
    "\n",
    "# 3. Entrenar modelo\n",
    "model = RandomForestClassifier(n_estimators=100, random_state=42)\n",
    "model.fit(X_train, y_train)\n",
    "\n",
    "# 4. Predicción y evaluación\n",
    "y_pred = model.predict(X_test)\n",
    "y_proba = model.predict_proba(X_test)[:, 1]\n"
   ]
  },
  {
   "cell_type": "markdown",
   "id": "9b145d6d",
   "metadata": {},
   "source": [
    "## Reportes de Clasificacion"
   ]
  },
  {
   "cell_type": "code",
   "execution_count": 5,
   "id": "4e3c6856",
   "metadata": {},
   "outputs": [
    {
     "name": "stdout",
     "output_type": "stream",
     "text": [
      "Classification Report:\n",
      "              precision    recall  f1-score   support\n",
      "\n",
      "           0       0.89      0.97      0.93     58230\n",
      "           1       0.16      0.05      0.08      7230\n",
      "\n",
      "    accuracy                           0.87     65460\n",
      "   macro avg       0.53      0.51      0.50     65460\n",
      "weighted avg       0.81      0.87      0.83     65460\n",
      "\n"
     ]
    }
   ],
   "source": [
    "print(\"Classification Report:\")\n",
    "print(classification_report(y_test, y_pred))"
   ]
  },
  {
   "cell_type": "markdown",
   "id": "1976a465",
   "metadata": {},
   "source": [
    "| Clase | Descripción             | Precision | Recall | F1-score | Support |\n",
    "| ----- | ----------------------- | --------- | ------ | -------- | ------- |\n",
    "| 0     | No sube ≥20% en 30 días | 0.89      | 0.97   | 0.93     | 58,230  |\n",
    "| 1     | Sí sube ≥20% en 30 días | 0.16      | 0.05   | 0.08     | 7,230   |\n"
   ]
  },
  {
   "cell_type": "markdown",
   "id": "0f598fa7",
   "metadata": {},
   "source": [
    "| Métrica       | Clase 0 (No sube ≥20%) | Clase 1 (Sí sube ≥20%) | Interpretación                                                                                                                                  |\n",
    "| ------------- | ---------------------- | ---------------------- | ----------------------------------------------------------------------------------------------------------------------------------------------- |\n",
    "| **Precision** | 0.89                   | 0.16                   | De todos los que el modelo predijo como 0 o 1, estos fueron los correctos. Para clase 1, solo el 16% de las predicciones fueron correctas.      |\n",
    "| **Recall**    | 0.97                   | 0.05                   | El 97% de los reales clase 0 fueron detectados, pero solo el 5% de los reales clase 1 se detectaron. El modelo ignora casi todos los positivos. |\n",
    "| **F1-score**  | 0.93                   | 0.08                   | F1 combina precisión y recall. La clase 1 tiene un desempeño pésimo: el modelo falla tanto en detectar como en acertar.                         |\n",
    "| **Support**   | 58,230                 | 7,230                  | Tamaño real de cada clase en los datos. La clase 0 domina (alta desbalance).                                                                    |\n"
   ]
  },
  {
   "cell_type": "markdown",
   "id": "16c406bc",
   "metadata": {},
   "source": [
    "🚨 Conclusión\n",
    "\n",
    "El modelo aprendió a predecir solo la clase mayoritaria (0 = no sube) y ignora los casos importantes (1 = sí sube ≥20%)."
   ]
  },
  {
   "cell_type": "code",
   "execution_count": 6,
   "id": "18c498c0",
   "metadata": {},
   "outputs": [
    {
     "name": "stdout",
     "output_type": "stream",
     "text": [
      "\n",
      "Confusion Matrix:\n",
      "[[56268  1962]\n",
      " [ 6857   373]]\n"
     ]
    }
   ],
   "source": [
    "print(\"\\nConfusion Matrix:\")\n",
    "print(confusion_matrix(y_test, y_pred))"
   ]
  },
  {
   "cell_type": "markdown",
   "id": "ec37e91c",
   "metadata": {},
   "source": [
    "|                            | Predicho: 0       | Predicho: 1    | Total Real |\n",
    "| -------------------------- | ----------------- | -------------- | ---------- |\n",
    "| **Real: 0** (no sube ≥20%) | **56,268** (✅ TN) | 1,962 (❌ FP)   | 58,230     |\n",
    "| **Real: 1** (sí sube ≥20%) | 6,857 (❌ FN)      | **373** (✅ TP) | 7,230      |\n"
   ]
  },
  {
   "cell_type": "markdown",
   "id": "d039a4c6",
   "metadata": {},
   "source": [
    "🧠 Interpretación de cada celda\n",
    "\n",
    "- TN (56,268): Casos correctamente predichos como clase 0 (no sube).\n",
    "\n",
    "- FP (1,962): Casos que no subían pero el modelo dijo que sí (falsos positivos).\n",
    "\n",
    "- FN (6,857): Casos que sí subían pero el modelo no los detectó (falsos negativos). ⚠️\n",
    "\n",
    "- TP (373): Casos correctamente detectados como subida ≥20% (positivos reales)."
   ]
  },
  {
   "cell_type": "markdown",
   "id": "4170ce14",
   "metadata": {},
   "source": [
    "🚨 Conclusión:\n",
    "\n",
    "El modelo predice muy bien la clase 0, pero casi ignora la clase 1.\n",
    "\n",
    "La mayoría de las subidas reales no fueron detectadas (solo 373 de 7,230 → 5.1% recall).\n",
    "\n",
    "Muchos falsos negativos: si tu objetivo es identificar subidas, este modelo aún no es útil para acción."
   ]
  },
  {
   "cell_type": "code",
   "execution_count": 7,
   "id": "8c55c389",
   "metadata": {},
   "outputs": [
    {
     "name": "stdout",
     "output_type": "stream",
     "text": [
      "\n",
      "ROC AUC:\n",
      "0.5433011185908695\n"
     ]
    }
   ],
   "source": [
    "print(\"\\nROC AUC:\")\n",
    "print(roc_auc_score(y_test, y_proba))"
   ]
  },
  {
   "cell_type": "markdown",
   "id": "a497d030",
   "metadata": {},
   "source": [
    "| Valor AUC | Interpretación                                                                                                                                              |\n",
    "| --------- | ----------------------------------------------------------------------------------------------------------------------------------------------------------- |\n",
    "| 0.543     | Muy bajo. El modelo **apenas supera el azar** en distinguir subidas reales. Es señal de que **no está aprendiendo patrones útiles** sobre cuándo sube ≥20%. |\n"
   ]
  },
  {
   "cell_type": "markdown",
   "id": "1ee92a4f",
   "metadata": {},
   "source": [
    "⚠️ Conclusión:\n",
    "\n",
    "Aunque el accuracy global es 87%, el AUC muestra que no está diferenciando bien entre subir/no subir.\n",
    "\n",
    "Esto se debe al desbalance de clases (muchas más clases 0 que 1)."
   ]
  },
  {
   "cell_type": "markdown",
   "id": "17139c3b",
   "metadata": {},
   "source": [
    "## Entrenamiento con class_weight y Predicciones"
   ]
  },
  {
   "cell_type": "code",
   "execution_count": 8,
   "id": "d9fa2544",
   "metadata": {},
   "outputs": [],
   "source": [
    "# 1. Entrenamiento con class_weight\n",
    "clf = RandomForestClassifier(\n",
    "    class_weight='balanced',  # 💡 esta es la clave\n",
    "    random_state=42,\n",
    "    n_jobs=-1\n",
    ")\n",
    "clf.fit(X_train, y_train)\n",
    "\n",
    "# 2. Predicciones\n",
    "y_pred = clf.predict(X_test)\n",
    "y_proba = clf.predict_proba(X_test)[:, 1]"
   ]
  },
  {
   "cell_type": "markdown",
   "id": "c4f78ccb",
   "metadata": {},
   "source": [
    "## Reporte de métricas"
   ]
  },
  {
   "cell_type": "code",
   "execution_count": 9,
   "id": "209309fb",
   "metadata": {},
   "outputs": [
    {
     "name": "stdout",
     "output_type": "stream",
     "text": [
      "Classification Report:\n",
      "               precision    recall  f1-score   support\n",
      "\n",
      "           0       0.89      0.97      0.93     58230\n",
      "           1       0.17      0.05      0.08      7230\n",
      "\n",
      "    accuracy                           0.87     65460\n",
      "   macro avg       0.53      0.51      0.50     65460\n",
      "weighted avg       0.81      0.87      0.84     65460\n",
      "\n"
     ]
    }
   ],
   "source": [
    "\n",
    "print(\"Classification Report:\\n\", classification_report(y_test, y_pred))"
   ]
  },
  {
   "cell_type": "code",
   "execution_count": 10,
   "id": "531d71a4",
   "metadata": {},
   "outputs": [
    {
     "name": "stdout",
     "output_type": "stream",
     "text": [
      "Confusion Matrix:\n",
      " [[56469  1761]\n",
      " [ 6866   364]]\n"
     ]
    }
   ],
   "source": [
    "print(\"Confusion Matrix:\\n\", confusion_matrix(y_test, y_pred))\n"
   ]
  },
  {
   "cell_type": "code",
   "execution_count": 11,
   "id": "6bc5975b",
   "metadata": {},
   "outputs": [
    {
     "name": "stdout",
     "output_type": "stream",
     "text": [
      "ROC AUC:\n",
      " 0.540566140993328\n"
     ]
    }
   ],
   "source": [
    "print(\"ROC AUC:\\n\", roc_auc_score(y_test, y_proba))"
   ]
  },
  {
   "cell_type": "markdown",
   "id": "4d6e7ef1",
   "metadata": {},
   "source": [
    "## SMOTE + Random Forest"
   ]
  },
  {
   "cell_type": "markdown",
   "id": "0c1e176c",
   "metadata": {},
   "source": [
    "### verificar y limpiar los NaN en X_train"
   ]
  },
  {
   "cell_type": "code",
   "execution_count": 15,
   "id": "72adb01d",
   "metadata": {},
   "outputs": [
    {
     "name": "stdout",
     "output_type": "stream",
     "text": [
      "price        0\n",
      "ma7       7119\n",
      "rsi14    15386\n",
      "dtype: int64\n"
     ]
    }
   ],
   "source": [
    "# Ver cuántos nulos hay en X_train\n",
    "print(X_train.isnull().sum())"
   ]
  },
  {
   "cell_type": "code",
   "execution_count": 16,
   "id": "c399a9d4",
   "metadata": {},
   "outputs": [],
   "source": [
    "# Opción rápida: eliminar filas con NaN\n",
    "X_train_clean = X_train.dropna()\n",
    "y_train_clean = y_train.loc[X_train_clean.index]"
   ]
  },
  {
   "cell_type": "markdown",
   "id": "f623eb32",
   "metadata": {},
   "source": [
    "### Aplicar SMOTE"
   ]
  },
  {
   "cell_type": "code",
   "execution_count": 18,
   "id": "66ae8fb7",
   "metadata": {},
   "outputs": [],
   "source": [
    "# 1. Aplica SMOTE al conjunto de entrenamiento\n",
    "smote = SMOTE(random_state=42)\n",
    "X_train_bal, y_train_bal = smote.fit_resample(X_train_clean, y_train_clean)\n",
    "\n",
    "# 2. Entrena el modelo\n",
    "clf = RandomForestClassifier(\n",
    "    random_state=42,\n",
    "    n_jobs=-1\n",
    ")\n",
    "clf.fit(X_train_bal, y_train_bal)\n",
    "\n",
    "# 3. Predicciones\n",
    "y_pred = clf.predict(X_test)\n",
    "y_proba = clf.predict_proba(X_test)[:, 1]"
   ]
  },
  {
   "cell_type": "markdown",
   "id": "98218e4f",
   "metadata": {},
   "source": [
    "### Reportes"
   ]
  },
  {
   "cell_type": "code",
   "execution_count": 19,
   "id": "c6e31d94",
   "metadata": {},
   "outputs": [
    {
     "name": "stdout",
     "output_type": "stream",
     "text": [
      "📌 Classification Report:\n",
      "              precision    recall  f1-score   support\n",
      "\n",
      "           0       0.90      0.60      0.72     58230\n",
      "           1       0.12      0.44      0.19      7230\n",
      "\n",
      "    accuracy                           0.58     65460\n",
      "   macro avg       0.51      0.52      0.45     65460\n",
      "weighted avg       0.81      0.58      0.66     65460\n",
      "\n"
     ]
    }
   ],
   "source": [
    "# Reporte de métricas\n",
    "print(\"📌 Classification Report:\")\n",
    "print(classification_report(y_test, y_pred))"
   ]
  },
  {
   "cell_type": "markdown",
   "id": "74e54682",
   "metadata": {},
   "source": [
    "| Clase             | Precision | Recall | F1-score | Soporte | Interpretación                                                                                                                                          |\n",
    "| ----------------- | --------- | ------ | -------- | ------- | ------------------------------------------------------------------------------------------------------------------------------------------------------- |\n",
    "| 0 (no subida)     | 0.90      | 0.60   | 0.72     | 58,230  | **Muy precisa**, pero ahora **se confunde más** que antes (baja el recall de 0.97 a 0.60). Detecta bien las negativas pero deja pasar muchas positivas. |\n",
    "| 1 (subida >= 20%) | 0.12      | 0.44   | 0.19     | 7,230   | **Baja precisión**, pero **recall mejoró mucho** (de 0.05 a 0.44). El modelo ahora detecta más clases 1 aunque muchas son falsos positivos.             |\n",
    "| **Accuracy**      | -         | -      | **0.58** | -       | Bajó bastante, pero es esperable: **hay más equilibrio entre clases ahora**.                                                                            |\n",
    "| **Macro avg**     | 0.51      | 0.52   | 0.45     | -       | Mejor que antes (0.53/0.51/0.50), refleja que **ambas clases están más equilibradas**.                                                                  |\n",
    "| **Weighted avg**  | 0.81      | 0.58   | 0.66     | -       | Menor que antes por caída en clase 0, pero más justo.                                                                                                   |\n"
   ]
  },
  {
   "cell_type": "code",
   "execution_count": 20,
   "id": "191b65cf",
   "metadata": {},
   "outputs": [
    {
     "name": "stdout",
     "output_type": "stream",
     "text": [
      "📌 Confusion Matrix:\n",
      "[[34823 23407]\n",
      " [ 4014  3216]]\n"
     ]
    }
   ],
   "source": [
    "# Matriz de confusión\n",
    "print(\"📌 Confusion Matrix:\")\n",
    "print(confusion_matrix(y_test, y_pred))"
   ]
  },
  {
   "cell_type": "markdown",
   "id": "e392c6bf",
   "metadata": {},
   "source": [
    "| Métrica                  | Valor  | Explicación                                                                    |\n",
    "| ------------------------ | ------ | ------------------------------------------------------------------------------ |\n",
    "| **True Positives (TP)**  | 3,216  | Casos de clase 1 correctamente predichos como 1 (subidas detectadas).          |\n",
    "| **False Positives (FP)** | 23,407 | Casos de clase 0 que fueron incorrectamente predichos como 1 (falsas alarmas). |\n",
    "| **True Negatives (TN)**  | 34,823 | Casos de clase 0 correctamente predichos como 0.                               |\n",
    "| **False Negatives (FN)** | 4,014  | Casos de clase 1 que no se detectaron (falsos negativos).                      |\n"
   ]
  },
  {
   "cell_type": "markdown",
   "id": "97ed7188",
   "metadata": {},
   "source": [
    "✅ Conclusiones:\n",
    "\n",
    "- El modelo detecta 3,216 subidas reales (TP), mucho mejor que antes (solo 373 con class_weight).\n",
    "\n",
    "- Pero también se equivoca más prediciendo subidas cuando no las hay (23,407 FP).\n",
    "\n",
    "- Este es el efecto esperado del SMOTE: más sensibilidad, menos precisión.\n",
    "\n",
    "- Esto mejora el recall de la clase 1 (44%) a cambio de bajar el recall de la clase 0 (60%)."
   ]
  },
  {
   "cell_type": "code",
   "execution_count": 21,
   "id": "2ae7389e",
   "metadata": {},
   "outputs": [
    {
     "name": "stdout",
     "output_type": "stream",
     "text": [
      "📌 ROC AUC Score:\n",
      "0.5386167933760077\n"
     ]
    }
   ],
   "source": [
    "# AUC-ROC\n",
    "print(\"📌 ROC AUC Score:\")\n",
    "print(roc_auc_score(y_test, y_proba))"
   ]
  },
  {
   "cell_type": "markdown",
   "id": "551dac80",
   "metadata": {},
   "source": [
    "| Métrica           | Valor    | Interpretación                                    |\n",
    "| ----------------- | -------- | ------------------------------------------------- |\n",
    "| **AUC-ROC Score** | `0.5386` | El modelo apenas supera el azar (que sería 0.50). |\n"
   ]
  },
  {
   "cell_type": "markdown",
   "id": "b4e0f9e8",
   "metadata": {},
   "source": [
    "📉 ¿Qué significa esto?\n",
    "\n",
    "El valor 0.5386 indica que el modelo tiene poca capacidad para distinguir entre clases 0 y 1.\n",
    "\n",
    "En un problema desbalanceado, es común que un modelo parezca “bueno” por accuracy, pero su AUC revela que casi no diferencia entre positivos y negativos reales.\n",
    "\n",
    "En este caso, incluso con SMOTE, el modelo aumentó recall pero no mejoró sustancialmente su capacidad de discriminación."
   ]
  },
  {
   "cell_type": "code",
   "execution_count": 24,
   "id": "c768ff33",
   "metadata": {},
   "outputs": [
    {
     "name": "stdout",
     "output_type": "stream",
     "text": [
      "✅ Archivo predicciones.csv guardado.\n"
     ]
    }
   ],
   "source": [
    "import pandas as pd\n",
    "\n",
    "# 1. Carga el dataset original\n",
    "df = pd.read_csv(\"TrainingDataset/training_from_history.csv\")\n",
    "\n",
    "# 2. Asegúrate de usar las mismas features que en el entrenamiento\n",
    "features = ['price', 'ma7', 'rsi14']\n",
    "X = df[features].copy()\n",
    "\n",
    "# 3. Elimina filas con nulos en las features si es necesario\n",
    "X = X.dropna()\n",
    "df = df.loc[X.index]  # sincroniza índices\n",
    "\n",
    "# 4. Genera las predicciones de probabilidad\n",
    "df['proba_up_30d'] = clf.predict_proba(X)[:, 1]\n",
    "\n",
    "# 5. Prepara columnas necesarias para la app\n",
    "df['proba_up_60d'] = df['proba_up_30d']  # si aún no entrenas otros modelos\n",
    "df['proba_up_90d'] = df['proba_up_30d']\n",
    "\n",
    "cols_finales = [\n",
    "    'symbol', 'price',\n",
    "    'proba_up_30d', 'target_return_30d',\n",
    "    'proba_up_60d', 'target_return_60d',\n",
    "    'proba_up_90d', 'target_return_90d'\n",
    "]\n",
    "\n",
    "df_app = df[cols_finales]\n",
    "df_app.to_csv(\"data/predicciones.csv\", index=False)\n",
    "print(\"✅ Archivo predicciones.csv guardado.\")\n"
   ]
  },
  {
   "cell_type": "code",
   "execution_count": 26,
   "id": "ce15b622",
   "metadata": {},
   "outputs": [
    {
     "name": "stdout",
     "output_type": "stream",
     "text": [
      "✅ Archivo 'narrativas.csv' generado. Rellénalo con IA, Videojuegos, RWA o Memes.\n"
     ]
    }
   ],
   "source": [
    "import pandas as pd\n",
    "\n",
    "# Cargar los symbols únicos del dataset\n",
    "df_narr = pd.read_csv(\"data/narrativas.csv\")\n",
    "df_narr['symbol'] = df_narr['symbol'].str.replace('$', '', regex=False)\n",
    "\n",
    "symbols_unicos = df['symbol'].unique()\n",
    "\n",
    "# Crear DataFrame base de narrativas\n",
    "df_narr = pd.DataFrame({\n",
    "    'symbol': symbols_unicos,\n",
    "    'narrativa': ''  # ← Aquí tú completas manualmente\n",
    "})\n",
    "\n",
    "# Guardar CSV para completar\n",
    "df_narr.to_csv(\"data/narrativas.csv\", index=False)\n",
    "print(\"✅ Archivo 'narrativas.csv' generado. Rellénalo con IA, Videojuegos, RWA o Memes.\")\n"
   ]
  }
 ],
 "metadata": {
  "kernelspec": {
   "display_name": "base",
   "language": "python",
   "name": "python3"
  },
  "language_info": {
   "codemirror_mode": {
    "name": "ipython",
    "version": 3
   },
   "file_extension": ".py",
   "mimetype": "text/x-python",
   "name": "python",
   "nbconvert_exporter": "python",
   "pygments_lexer": "ipython3",
   "version": "3.13.5"
  }
 },
 "nbformat": 4,
 "nbformat_minor": 5
}
